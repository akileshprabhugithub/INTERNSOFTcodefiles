{
  "nbformat": 4,
  "nbformat_minor": 0,
  "metadata": {
    "colab": {
      "name": "Welcome To Colaboratory",
      "provenance": [],
      "collapsed_sections": [],
      "include_colab_link": true
    },
    "kernelspec": {
      "display_name": "Python 3",
      "name": "python3"
    }
  },
  "cells": [
    {
      "cell_type": "markdown",
      "metadata": {
        "id": "view-in-github",
        "colab_type": "text"
      },
      "source": [
        "<a href=\"https://colab.research.google.com/github/akileshprabhugithub/INTERNSOFTcodefiles/blob/master/SESSION5codefile.ipynb\" target=\"_parent\"><img src=\"https://colab.research.google.com/assets/colab-badge.svg\" alt=\"Open In Colab\"/></a>"
      ]
    },
    {
      "cell_type": "markdown",
      "metadata": {
        "id": "oV-g6y442oke",
        "colab_type": "text"
      },
      "source": [
        "modules and packages"
      ]
    },
    {
      "cell_type": "code",
      "metadata": {
        "id": "mw5xhQbN2ou4",
        "colab_type": "code",
        "colab": {}
      },
      "source": [
        "import math"
      ],
      "execution_count": 7,
      "outputs": []
    },
    {
      "cell_type": "code",
      "metadata": {
        "id": "gCOkT7nb2ox0",
        "colab_type": "code",
        "colab": {
          "base_uri": "https://localhost:8080/",
          "height": 34
        },
        "outputId": "3a7ee78c-b507-47b9-9ed4-434425916eaf"
      },
      "source": [
        "math.ceil(2.4)"
      ],
      "execution_count": 8,
      "outputs": [
        {
          "output_type": "execute_result",
          "data": {
            "text/plain": [
              "3"
            ]
          },
          "metadata": {
            "tags": []
          },
          "execution_count": 8
        }
      ]
    },
    {
      "cell_type": "code",
      "metadata": {
        "id": "WmvTp1bk2o0b",
        "colab_type": "code",
        "colab": {
          "base_uri": "https://localhost:8080/",
          "height": 34
        },
        "outputId": "07b53dea-d298-4436-f3f5-4f663aee94c6"
      },
      "source": [
        "math.floor(2.4)"
      ],
      "execution_count": 9,
      "outputs": [
        {
          "output_type": "execute_result",
          "data": {
            "text/plain": [
              "2"
            ]
          },
          "metadata": {
            "tags": []
          },
          "execution_count": 9
        }
      ]
    },
    {
      "cell_type": "markdown",
      "metadata": {
        "id": "o9QpJwcH298r",
        "colab_type": "text"
      },
      "source": [
        "exploring built-in modules"
      ]
    },
    {
      "cell_type": "code",
      "metadata": {
        "id": "bdrXU-C_2o26",
        "colab_type": "code",
        "colab": {
          "base_uri": "https://localhost:8080/",
          "height": 54
        },
        "outputId": "3831df74-9aaa-42c2-f713-652bbcabd8d1"
      },
      "source": [
        "print(dir(math))"
      ],
      "execution_count": 10,
      "outputs": [
        {
          "output_type": "stream",
          "text": [
            "['__doc__', '__loader__', '__name__', '__package__', '__spec__', 'acos', 'acosh', 'asin', 'asinh', 'atan', 'atan2', 'atanh', 'ceil', 'copysign', 'cos', 'cosh', 'degrees', 'e', 'erf', 'erfc', 'exp', 'expm1', 'fabs', 'factorial', 'floor', 'fmod', 'frexp', 'fsum', 'gamma', 'gcd', 'hypot', 'inf', 'isclose', 'isfinite', 'isinf', 'isnan', 'ldexp', 'lgamma', 'log', 'log10', 'log1p', 'log2', 'modf', 'nan', 'pi', 'pow', 'radians', 'sin', 'sinh', 'sqrt', 'tan', 'tanh', 'tau', 'trunc']\n"
          ],
          "name": "stdout"
        }
      ]
    },
    {
      "cell_type": "code",
      "metadata": {
        "id": "nTc-kDsy2o5j",
        "colab_type": "code",
        "colab": {
          "base_uri": "https://localhost:8080/",
          "height": 175
        },
        "outputId": "d4226fa3-629d-457c-e174-78be87c836f4"
      },
      "source": [
        "help(math.ceil)"
      ],
      "execution_count": 11,
      "outputs": [
        {
          "output_type": "stream",
          "text": [
            "Help on built-in function ceil in module math:\n",
            "\n",
            "ceil(...)\n",
            "    ceil(x)\n",
            "    \n",
            "    Return the ceiling of x as an Integral.\n",
            "    This is the smallest integer >= x.\n",
            "\n"
          ],
          "name": "stdout"
        }
      ]
    },
    {
      "cell_type": "markdown",
      "metadata": {
        "id": "gWfRaadS3SNC",
        "colab_type": "text"
      },
      "source": [
        "writing modules #two ways to import user-defined modules and packages"
      ]
    },
    {
      "cell_type": "code",
      "metadata": {
        "id": "2zhmAfOf2o8E",
        "colab_type": "code",
        "colab": {}
      },
      "source": [
        "import foo.bar"
      ],
      "execution_count": null,
      "outputs": []
    },
    {
      "cell_type": "code",
      "metadata": {
        "id": "RLrsWAUW2pBi",
        "colab_type": "code",
        "colab": {}
      },
      "source": [
        "from foo import bar"
      ],
      "execution_count": null,
      "outputs": []
    },
    {
      "cell_type": "code",
      "metadata": {
        "id": "Y7cOGJII2pEx",
        "colab_type": "code",
        "colab": {}
      },
      "source": [
        "__init__.py:\n",
        "__all__ = [\"bar\"]"
      ],
      "execution_count": null,
      "outputs": []
    },
    {
      "cell_type": "markdown",
      "metadata": {
        "id": "MSwPSqA84tlw",
        "colab_type": "text"
      },
      "source": [
        " errors and exception handling"
      ]
    },
    {
      "cell_type": "code",
      "metadata": {
        "id": "xL-17Uzw2pIv",
        "colab_type": "code",
        "colab": {
          "base_uri": "https://localhost:8080/",
          "height": 34
        },
        "outputId": "ff4e907a-45e6-4cac-dc43-ca1356b1a4e5"
      },
      "source": [
        "print('hello')"
      ],
      "execution_count": 15,
      "outputs": [
        {
          "output_type": "stream",
          "text": [
            "hello\n"
          ],
          "name": "stdout"
        }
      ]
    },
    {
      "cell_type": "markdown",
      "metadata": {
        "id": "4tpZJW1j46Z5",
        "colab_type": "text"
      },
      "source": [
        " try and except"
      ]
    },
    {
      "cell_type": "code",
      "metadata": {
        "id": "HXjt5ptK2pLx",
        "colab_type": "code",
        "colab": {
          "base_uri": "https://localhost:8080/",
          "height": 34
        },
        "outputId": "f1b09dd3-95d4-4cee-f456-45d2fc50a628"
      },
      "source": [
        "try:\n",
        "    f = open('testfile.txt', 'w')\n",
        "    f.write('exception handling')\n",
        "except IOError:\n",
        "    print('error: could not find file or read data')\n",
        "else:\n",
        "    print('content successfully written')\n",
        "    f.close"
      ],
      "execution_count": 16,
      "outputs": [
        {
          "output_type": "stream",
          "text": [
            "content successfully written\n"
          ],
          "name": "stdout"
        }
      ]
    },
    {
      "cell_type": "code",
      "metadata": {
        "id": "zxjYVjQi2pO1",
        "colab_type": "code",
        "colab": {
          "base_uri": "https://localhost:8080/",
          "height": 34
        },
        "outputId": "77799544-db10-42c0-ec01-6baa73f29a5e"
      },
      "source": [
        "try:\n",
        "    f = open('testfile.txt', 'r')\n",
        "    f.write('checking again')\n",
        "except IOError:\n",
        "    print('error: could not find file or read data')\n",
        "else:\n",
        "    print('content successfully written')\n",
        "    f.close"
      ],
      "execution_count": 17,
      "outputs": [
        {
          "output_type": "stream",
          "text": [
            "error: could not find file or read data\n"
          ],
          "name": "stdout"
        }
      ]
    },
    {
      "cell_type": "code",
      "metadata": {
        "id": "b9wNtI-U2pRj",
        "colab_type": "code",
        "colab": {
          "base_uri": "https://localhost:8080/",
          "height": 34
        },
        "outputId": "a67a4314-1d57-4cda-b587-8e1b436553be"
      },
      "source": [
        "try:\n",
        "    f = open('testfile.txt','w')\n",
        "    f.write(\"test write this\")\n",
        "finally:\n",
        "    print('always execute finally code blocks')"
      ],
      "execution_count": 19,
      "outputs": [
        {
          "output_type": "stream",
          "text": [
            "always execute finally code blocks\n"
          ],
          "name": "stdout"
        }
      ]
    },
    {
      "cell_type": "code",
      "metadata": {
        "id": "Vk3Hteeg2pUW",
        "colab_type": "code",
        "colab": {}
      },
      "source": [
        "def askint():\n",
        "    try:\n",
        "        val = int(input('please enter a number:'))\n",
        "    except:\n",
        "        print('oops looks like you didnt enter an integer!')\n",
        "    finally:\n",
        "        print('finally executed')\n",
        "        print(val)"
      ],
      "execution_count": 31,
      "outputs": []
    },
    {
      "cell_type": "code",
      "metadata": {
        "id": "zMC8pBEe2pX8",
        "colab_type": "code",
        "colab": {
          "base_uri": "https://localhost:8080/",
          "height": 69
        },
        "outputId": "47ae1d58-d3ef-4da1-b425-643cd545c344"
      },
      "source": [
        "askint()"
      ],
      "execution_count": 32,
      "outputs": [
        {
          "output_type": "stream",
          "text": [
            "please enter a number:123\n",
            "finally executed\n",
            "123\n"
          ],
          "name": "stdout"
        }
      ]
    },
    {
      "cell_type": "code",
      "metadata": {
        "id": "udhGg4xj2pdB",
        "colab_type": "code",
        "colab": {
          "base_uri": "https://localhost:8080/",
          "height": 426
        },
        "outputId": "52db95b3-2d97-484a-9cf4-b537d3586b62"
      },
      "source": [
        "askint()"
      ],
      "execution_count": 34,
      "outputs": [
        {
          "output_type": "stream",
          "text": [
            "please enter a number:super\n",
            "oops looks like you didnt enter an integer!\n",
            "finally executed\n"
          ],
          "name": "stdout"
        },
        {
          "output_type": "error",
          "ename": "UnboundLocalError",
          "evalue": "ignored",
          "traceback": [
            "\u001b[0;31m---------------------------------------------------------------------------\u001b[0m",
            "\u001b[0;31mUnboundLocalError\u001b[0m                         Traceback (most recent call last)",
            "\u001b[0;32m<ipython-input-34-cc291aa76c10>\u001b[0m in \u001b[0;36m<module>\u001b[0;34m()\u001b[0m\n\u001b[0;32m----> 1\u001b[0;31m \u001b[0maskint\u001b[0m\u001b[0;34m(\u001b[0m\u001b[0;34m)\u001b[0m\u001b[0;34m\u001b[0m\u001b[0;34m\u001b[0m\u001b[0m\n\u001b[0m",
            "\u001b[0;32m<ipython-input-31-0ba036e73036>\u001b[0m in \u001b[0;36maskint\u001b[0;34m()\u001b[0m\n\u001b[1;32m      6\u001b[0m     \u001b[0;32mfinally\u001b[0m\u001b[0;34m:\u001b[0m\u001b[0;34m\u001b[0m\u001b[0;34m\u001b[0m\u001b[0m\n\u001b[1;32m      7\u001b[0m         \u001b[0mprint\u001b[0m\u001b[0;34m(\u001b[0m\u001b[0;34m'finally executed'\u001b[0m\u001b[0;34m)\u001b[0m\u001b[0;34m\u001b[0m\u001b[0;34m\u001b[0m\u001b[0m\n\u001b[0;32m----> 8\u001b[0;31m         \u001b[0mprint\u001b[0m\u001b[0;34m(\u001b[0m\u001b[0mval\u001b[0m\u001b[0;34m)\u001b[0m\u001b[0;34m\u001b[0m\u001b[0;34m\u001b[0m\u001b[0m\n\u001b[0m",
            "\u001b[0;31mUnboundLocalError\u001b[0m: local variable 'val' referenced before assignment"
          ]
        }
      ]
    },
    {
      "cell_type": "code",
      "metadata": {
        "id": "xsp5GywM2pf6",
        "colab_type": "code",
        "colab": {}
      },
      "source": [
        "def askint():\n",
        "    try:        \n",
        "        val = int(input('please enter a number:'))\n",
        "    except:\n",
        "        print('oops looks like you didnt enter an integer!')    \n",
        "        val = int(input('try again- please enter an integer'))\n",
        "    finally:\n",
        "        print('finally executed')\n",
        "        print(val)"
      ],
      "execution_count": 38,
      "outputs": []
    },
    {
      "cell_type": "code",
      "metadata": {
        "id": "GSILKIGo2piJ",
        "colab_type": "code",
        "colab": {
          "base_uri": "https://localhost:8080/",
          "height": 69
        },
        "outputId": "ed435a6e-5f9b-4468-d2b5-9eb8eff167af"
      },
      "source": [
        "askint()"
      ],
      "execution_count": 39,
      "outputs": [
        {
          "output_type": "stream",
          "text": [
            "please enter a number:123\n",
            "finally executed\n",
            "123\n"
          ],
          "name": "stdout"
        }
      ]
    },
    {
      "cell_type": "code",
      "metadata": {
        "id": "UdIDGLXa2pl6",
        "colab_type": "code",
        "colab": {
          "base_uri": "https://localhost:8080/",
          "height": 123
        },
        "outputId": "06e7d6d6-f412-4bc6-c563-d418fd28e7b3"
      },
      "source": [
        "askint()"
      ],
      "execution_count": 41,
      "outputs": [
        {
          "output_type": "stream",
          "text": [
            "please enter a number:marvel\n",
            "oops looks like you didnt enter an integer!\n",
            "try again- please enter an integer123\n",
            "finally executed\n",
            "123\n"
          ],
          "name": "stdout"
        }
      ]
    },
    {
      "cell_type": "code",
      "metadata": {
        "id": "0hU4I9zo2pov",
        "colab_type": "code",
        "colab": {}
      },
      "source": [
        "def askint():\n",
        "    while True:\n",
        "        try:\n",
        "            val = int(input('please enter an integer:'))\n",
        "        except:\n",
        "            print('oops looks like you didnt enter an integer')\n",
        "            continue\n",
        "        else:\n",
        "            print('yep that is an integer')\n",
        "            break\n",
        "        finally:\n",
        "            print('finally, i executed')\n",
        "        val"
      ],
      "execution_count": 43,
      "outputs": []
    },
    {
      "cell_type": "code",
      "metadata": {
        "id": "VVHD_fuA2psm",
        "colab_type": "code",
        "colab": {
          "base_uri": "https://localhost:8080/",
          "height": 295
        },
        "outputId": "98db42eb-8701-4e7c-a144-916229ce46ee"
      },
      "source": [
        "askint()"
      ],
      "execution_count": 44,
      "outputs": [
        {
          "output_type": "stream",
          "text": [
            "please enter an integer:afgjj\n",
            "oops looks like you didnt enter an integer\n",
            "finally, i executed\n",
            "please enter an integer:sdgjf\n",
            "oops looks like you didnt enter an integer\n",
            "finally, i executed\n",
            "please enter an integer:sruhft\n",
            "oops looks like you didnt enter an integer\n",
            "finally, i executed\n",
            "please enter an integer:dtgdr\n",
            "oops looks like you didnt enter an integer\n",
            "finally, i executed\n",
            "please enter an integer:1234\n",
            "yep that is an integer\n",
            "finally, i executed\n"
          ],
          "name": "stdout"
        }
      ]
    },
    {
      "cell_type": "markdown",
      "metadata": {
        "id": "F9IaOTJMCtfR",
        "colab_type": "text"
      },
      "source": [
        " database connectivity and operations using python"
      ]
    },
    {
      "cell_type": "code",
      "metadata": {
        "id": "nl05J5022pyJ",
        "colab_type": "code",
        "colab": {
          "base_uri": "https://localhost:8080/",
          "height": 34
        },
        "outputId": "b2a5edc7-68af-4f1e-f221-4c88a9823e84"
      },
      "source": [
        "#!/user/bin/python\n",
        " \n",
        "import sqlite3\n",
        " \n",
        "db = sqlite3.connect('my_database1.db')\n",
        " \n",
        "db.execute(\"drop table if exists grades1\")\n",
        " \n",
        "db.execute(\"create table grades1(id int, name text, score int)\")\n",
        " \n",
        "db.execute(\"insert into grades1(id, name, score) values(101, 'john', 99)\")\n",
        "db.execute(\"insert into grades1(id, name, score) values(102, 'gary', 85)\")\n",
        "db.execute(\"insert into grades1(id, name, score) values(103, 'cindy', 80)\")\n",
        "db.execute(\"insert into grades1(id, name, score) values(104, 'ash', 95)\")\n",
        "db.execute(\"insert into grades1(id, name, score) values(105, 'brock', 88)\")"
      ],
      "execution_count": 46,
      "outputs": [
        {
          "output_type": "execute_result",
          "data": {
            "text/plain": [
              "<sqlite3.Cursor at 0x7f45b803cdc0>"
            ]
          },
          "metadata": {
            "tags": []
          },
          "execution_count": 46
        }
      ]
    },
    {
      "cell_type": "code",
      "metadata": {
        "id": "bavEqmAv2p2b",
        "colab_type": "code",
        "colab": {}
      },
      "source": [
        "db.commit()"
      ],
      "execution_count": 47,
      "outputs": []
    },
    {
      "cell_type": "code",
      "metadata": {
        "id": "fBXQbDWi2p0v",
        "colab_type": "code",
        "colab": {
          "base_uri": "https://localhost:8080/",
          "height": 140
        },
        "outputId": "0235b38e-3e3b-4398-d5dd-1c20853913fd"
      },
      "source": [
        "results = db.execute(\"select * from grades1 order by id\")\n",
        "for row in results:\n",
        "    print(row)\n",
        "print(\"-\"*60)"
      ],
      "execution_count": 49,
      "outputs": [
        {
          "output_type": "stream",
          "text": [
            "(101, 'john', 99)\n",
            "(102, 'gary', 85)\n",
            "(103, 'cindy', 80)\n",
            "(104, 'ash', 95)\n",
            "(105, 'brock', 88)\n",
            "------------------------------------------------------------\n"
          ],
          "name": "stdout"
        }
      ]
    },
    {
      "cell_type": "code",
      "metadata": {
        "id": "s3aO0VCE2pwK",
        "colab_type": "code",
        "colab": {
          "base_uri": "https://localhost:8080/",
          "height": 71
        },
        "outputId": "2f5ba8da-7047-478e-dc94-12f80c449721"
      },
      "source": [
        "results = db.execute(\"select * from grades1 where name = 'ash' \")\n",
        "for row in results:\n",
        "    print(row)\n",
        "print('-' *60)"
      ],
      "execution_count": 50,
      "outputs": [
        {
          "output_type": "stream",
          "text": [
            "(104, 'ash', 95)\n",
            "------------------------------------------------------------\n"
          ],
          "name": "stdout"
        }
      ]
    },
    {
      "cell_type": "code",
      "metadata": {
        "id": "vO2_ixuw2pbj",
        "colab_type": "code",
        "colab": {
          "base_uri": "https://localhost:8080/",
          "height": 89
        },
        "outputId": "112f9e0e-1971-4a4c-c4df-3002777691c6"
      },
      "source": [
        "results = db.execute(\"select * from grades1 where score >= 90 \")\n",
        "for row in results:\n",
        "    print(row)\n",
        "print('-' *60)"
      ],
      "execution_count": 56,
      "outputs": [
        {
          "output_type": "stream",
          "text": [
            "(101, 'john', 99)\n",
            "(104, 'ash', 95)\n",
            "------------------------------------------------------------\n"
          ],
          "name": "stdout"
        }
      ]
    },
    {
      "cell_type": "code",
      "metadata": {
        "id": "lfnFBfyB2pWl",
        "colab_type": "code",
        "colab": {
          "base_uri": "https://localhost:8080/",
          "height": 140
        },
        "outputId": "e6da0be3-20e1-472d-d5e1-a73db591f2df"
      },
      "source": [
        " results = db.execute(\"select name,score from grades1 order by score desc\")\n",
        "for row in results:\n",
        "    print(row)\n",
        "print(\"-\"*60)"
      ],
      "execution_count": 61,
      "outputs": [
        {
          "output_type": "stream",
          "text": [
            "('john', 99)\n",
            "('ash', 95)\n",
            "('brock', 88)\n",
            "('gary', 85)\n",
            "('cindy', 80)\n",
            "------------------------------------------------------------\n"
          ],
          "name": "stdout"
        }
      ]
    },
    {
      "cell_type": "code",
      "metadata": {
        "id": "MayAP-nx2pED",
        "colab_type": "code",
        "colab": {
          "base_uri": "https://localhost:8080/",
          "height": 140
        },
        "outputId": "9dc62651-32e1-453d-dfc3-00fb2a801d26"
      },
      "source": [
        "results = db.execute(\"select name, score from grades1 order by score\")\n",
        "for row in results:\n",
        "    print(row)\n",
        "print(\"-\"*60)"
      ],
      "execution_count": 62,
      "outputs": [
        {
          "output_type": "stream",
          "text": [
            "('cindy', 80)\n",
            "('gary', 85)\n",
            "('brock', 88)\n",
            "('ash', 95)\n",
            "('john', 99)\n",
            "------------------------------------------------------------\n"
          ],
          "name": "stdout"
        }
      ]
    },
    {
      "cell_type": "code",
      "metadata": {
        "id": "jfSPUscT2o_7",
        "colab_type": "code",
        "colab": {
          "base_uri": "https://localhost:8080/",
          "height": 103
        },
        "outputId": "dada9e04-7e45-46ab-98ca-f7566da7f187"
      },
      "source": [
        "results = db.execute(\"select name, score from grades1 order by score\")\n",
        "for row in results:\n",
        "    print(row)"
      ],
      "execution_count": 64,
      "outputs": [
        {
          "output_type": "stream",
          "text": [
            "('cindy', 80)\n",
            "('gary', 85)\n",
            "('brock', 88)\n",
            "('ash', 95)\n",
            "('john', 99)\n"
          ],
          "name": "stdout"
        }
      ]
    },
    {
      "cell_type": "code",
      "metadata": {
        "id": "ipk7xKXw2o-8",
        "colab_type": "code",
        "colab": {}
      },
      "source": [
        ""
      ],
      "execution_count": null,
      "outputs": []
    }
  ]
}