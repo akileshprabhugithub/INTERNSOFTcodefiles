{
  "nbformat": 4,
  "nbformat_minor": 0,
  "metadata": {
    "colab": {
      "name": "Welcome To Colaboratory",
      "provenance": [],
      "collapsed_sections": [],
      "include_colab_link": true
    },
    "kernelspec": {
      "display_name": "Python 3",
      "name": "python3"
    }
  },
  "cells": [
    {
      "cell_type": "markdown",
      "metadata": {
        "id": "view-in-github",
        "colab_type": "text"
      },
      "source": [
        "<a href=\"https://colab.research.google.com/github/akileshprabhugithub/INTERNSOFTcodefiles/blob/master/SESSION13_Project1_LinearRegression.ipynb\" target=\"_parent\"><img src=\"https://colab.research.google.com/assets/colab-badge.svg\" alt=\"Open In Colab\"/></a>"
      ]
    },
    {
      "cell_type": "markdown",
      "metadata": {
        "id": "R7cVZwrERRDa",
        "colab_type": "text"
      },
      "source": [
        "linear regression (continuous data)"
      ]
    },
    {
      "cell_type": "code",
      "metadata": {
        "id": "rbzdm7jMRRNQ",
        "colab_type": "code",
        "colab": {}
      },
      "source": [
        "import numpy as np\n",
        "import pandas as pd\n",
        "import matplotlib.pyplot as plt\n",
        " \n",
        "#allows plot to directly appear in the notebook\n",
        "%matplotlib inline"
      ],
      "execution_count": 1,
      "outputs": []
    },
    {
      "cell_type": "code",
      "metadata": {
        "id": "fJvVrNZ1RRRB",
        "colab_type": "code",
        "colab": {
          "base_uri": "https://localhost:8080/",
          "height": 203
        },
        "outputId": "7a7ce40e-7c02-4c61-e001-1d1818bdfefd"
      },
      "source": [
        " \n",
        "#read data into a dataframe\n",
        " \n",
        "data = pd.read_csv(\"advertising.csv\")\n",
        "data.head()"
      ],
      "execution_count": 2,
      "outputs": [
        {
          "output_type": "execute_result",
          "data": {
            "text/html": [
              "<div>\n",
              "<style scoped>\n",
              "    .dataframe tbody tr th:only-of-type {\n",
              "        vertical-align: middle;\n",
              "    }\n",
              "\n",
              "    .dataframe tbody tr th {\n",
              "        vertical-align: top;\n",
              "    }\n",
              "\n",
              "    .dataframe thead th {\n",
              "        text-align: right;\n",
              "    }\n",
              "</style>\n",
              "<table border=\"1\" class=\"dataframe\">\n",
              "  <thead>\n",
              "    <tr style=\"text-align: right;\">\n",
              "      <th></th>\n",
              "      <th>TV</th>\n",
              "      <th>Radio</th>\n",
              "      <th>Newspaper</th>\n",
              "      <th>Sales</th>\n",
              "    </tr>\n",
              "  </thead>\n",
              "  <tbody>\n",
              "    <tr>\n",
              "      <th>0</th>\n",
              "      <td>230.1</td>\n",
              "      <td>37.8</td>\n",
              "      <td>69.2</td>\n",
              "      <td>22.1</td>\n",
              "    </tr>\n",
              "    <tr>\n",
              "      <th>1</th>\n",
              "      <td>44.5</td>\n",
              "      <td>39.3</td>\n",
              "      <td>45.1</td>\n",
              "      <td>10.4</td>\n",
              "    </tr>\n",
              "    <tr>\n",
              "      <th>2</th>\n",
              "      <td>17.2</td>\n",
              "      <td>45.9</td>\n",
              "      <td>69.3</td>\n",
              "      <td>12.0</td>\n",
              "    </tr>\n",
              "    <tr>\n",
              "      <th>3</th>\n",
              "      <td>151.5</td>\n",
              "      <td>41.3</td>\n",
              "      <td>58.5</td>\n",
              "      <td>16.5</td>\n",
              "    </tr>\n",
              "    <tr>\n",
              "      <th>4</th>\n",
              "      <td>180.8</td>\n",
              "      <td>10.8</td>\n",
              "      <td>58.4</td>\n",
              "      <td>17.9</td>\n",
              "    </tr>\n",
              "  </tbody>\n",
              "</table>\n",
              "</div>"
            ],
            "text/plain": [
              "      TV  Radio  Newspaper  Sales\n",
              "0  230.1   37.8       69.2   22.1\n",
              "1   44.5   39.3       45.1   10.4\n",
              "2   17.2   45.9       69.3   12.0\n",
              "3  151.5   41.3       58.5   16.5\n",
              "4  180.8   10.8       58.4   17.9"
            ]
          },
          "metadata": {
            "tags": []
          },
          "execution_count": 2
        }
      ]
    },
    {
      "cell_type": "code",
      "metadata": {
        "id": "v4PgvY-xRssQ",
        "colab_type": "code",
        "colab": {
          "base_uri": "https://localhost:8080/",
          "height": 34
        },
        "outputId": "478019be-e8f1-4a43-a1ee-d75b0f6e9217"
      },
      "source": [
        "data.shape"
      ],
      "execution_count": 3,
      "outputs": [
        {
          "output_type": "execute_result",
          "data": {
            "text/plain": [
              "(200, 4)"
            ]
          },
          "metadata": {
            "tags": []
          },
          "execution_count": 3
        }
      ]
    },
    {
      "cell_type": "code",
      "metadata": {
        "id": "kqTT5vbJRsuo",
        "colab_type": "code",
        "colab": {
          "base_uri": "https://localhost:8080/",
          "height": 229
        },
        "outputId": "24066a95-6209-4519-aede-d04cb57cd82e"
      },
      "source": [
        "#visualize the relationship between dependent and independent using scatterplots\n",
        " \n",
        "fig, axs = plt.subplots(1,3, sharey = True)\n",
        "data.plot(kind=\"scatter\",x = 'TV', y = 'Sales', ax = axs[0],figsize=(16,8))\n",
        "data.plot(kind=\"scatter\",x = 'Radio', y = 'Sales', ax = axs[1])\n",
        "data.plot(kind=\"scatter\",x = 'Newspaper', y = 'Sales', ax = axs[2])"
      ],
      "execution_count": 6,
      "outputs": [
        {
          "output_type": "execute_result",
          "data": {
            "text/plain": [
              "<matplotlib.axes._subplots.AxesSubplot at 0x7f648021cd68>"
            ]
          },
          "metadata": {
            "tags": []
          },
          "execution_count": 6
        },
        {
          "output_type": "display_data",
          "data": {
            "image/png": "[encoded data removed]",
            "text/plain": [
              "<Figure size 1152x576 with 3 Axes>"
            ]
          },
          "metadata": {
            "tags": [],
            "needs_background": "light"
          }
        }
      ]
    },
    {
      "cell_type": "code",
      "metadata": {
        "id": "E0cG0EYURsyZ",
        "colab_type": "code",
        "colab": {
          "base_uri": "https://localhost:8080/",
          "height": 51
        },
        "outputId": "3f5b86d5-52be-48fc-b47e-f14c1d9e899e"
      },
      "source": [
        "#create X and y to transform the data\n",
        "feature_cols = ['TV']\n",
        "X = data[feature_cols]\n",
        "y = data.Sales\n",
        " \n",
        "#follow the usual sklearn pattern : import, instantiate, fit\n",
        " \n",
        "from sklearn.linear_model import LinearRegression\n",
        "lm = LinearRegression()\n",
        "lm.fit(X, y)\n",
        " \n",
        "#print intercept and co-ef\n",
        " \n",
        "print(lm.intercept_)\n",
        "print(lm.coef_)"
      ],
      "execution_count": 16,
      "outputs": [
        {
          "output_type": "stream",
          "text": [
            "6.974821488229891\n",
            "[0.05546477]\n"
          ],
          "name": "stdout"
        }
      ]
    },
    {
      "cell_type": "code",
      "metadata": {
        "id": "cK7julrORs1v",
        "colab_type": "code",
        "colab": {
          "base_uri": "https://localhost:8080/",
          "height": 34
        },
        "outputId": "8990a3bd-ae9e-4412-b5b2-b55b42f2a44a"
      },
      "source": [
        "#manually calculate the prediction for 50,000$ investment\n",
        " \n",
        "result = 6.974821488229891+0.05546477*50\n",
        "print(result)"
      ],
      "execution_count": 17,
      "outputs": [
        {
          "output_type": "stream",
          "text": [
            "9.74805998822989\n"
          ],
          "name": "stdout"
        }
      ]
    },
    {
      "cell_type": "code",
      "metadata": {
        "id": "5w7t_DkgRs4B",
        "colab_type": "code",
        "colab": {
          "base_uri": "https://localhost:8080/",
          "height": 79
        },
        "outputId": "9b172d3d-622d-48d2-bb01-af7e09a35bf8"
      },
      "source": [
        "#you have to create a dataframe since the statsmodel formula expects it\n",
        " \n",
        "X_new = pd.DataFrame({'TV':[50]})\n",
        "X_new.head()"
      ],
      "execution_count": 18,
      "outputs": [
        {
          "output_type": "execute_result",
          "data": {
            "text/html": [
              "<div>\n",
              "<style scoped>\n",
              "    .dataframe tbody tr th:only-of-type {\n",
              "        vertical-align: middle;\n",
              "    }\n",
              "\n",
              "    .dataframe tbody tr th {\n",
              "        vertical-align: top;\n",
              "    }\n",
              "\n",
              "    .dataframe thead th {\n",
              "        text-align: right;\n",
              "    }\n",
              "</style>\n",
              "<table border=\"1\" class=\"dataframe\">\n",
              "  <thead>\n",
              "    <tr style=\"text-align: right;\">\n",
              "      <th></th>\n",
              "      <th>TV</th>\n",
              "    </tr>\n",
              "  </thead>\n",
              "  <tbody>\n",
              "    <tr>\n",
              "      <th>0</th>\n",
              "      <td>50</td>\n",
              "    </tr>\n",
              "  </tbody>\n",
              "</table>\n",
              "</div>"
            ],
            "text/plain": [
              "   TV\n",
              "0  50"
            ]
          },
          "metadata": {
            "tags": []
          },
          "execution_count": 18
        }
      ]
    },
    {
      "cell_type": "code",
      "metadata": {
        "id": "pQrg-YYfRs_9",
        "colab_type": "code",
        "colab": {
          "base_uri": "https://localhost:8080/",
          "height": 34
        },
        "outputId": "02b576bc-caf7-4aeb-be85-b51925b2201d"
      },
      "source": [
        "#use the model to make predictions on a new value\n",
        " \n",
        "lm.predict(X_new)"
      ],
      "execution_count": 19,
      "outputs": [
        {
          "output_type": "execute_result",
          "data": {
            "text/plain": [
              "array([9.74806001])"
            ]
          },
          "metadata": {
            "tags": []
          },
          "execution_count": 19
        }
      ]
    },
    {
      "cell_type": "markdown",
      "metadata": {
        "id": "WpymMpOqhY9M",
        "colab_type": "text"
      },
      "source": [
        " plotting the least squares line"
      ]
    },
    {
      "cell_type": "code",
      "metadata": {
        "id": "SN12_eyBRtDP",
        "colab_type": "code",
        "colab": {
          "base_uri": "https://localhost:8080/",
          "height": 110
        },
        "outputId": "154bdda2-b565-4ba0-f8bb-40144954d68e"
      },
      "source": [
        " \n",
        "#create dataframe with min and max value of the table\n",
        " \n",
        "X_new = pd.DataFrame({'TV':[data.TV.min(),data.TV.max()]})\n",
        "X_new.head()"
      ],
      "execution_count": 20,
      "outputs": [
        {
          "output_type": "execute_result",
          "data": {
            "text/html": [
              "<div>\n",
              "<style scoped>\n",
              "    .dataframe tbody tr th:only-of-type {\n",
              "        vertical-align: middle;\n",
              "    }\n",
              "\n",
              "    .dataframe tbody tr th {\n",
              "        vertical-align: top;\n",
              "    }\n",
              "\n",
              "    .dataframe thead th {\n",
              "        text-align: right;\n",
              "    }\n",
              "</style>\n",
              "<table border=\"1\" class=\"dataframe\">\n",
              "  <thead>\n",
              "    <tr style=\"text-align: right;\">\n",
              "      <th></th>\n",
              "      <th>TV</th>\n",
              "    </tr>\n",
              "  </thead>\n",
              "  <tbody>\n",
              "    <tr>\n",
              "      <th>0</th>\n",
              "      <td>0.7</td>\n",
              "    </tr>\n",
              "    <tr>\n",
              "      <th>1</th>\n",
              "      <td>296.4</td>\n",
              "    </tr>\n",
              "  </tbody>\n",
              "</table>\n",
              "</div>"
            ],
            "text/plain": [
              "      TV\n",
              "0    0.7\n",
              "1  296.4"
            ]
          },
          "metadata": {
            "tags": []
          },
          "execution_count": 20
        }
      ]
    },
    {
      "cell_type": "code",
      "metadata": {
        "id": "rkdyt2R5RtGW",
        "colab_type": "code",
        "colab": {
          "base_uri": "https://localhost:8080/",
          "height": 34
        },
        "outputId": "024ec0e8-3c99-46e8-efcb-c5e8140ba262"
      },
      "source": [
        " \n",
        "#make predictions for those x values and store them\n",
        " \n",
        "preds = lm.predict(X_new) \n",
        "preds"
      ],
      "execution_count": 21,
      "outputs": [
        {
          "output_type": "execute_result",
          "data": {
            "text/plain": [
              "array([ 7.01364683, 23.41457946])"
            ]
          },
          "metadata": {
            "tags": []
          },
          "execution_count": 21
        }
      ]
    },
    {
      "cell_type": "code",
      "metadata": {
        "id": "NTPi1i63RtJA",
        "colab_type": "code",
        "colab": {
          "base_uri": "https://localhost:8080/",
          "height": 289
        },
        "outputId": "9e9ed799-12ba-46e6-a8d2-0b0143bdc72a"
      },
      "source": [
        "#first plot the observed data\n",
        "data.plot(kind=\"scatter\",x='TV',y = 'Sales')\n",
        " \n",
        "#then, plot least squared lines\n",
        "plt.plot(X_new,preds,c = 'g',linewidth=2)"
      ],
      "execution_count": 33,
      "outputs": [
        {
          "output_type": "execute_result",
          "data": {
            "text/plain": [
              "[<matplotlib.lines.Line2D at 0x7f647334a898>]"
            ]
          },
          "metadata": {
            "tags": []
          },
          "execution_count": 33
        },
        {
          "output_type": "display_data",
          "data": {
            "image/png": "[encoded data removed]",
            "text/plain": [
              "<Figure size 432x288 with 1 Axes>"
            ]
          },
          "metadata": {
            "tags": [],
            "needs_background": "light"
          }
        }
      ]
    },
    {
      "cell_type": "code",
      "metadata": {
        "id": "7um_vqnURtL5",
        "colab_type": "code",
        "colab": {
          "base_uri": "https://localhost:8080/",
          "height": 165
        },
        "outputId": "5c1262a6-c08b-4c25-e3ee-a6f4d623bd4b"
      },
      "source": [
        " \n",
        "#stats model (ordinary least square)\n",
        "import statsmodels.formula.api as smf\n",
        "lm = smf.ols(formula = 'Sales ~ TV', data = data).fit()\n",
        "lm.conf_int()"
      ],
      "execution_count": 34,
      "outputs": [
        {
          "output_type": "stream",
          "text": [
            "/usr/local/lib/python3.6/dist-packages/statsmodels/tools/_testing.py:19: FutureWarning: pandas.util.testing is deprecated. Use the functions in the public API at pandas.testing instead.\n",
            "  import pandas.util.testing as tm\n"
          ],
          "name": "stderr"
        },
        {
          "output_type": "execute_result",
          "data": {
            "text/html": [
              "<div>\n",
              "<style scoped>\n",
              "    .dataframe tbody tr th:only-of-type {\n",
              "        vertical-align: middle;\n",
              "    }\n",
              "\n",
              "    .dataframe tbody tr th {\n",
              "        vertical-align: top;\n",
              "    }\n",
              "\n",
              "    .dataframe thead th {\n",
              "        text-align: right;\n",
              "    }\n",
              "</style>\n",
              "<table border=\"1\" class=\"dataframe\">\n",
              "  <thead>\n",
              "    <tr style=\"text-align: right;\">\n",
              "      <th></th>\n",
              "      <th>0</th>\n",
              "      <th>1</th>\n",
              "    </tr>\n",
              "  </thead>\n",
              "  <tbody>\n",
              "    <tr>\n",
              "      <th>Intercept</th>\n",
              "      <td>6.338740</td>\n",
              "      <td>7.610903</td>\n",
              "    </tr>\n",
              "    <tr>\n",
              "      <th>TV</th>\n",
              "      <td>0.051727</td>\n",
              "      <td>0.059203</td>\n",
              "    </tr>\n",
              "  </tbody>\n",
              "</table>\n",
              "</div>"
            ],
            "text/plain": [
              "                  0         1\n",
              "Intercept  6.338740  7.610903\n",
              "TV         0.051727  0.059203"
            ]
          },
          "metadata": {
            "tags": []
          },
          "execution_count": 34
        }
      ]
    },
    {
      "cell_type": "markdown",
      "metadata": {
        "id": "qiORmzqGjbaM",
        "colab_type": "text"
      },
      "source": [
        "hypothesis testing and p values"
      ]
    },
    {
      "cell_type": "code",
      "metadata": {
        "id": "z4LMXkecRtPI",
        "colab_type": "code",
        "colab": {
          "base_uri": "https://localhost:8080/",
          "height": 69
        },
        "outputId": "8d1c36d4-4e13-4cbf-f537-2dbc1c7a1eaf"
      },
      "source": [
        "#print the p values for the model coef\n",
        "lm.pvalues"
      ],
      "execution_count": 35,
      "outputs": [
        {
          "output_type": "execute_result",
          "data": {
            "text/plain": [
              "Intercept    5.027719e-54\n",
              "TV           7.927912e-74\n",
              "dtype: float64"
            ]
          },
          "metadata": {
            "tags": []
          },
          "execution_count": 35
        }
      ]
    },
    {
      "cell_type": "code",
      "metadata": {
        "id": "PRX-Z974RtRq",
        "colab_type": "code",
        "colab": {
          "base_uri": "https://localhost:8080/",
          "height": 34
        },
        "outputId": "f0f3a3a8-e6df-4188-f6ae-1a9742c044a7"
      },
      "source": [
        " \n",
        "#to evaluate the overall fit\n",
        "#r-squared is between 0 and 1, and higher is better\n",
        "#print the R-squared value for the model\n",
        "lm.rsquared"
      ],
      "execution_count": 36,
      "outputs": [
        {
          "output_type": "execute_result",
          "data": {
            "text/plain": [
              "0.8121757029987414"
            ]
          },
          "metadata": {
            "tags": []
          },
          "execution_count": 36
        }
      ]
    },
    {
      "cell_type": "markdown",
      "metadata": {
        "id": "a_6VVAy9lb7y",
        "colab_type": "text"
      },
      "source": [
        "mult-linear regression"
      ]
    },
    {
      "cell_type": "code",
      "metadata": {
        "id": "l3Cpp52JRtUQ",
        "colab_type": "code",
        "colab": {
          "base_uri": "https://localhost:8080/",
          "height": 51
        },
        "outputId": "babef5e2-9d10-44ad-f05d-73e499f95308"
      },
      "source": [
        " \n",
        "feature_cols =['TV','Radio','Newspaper']\n",
        "X = data[feature_cols]\n",
        "y = data.Sales\n",
        " \n",
        "lm =LinearRegression()\n",
        "lm.fit(X, y)\n",
        " \n",
        "#print intercept and coefficients\n",
        "print(lm.intercept_)\n",
        "print(lm.coef_)"
      ],
      "execution_count": 37,
      "outputs": [
        {
          "output_type": "stream",
          "text": [
            "4.625124078808653\n",
            "[0.05444578 0.10700123 0.00033566]\n"
          ],
          "name": "stdout"
        }
      ]
    },
    {
      "cell_type": "code",
      "metadata": {
        "id": "o5esKbL7RtXh",
        "colab_type": "code",
        "colab": {
          "base_uri": "https://localhost:8080/",
          "height": 604
        },
        "outputId": "6ad985b5-95f2-45ed-b325-d8ba1189192f"
      },
      "source": [
        " \n",
        "lm = smf.ols(formula = 'Sales ~ TV+Radio+Newspaper', data = data).fit()\n",
        "lm.conf_int()\n",
        "lm.summary()"
      ],
      "execution_count": 38,
      "outputs": [
        {
          "output_type": "execute_result",
          "data": {
            "text/html": [
              "<table class=\"simpletable\">\n",
              "<caption>OLS Regression Results</caption>\n",
              "<tr>\n",
              "  <th>Dep. Variable:</th>          <td>Sales</td>      <th>  R-squared:         </th> <td>   0.903</td>\n",
              "</tr>\n",
              "<tr>\n",
              "  <th>Model:</th>                   <td>OLS</td>       <th>  Adj. R-squared:    </th> <td>   0.901</td>\n",
              "</tr>\n",
              "<tr>\n",
              "  <th>Method:</th>             <td>Least Squares</td>  <th>  F-statistic:       </th> <td>   605.4</td>\n",
              "</tr>\n",
              "<tr>\n",
              "  <th>Date:</th>             <td>Thu, 20 Aug 2020</td> <th>  Prob (F-statistic):</th> <td>8.13e-99</td>\n",
              "</tr>\n",
              "<tr>\n",
              "  <th>Time:</th>                 <td>16:00:21</td>     <th>  Log-Likelihood:    </th> <td> -383.34</td>\n",
              "</tr>\n",
              "<tr>\n",
              "  <th>No. Observations:</th>      <td>   200</td>      <th>  AIC:               </th> <td>   774.7</td>\n",
              "</tr>\n",
              "<tr>\n",
              "  <th>Df Residuals:</th>          <td>   196</td>      <th>  BIC:               </th> <td>   787.9</td>\n",
              "</tr>\n",
              "<tr>\n",
              "  <th>Df Model:</th>              <td>     3</td>      <th>                     </th>     <td> </td>   \n",
              "</tr>\n",
              "<tr>\n",
              "  <th>Covariance Type:</th>      <td>nonrobust</td>    <th>                     </th>     <td> </td>   \n",
              "</tr>\n",
              "</table>\n",
              "<table class=\"simpletable\">\n",
              "<tr>\n",
              "      <td></td>         <th>coef</th>     <th>std err</th>      <th>t</th>      <th>P>|t|</th>  <th>[0.025</th>    <th>0.975]</th>  \n",
              "</tr>\n",
              "<tr>\n",
              "  <th>Intercept</th> <td>    4.6251</td> <td>    0.308</td> <td>   15.041</td> <td> 0.000</td> <td>    4.019</td> <td>    5.232</td>\n",
              "</tr>\n",
              "<tr>\n",
              "  <th>TV</th>        <td>    0.0544</td> <td>    0.001</td> <td>   39.592</td> <td> 0.000</td> <td>    0.052</td> <td>    0.057</td>\n",
              "</tr>\n",
              "<tr>\n",
              "  <th>Radio</th>     <td>    0.1070</td> <td>    0.008</td> <td>   12.604</td> <td> 0.000</td> <td>    0.090</td> <td>    0.124</td>\n",
              "</tr>\n",
              "<tr>\n",
              "  <th>Newspaper</th> <td>    0.0003</td> <td>    0.006</td> <td>    0.058</td> <td> 0.954</td> <td>   -0.011</td> <td>    0.012</td>\n",
              "</tr>\n",
              "</table>\n",
              "<table class=\"simpletable\">\n",
              "<tr>\n",
              "  <th>Omnibus:</th>       <td>16.081</td> <th>  Durbin-Watson:     </th> <td>   2.251</td>\n",
              "</tr>\n",
              "<tr>\n",
              "  <th>Prob(Omnibus):</th> <td> 0.000</td> <th>  Jarque-Bera (JB):  </th> <td>  27.655</td>\n",
              "</tr>\n",
              "<tr>\n",
              "  <th>Skew:</th>          <td>-0.431</td> <th>  Prob(JB):          </th> <td>9.88e-07</td>\n",
              "</tr>\n",
              "<tr>\n",
              "  <th>Kurtosis:</th>      <td> 4.605</td> <th>  Cond. No.          </th> <td>    454.</td>\n",
              "</tr>\n",
              "</table><br/><br/>Warnings:<br/>[1] Standard Errors assume that the covariance matrix of the errors is correctly specified."
            ],
            "text/plain": [
              "<class 'statsmodels.iolib.summary.Summary'>\n",
              "\"\"\"\n",
              "                            OLS Regression Results                            \n",
              "==============================================================================\n",
              "Dep. Variable:                  Sales   R-squared:                       0.903\n",
              "Model:                            OLS   Adj. R-squared:                  0.901\n",
              "Method:                 Least Squares   F-statistic:                     605.4\n",
              "Date:                Thu, 20 Aug 2020   Prob (F-statistic):           8.13e-99\n",
              "Time:                        16:00:21   Log-Likelihood:                -383.34\n",
              "No. Observations:                 200   AIC:                             774.7\n",
              "Df Residuals:                     196   BIC:                             787.9\n",
              "Df Model:                           3                                         \n",
              "Covariance Type:            nonrobust                                         \n",
              "==============================================================================\n",
              "                 coef    std err          t      P>|t|      [0.025      0.975]\n",
              "------------------------------------------------------------------------------\n",
              "Intercept      4.6251      0.308     15.041      0.000       4.019       5.232\n",
              "TV             0.0544      0.001     39.592      0.000       0.052       0.057\n",
              "Radio          0.1070      0.008     12.604      0.000       0.090       0.124\n",
              "Newspaper      0.0003      0.006      0.058      0.954      -0.011       0.012\n",
              "==============================================================================\n",
              "Omnibus:                       16.081   Durbin-Watson:                   2.251\n",
              "Prob(Omnibus):                  0.000   Jarque-Bera (JB):               27.655\n",
              "Skew:                          -0.431   Prob(JB):                     9.88e-07\n",
              "Kurtosis:                       4.605   Cond. No.                         454.\n",
              "==============================================================================\n",
              "\n",
              "Warnings:\n",
              "[1] Standard Errors assume that the covariance matrix of the errors is correctly specified.\n",
              "\"\"\""
            ]
          },
          "metadata": {
            "tags": []
          },
          "execution_count": 38
        }
      ]
    },
    {
      "cell_type": "code",
      "metadata": {
        "id": "S8AaTosMRtb_",
        "colab_type": "code",
        "colab": {
          "base_uri": "https://localhost:8080/",
          "height": 34
        },
        "outputId": "a55dd144-3108-4b17-a8ef-afd9c6911315"
      },
      "source": [
        "#infer that tv and radio are dominating the r-squared values\n",
        "lm = smf.ols(formula = 'Sales ~ TV+Radio', data = data).fit()\n",
        "lm.rsquared"
      ],
      "execution_count": 44,
      "outputs": [
        {
          "output_type": "execute_result",
          "data": {
            "text/plain": [
              "0.9025896186081139"
            ]
          },
          "metadata": {
            "tags": []
          },
          "execution_count": 44
        }
      ]
    },
    {
      "cell_type": "code",
      "metadata": {
        "id": "uBBZdThURthf",
        "colab_type": "code",
        "colab": {
          "base_uri": "https://localhost:8080/",
          "height": 34
        },
        "outputId": "7532be30-9686-46f8-d17c-6f955318edf3"
      },
      "source": [
        "#much less contribution made by newspaper to increase r-squared value\n",
        "lm = smf.ols(formula = 'Sales ~ TV+Radio+Newspaper', data = data).fit()\n",
        "lm.rsquared"
      ],
      "execution_count": 43,
      "outputs": [
        {
          "output_type": "execute_result",
          "data": {
            "text/plain": [
              "0.9025912899684558"
            ]
          },
          "metadata": {
            "tags": []
          },
          "execution_count": 43
        }
      ]
    },
    {
      "cell_type": "code",
      "metadata": {
        "id": "JWaVt7qIRtjv",
        "colab_type": "code",
        "colab": {}
      },
      "source": [
        ""
      ],
      "execution_count": null,
      "outputs": []
    }
  ]
}