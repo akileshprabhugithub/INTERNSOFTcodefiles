{
  "nbformat": 4,
  "nbformat_minor": 0,
  "metadata": {
    "colab": {
      "name": "Welcome To Colaboratory",
      "provenance": [],
      "collapsed_sections": [],
      "include_colab_link": true
    },
    "kernelspec": {
      "display_name": "Python 3",
      "name": "python3"
    }
  },
  "cells": [
    {
      "cell_type": "markdown",
      "metadata": {
        "id": "view-in-github",
        "colab_type": "text"
      },
      "source": [
        "<a href=\"https://colab.research.google.com/github/akileshprabhugithub/INTERNSOFTcodefiles/blob/master/SESSION7_numpy2codefile.ipynb\" target=\"_parent\"><img src=\"https://colab.research.google.com/assets/colab-badge.svg\" alt=\"Open In Colab\"/></a>"
      ]
    },
    {
      "cell_type": "markdown",
      "metadata": {
        "id": "NZCTPYFa804w",
        "colab_type": "text"
      },
      "source": [
        "boolean indexing"
      ]
    },
    {
      "cell_type": "code",
      "metadata": {
        "id": "t80qeSrI81A0",
        "colab_type": "code",
        "colab": {
          "base_uri": "https://localhost:8080/",
          "height": 69
        },
        "outputId": "3cc34914-1f12-4588-9aee-9ded4db4eaa7"
      },
      "source": [
        " \n",
        "import numpy as np\n",
        "a = np.arange(12).reshape(3,4)\n",
        "a"
      ],
      "execution_count": 1,
      "outputs": [
        {
          "output_type": "execute_result",
          "data": {
            "text/plain": [
              "array([[ 0,  1,  2,  3],\n",
              "       [ 4,  5,  6,  7],\n",
              "       [ 8,  9, 10, 11]])"
            ]
          },
          "metadata": {
            "tags": []
          },
          "execution_count": 1
        }
      ]
    },
    {
      "cell_type": "code",
      "metadata": {
        "id": "Qi9ns1s581EL",
        "colab_type": "code",
        "colab": {
          "base_uri": "https://localhost:8080/",
          "height": 69
        },
        "outputId": "ff31fdba-6878-49bd-feac-f92c59cb8343"
      },
      "source": [
        "a[a>4] = 0\n",
        "a"
      ],
      "execution_count": 4,
      "outputs": [
        {
          "output_type": "execute_result",
          "data": {
            "text/plain": [
              "array([[0, 1, 2, 3],\n",
              "       [4, 0, 0, 0],\n",
              "       [0, 0, 0, 0]])"
            ]
          },
          "metadata": {
            "tags": []
          },
          "execution_count": 4
        }
      ]
    },
    {
      "cell_type": "code",
      "metadata": {
        "id": "9-wKhJBe81HG",
        "colab_type": "code",
        "colab": {
          "base_uri": "https://localhost:8080/",
          "height": 120
        },
        "outputId": "b87cc94d-7512-406d-c3a9-834342e066be"
      },
      "source": [
        " \n",
        "print(a)\n",
        "a[a==0] =-1\n",
        "a"
      ],
      "execution_count": 7,
      "outputs": [
        {
          "output_type": "stream",
          "text": [
            "[[-1  1  2  3]\n",
            " [ 4 -1 -1 -1]\n",
            " [-1 -1 -1 -1]]\n"
          ],
          "name": "stdout"
        },
        {
          "output_type": "execute_result",
          "data": {
            "text/plain": [
              "array([[-1,  1,  2,  3],\n",
              "       [ 4, -1, -1, -1],\n",
              "       [-1, -1, -1, -1]])"
            ]
          },
          "metadata": {
            "tags": []
          },
          "execution_count": 7
        }
      ]
    },
    {
      "cell_type": "code",
      "metadata": {
        "id": "IF1xxAhv81J5",
        "colab_type": "code",
        "colab": {
          "base_uri": "https://localhost:8080/",
          "height": 69
        },
        "outputId": "81b20980-539c-4211-f567-75edbc9ef034"
      },
      "source": [
        "a == -1"
      ],
      "execution_count": 8,
      "outputs": [
        {
          "output_type": "execute_result",
          "data": {
            "text/plain": [
              "array([[ True, False, False, False],\n",
              "       [False,  True,  True,  True],\n",
              "       [ True,  True,  True,  True]])"
            ]
          },
          "metadata": {
            "tags": []
          },
          "execution_count": 8
        }
      ]
    },
    {
      "cell_type": "code",
      "metadata": {
        "id": "vI5mrdGJ81MA",
        "colab_type": "code",
        "colab": {
          "base_uri": "https://localhost:8080/",
          "height": 120
        },
        "outputId": "60e77198-1aeb-4fd4-e73e-32d5c78f98d7"
      },
      "source": [
        "a = np.arange(12).reshape(3,4)\n",
        "print(a)\n",
        "a[np.logical_and(a>3,a<=9)] = 0.0\n",
        "a"
      ],
      "execution_count": 13,
      "outputs": [
        {
          "output_type": "stream",
          "text": [
            "[[ 0  1  2  3]\n",
            " [ 4  5  6  7]\n",
            " [ 8  9 10 11]]\n"
          ],
          "name": "stdout"
        },
        {
          "output_type": "execute_result",
          "data": {
            "text/plain": [
              "array([[ 0,  1,  2,  3],\n",
              "       [ 0,  0,  0,  0],\n",
              "       [ 0,  0, 10, 11]])"
            ]
          },
          "metadata": {
            "tags": []
          },
          "execution_count": 13
        }
      ]
    },
    {
      "cell_type": "code",
      "metadata": {
        "id": "jIaKAEQS81Ph",
        "colab_type": "code",
        "colab": {
          "base_uri": "https://localhost:8080/",
          "height": 69
        },
        "outputId": "f3e8c19b-6ba8-4d94-f106-33bc6a7aa127"
      },
      "source": [
        "a >4"
      ],
      "execution_count": 10,
      "outputs": [
        {
          "output_type": "execute_result",
          "data": {
            "text/plain": [
              "array([[False, False, False, False],\n",
              "       [False, False, False, False],\n",
              "       [False, False,  True,  True]])"
            ]
          },
          "metadata": {
            "tags": []
          },
          "execution_count": 10
        }
      ]
    },
    {
      "cell_type": "code",
      "metadata": {
        "id": "w853E4uv81SF",
        "colab_type": "code",
        "colab": {
          "base_uri": "https://localhost:8080/",
          "height": 120
        },
        "outputId": "350d856d-2905-4b92-87e2-f3facf849ec9"
      },
      "source": [
        " a = np.arange(12).reshape(3,4)\n",
        "print(a)\n",
        "a[np.logical_or(a>3,a<=9)] = 0.0\n",
        "a"
      ],
      "execution_count": 12,
      "outputs": [
        {
          "output_type": "stream",
          "text": [
            "[[ 0  1  2  3]\n",
            " [ 4  5  6  7]\n",
            " [ 8  9 10 11]]\n"
          ],
          "name": "stdout"
        },
        {
          "output_type": "execute_result",
          "data": {
            "text/plain": [
              "array([[0, 0, 0, 0],\n",
              "       [0, 0, 0, 0],\n",
              "       [0, 0, 0, 0]])"
            ]
          },
          "metadata": {
            "tags": []
          },
          "execution_count": 12
        }
      ]
    },
    {
      "cell_type": "markdown",
      "metadata": {
        "id": "2T-TModH_Esj",
        "colab_type": "text"
      },
      "source": [
        "avoiding loops"
      ]
    },
    {
      "cell_type": "code",
      "metadata": {
        "id": "aI-NTZDF81VZ",
        "colab_type": "code",
        "colab": {
          "base_uri": "https://localhost:8080/",
          "height": 364
        },
        "outputId": "fbfb13d6-d50b-46a6-f9c7-c0b6fb31f8e3"
      },
      "source": [
        "M = 32\n",
        "N = 64\n",
        "xmin = ymin = 0.0\n",
        "xmax = ymax = 1.0\n",
        "x = np.linspace(xmin,xmax,M, endpoint=False)\n",
        "y = np.linspace(ymin,ymax,N, endpoint=True)\n",
        "print(x.shape)\n",
        "print(y.shape)\n",
        "print(x)\n",
        "y"
      ],
      "execution_count": 27,
      "outputs": [
        {
          "output_type": "stream",
          "text": [
            "(32,)\n",
            "(64,)\n",
            "[0.      0.03125 0.0625  0.09375 0.125   0.15625 0.1875  0.21875 0.25\n",
            " 0.28125 0.3125  0.34375 0.375   0.40625 0.4375  0.46875 0.5     0.53125\n",
            " 0.5625  0.59375 0.625   0.65625 0.6875  0.71875 0.75    0.78125 0.8125\n",
            " 0.84375 0.875   0.90625 0.9375  0.96875]\n"
          ],
          "name": "stdout"
        },
        {
          "output_type": "execute_result",
          "data": {
            "text/plain": [
              "array([0.        , 0.01587302, 0.03174603, 0.04761905, 0.06349206,\n",
              "       0.07936508, 0.0952381 , 0.11111111, 0.12698413, 0.14285714,\n",
              "       0.15873016, 0.17460317, 0.19047619, 0.20634921, 0.22222222,\n",
              "       0.23809524, 0.25396825, 0.26984127, 0.28571429, 0.3015873 ,\n",
              "       0.31746032, 0.33333333, 0.34920635, 0.36507937, 0.38095238,\n",
              "       0.3968254 , 0.41269841, 0.42857143, 0.44444444, 0.46031746,\n",
              "       0.47619048, 0.49206349, 0.50793651, 0.52380952, 0.53968254,\n",
              "       0.55555556, 0.57142857, 0.58730159, 0.6031746 , 0.61904762,\n",
              "       0.63492063, 0.65079365, 0.66666667, 0.68253968, 0.6984127 ,\n",
              "       0.71428571, 0.73015873, 0.74603175, 0.76190476, 0.77777778,\n",
              "       0.79365079, 0.80952381, 0.82539683, 0.84126984, 0.85714286,\n",
              "       0.87301587, 0.88888889, 0.9047619 , 0.92063492, 0.93650794,\n",
              "       0.95238095, 0.96825397, 0.98412698, 1.        ])"
            ]
          },
          "metadata": {
            "tags": []
          },
          "execution_count": 27
        }
      ]
    },
    {
      "cell_type": "code",
      "metadata": {
        "id": "RVZUm1PR_HIq",
        "colab_type": "code",
        "colab": {}
      },
      "source": [
        "import time\n",
        "M = 32\n",
        "N = 64\n",
        "x = np.linspace(0.0,1.0,M, endpoint=False)\n",
        "y = np.linspace(0.0,1.0,N, endpoint= False)"
      ],
      "execution_count": 28,
      "outputs": []
    },
    {
      "cell_type": "code",
      "metadata": {
        "id": "ESnblLL4_HOy",
        "colab_type": "code",
        "colab": {
          "base_uri": "https://localhost:8080/",
          "height": 398
        },
        "outputId": "b9e0c0da-9ae3-45e7-d89c-2e541f2fd23d"
      },
      "source": [
        "t0 = time.time()\n",
        " \n",
        "g = np.zeros((M,N))\n",
        "print(g)\n",
        "for i in range(M):\n",
        "    for j in range(N):\n",
        "        g[i,j] = np.sin(2.0*np.pi*x[i]*y[j])\n",
        "print(g)\n",
        "t1 = time.time()\n",
        "print(f'time elapsed : {t1-t0} s')"
      ],
      "execution_count": 35,
      "outputs": [
        {
          "output_type": "stream",
          "text": [
            "[[0. 0. 0. ... 0. 0. 0.]\n",
            " [0. 0. 0. ... 0. 0. 0.]\n",
            " [0. 0. 0. ... 0. 0. 0.]\n",
            " ...\n",
            " [0. 0. 0. ... 0. 0. 0.]\n",
            " [0. 0. 0. ... 0. 0. 0.]\n",
            " [0. 0. 0. ... 0. 0. 0.]]\n",
            "[[ 0.          0.          0.         ...  0.          0.\n",
            "   0.        ]\n",
            " [ 0.          0.00306796  0.00613588 ...  0.18605515  0.18906866\n",
            "   0.1920804 ]\n",
            " [ 0.          0.00613588  0.01227154 ...  0.365613    0.37131719\n",
            "   0.37700741]\n",
            " ...\n",
            " [ 0.          0.08885355  0.17700422 ... -0.75520138 -0.69397146\n",
            "  -0.62725182]\n",
            " [ 0.          0.09190896  0.18303989 ... -0.62005721 -0.54532499\n",
            "  -0.4659765 ]\n",
            " [ 0.          0.0949635   0.18906866 ... -0.46325978 -0.37700741\n",
            "  -0.28734746]]\n",
            "time elapsed : 0.015123367309570312 s\n"
          ],
          "name": "stdout"
        }
      ]
    },
    {
      "cell_type": "code",
      "metadata": {
        "id": "NjHVsSE7_HRk",
        "colab_type": "code",
        "colab": {
          "base_uri": "https://localhost:8080/",
          "height": 329
        },
        "outputId": "747c616b-8635-4d1f-e9af-fce5bf59327a"
      },
      "source": [
        "x2d,y2d = np.meshgrid(x,y, indexing =\"ij\")\n",
        " \n",
        "print(x2d[:,0])\n",
        "print(x2d[0,:])\n",
        " \n",
        "print(y2d[:,0])\n",
        "print(y2d[0,:])"
      ],
      "execution_count": 36,
      "outputs": [
        {
          "output_type": "stream",
          "text": [
            "[0.      0.03125 0.0625  0.09375 0.125   0.15625 0.1875  0.21875 0.25\n",
            " 0.28125 0.3125  0.34375 0.375   0.40625 0.4375  0.46875 0.5     0.53125\n",
            " 0.5625  0.59375 0.625   0.65625 0.6875  0.71875 0.75    0.78125 0.8125\n",
            " 0.84375 0.875   0.90625 0.9375  0.96875]\n",
            "[0. 0. 0. 0. 0. 0. 0. 0. 0. 0. 0. 0. 0. 0. 0. 0. 0. 0. 0. 0. 0. 0. 0. 0.\n",
            " 0. 0. 0. 0. 0. 0. 0. 0. 0. 0. 0. 0. 0. 0. 0. 0. 0. 0. 0. 0. 0. 0. 0. 0.\n",
            " 0. 0. 0. 0. 0. 0. 0. 0. 0. 0. 0. 0. 0. 0. 0. 0.]\n",
            "[0. 0. 0. 0. 0. 0. 0. 0. 0. 0. 0. 0. 0. 0. 0. 0. 0. 0. 0. 0. 0. 0. 0. 0.\n",
            " 0. 0. 0. 0. 0. 0. 0. 0.]\n",
            "[0.       0.015625 0.03125  0.046875 0.0625   0.078125 0.09375  0.109375\n",
            " 0.125    0.140625 0.15625  0.171875 0.1875   0.203125 0.21875  0.234375\n",
            " 0.25     0.265625 0.28125  0.296875 0.3125   0.328125 0.34375  0.359375\n",
            " 0.375    0.390625 0.40625  0.421875 0.4375   0.453125 0.46875  0.484375\n",
            " 0.5      0.515625 0.53125  0.546875 0.5625   0.578125 0.59375  0.609375\n",
            " 0.625    0.640625 0.65625  0.671875 0.6875   0.703125 0.71875  0.734375\n",
            " 0.75     0.765625 0.78125  0.796875 0.8125   0.828125 0.84375  0.859375\n",
            " 0.875    0.890625 0.90625  0.921875 0.9375   0.953125 0.96875  0.984375]\n"
          ],
          "name": "stdout"
        }
      ]
    },
    {
      "cell_type": "code",
      "metadata": {
        "id": "VVH_Z4Vq_HVK",
        "colab_type": "code",
        "colab": {
          "base_uri": "https://localhost:8080/",
          "height": 54
        },
        "outputId": "f88ba202-a360-4716-bea1-d5735e316e44"
      },
      "source": [
        "t0 = time.time()\n",
        "g2= np.sin(2.0*np.pi*x2d*y2d)\n",
        "t1= time.time()\n",
        "print(f'time elapsed: {t1-t0}seconds')"
      ],
      "execution_count": 37,
      "outputs": [
        {
          "output_type": "stream",
          "text": [
            "time elapsed: 0.0009961128234863281seconds\n"
          ],
          "name": "stdout"
        }
      ]
    },
    {
      "cell_type": "markdown",
      "metadata": {
        "id": "AhPFJGYkFoEh",
        "colab_type": "text"
      },
      "source": [
        "array concatenation and splitting"
      ]
    },
    {
      "cell_type": "code",
      "metadata": {
        "id": "odGOlbIk_HZi",
        "colab_type": "code",
        "colab": {
          "base_uri": "https://localhost:8080/",
          "height": 34
        },
        "outputId": "21323047-3ab2-4414-f34e-d81d66545c41"
      },
      "source": [
        "x = np.array ([1,2,3,4])\n",
        "y = np.array ([5,6,7,8])\n",
        "np.concatenate([x,y])"
      ],
      "execution_count": 42,
      "outputs": [
        {
          "output_type": "execute_result",
          "data": {
            "text/plain": [
              "array([1, 2, 3, 4, 5, 6, 7, 8])"
            ]
          },
          "metadata": {
            "tags": []
          },
          "execution_count": 42
        }
      ]
    },
    {
      "cell_type": "code",
      "metadata": {
        "id": "4pJaA10O_Hb6",
        "colab_type": "code",
        "colab": {
          "base_uri": "https://localhost:8080/",
          "height": 51
        },
        "outputId": "e83088e1-7c3d-4bf0-9ea6-da9d99b84a8d"
      },
      "source": [
        "z = np.array([9,10,11])\n",
        "#z = [9,10,11] this creates only a list\n",
        "print(np.concatenate([x,y,z]))\n",
        "type(z)"
      ],
      "execution_count": 55,
      "outputs": [
        {
          "output_type": "stream",
          "text": [
            "[ 1  2  3  4  5  6  7  8  9 10 11]\n"
          ],
          "name": "stdout"
        },
        {
          "output_type": "execute_result",
          "data": {
            "text/plain": [
              "numpy.ndarray"
            ]
          },
          "metadata": {
            "tags": []
          },
          "execution_count": 55
        }
      ]
    },
    {
      "cell_type": "code",
      "metadata": {
        "id": "LJgh-7CH_HX-",
        "colab_type": "code",
        "colab": {
          "base_uri": "https://localhost:8080/",
          "height": 86
        },
        "outputId": "ac692595-9c50-4b89-d10a-b3225b11c2ae"
      },
      "source": [
        "grid = np.array([[10,20,30],\n",
        "[40,50,60]])\n",
        "print(grid)\n",
        "print(grid.shape)\n",
        "grid.ndim"
      ],
      "execution_count": 66,
      "outputs": [
        {
          "output_type": "stream",
          "text": [
            "[[10 20 30]\n",
            " [40 50 60]]\n",
            "(2, 3)\n"
          ],
          "name": "stdout"
        },
        {
          "output_type": "execute_result",
          "data": {
            "text/plain": [
              "2"
            ]
          },
          "metadata": {
            "tags": []
          },
          "execution_count": 66
        }
      ]
    },
    {
      "cell_type": "code",
      "metadata": {
        "id": "E5KrIcso81YK",
        "colab_type": "code",
        "colab": {
          "base_uri": "https://localhost:8080/",
          "height": 86
        },
        "outputId": "9652f308-f065-442c-ff64-9d23b67d5a9e"
      },
      "source": [
        "np.concatenate([grid,grid]) #by default axis=row=0"
      ],
      "execution_count": 71,
      "outputs": [
        {
          "output_type": "execute_result",
          "data": {
            "text/plain": [
              "array([[10, 20, 30],\n",
              "       [40, 50, 60],\n",
              "       [10, 20, 30],\n",
              "       [40, 50, 60]])"
            ]
          },
          "metadata": {
            "tags": []
          },
          "execution_count": 71
        }
      ]
    },
    {
      "cell_type": "code",
      "metadata": {
        "id": "-3yDsAZG81dO",
        "colab_type": "code",
        "colab": {
          "base_uri": "https://localhost:8080/",
          "height": 51
        },
        "outputId": "7e8fea2a-c9be-4d32-c2ac-28ceadc496b1"
      },
      "source": [
        "np.concatenate([grid,grid],axis=1)"
      ],
      "execution_count": 72,
      "outputs": [
        {
          "output_type": "execute_result",
          "data": {
            "text/plain": [
              "array([[10, 20, 30, 10, 20, 30],\n",
              "       [40, 50, 60, 40, 50, 60]])"
            ]
          },
          "metadata": {
            "tags": []
          },
          "execution_count": 72
        }
      ]
    },
    {
      "cell_type": "markdown",
      "metadata": {
        "id": "q-X0-Eb6Jzet",
        "colab_type": "text"
      },
      "source": [
        " splitting of arrays"
      ]
    },
    {
      "cell_type": "code",
      "metadata": {
        "id": "M-XAZRrg81Ow",
        "colab_type": "code",
        "colab": {
          "base_uri": "https://localhost:8080/",
          "height": 34
        },
        "outputId": "31885648-b63a-49af-d063-bb8ae78f5b3a"
      },
      "source": [
        "x = [1,2,3,4,6,9,8,7,5,0]\n",
        "x1,x2,x3,x4 = np.split(x,[3,5,8])\n",
        "print(x1,x2,x3,x4)"
      ],
      "execution_count": 73,
      "outputs": [
        {
          "output_type": "stream",
          "text": [
            "[1 2 3] [4 6] [9 8 7] [5 0]\n"
          ],
          "name": "stdout"
        }
      ]
    },
    {
      "cell_type": "code",
      "metadata": {
        "id": "o8Uvam_gJxkt",
        "colab_type": "code",
        "colab": {
          "base_uri": "https://localhost:8080/",
          "height": 86
        },
        "outputId": "b70da3da-1ac9-451e-eb41-af3157a5c874"
      },
      "source": [
        "g = np.arange(16).reshape(4,4)\n",
        "g"
      ],
      "execution_count": 78,
      "outputs": [
        {
          "output_type": "execute_result",
          "data": {
            "text/plain": [
              "array([[ 0,  1,  2,  3],\n",
              "       [ 4,  5,  6,  7],\n",
              "       [ 8,  9, 10, 11],\n",
              "       [12, 13, 14, 15]])"
            ]
          },
          "metadata": {
            "tags": []
          },
          "execution_count": 78
        }
      ]
    },
    {
      "cell_type": "code",
      "metadata": {
        "id": "Wj3AK0uMJxp1",
        "colab_type": "code",
        "colab": {
          "base_uri": "https://localhost:8080/",
          "height": 155
        },
        "outputId": "08054ea6-14b0-4653-e17e-27b8d42f6278"
      },
      "source": [
        "left, right = np.hsplit(g,[2])\n",
        "print(left)\n",
        "print(right)"
      ],
      "execution_count": 79,
      "outputs": [
        {
          "output_type": "stream",
          "text": [
            "[[ 0  1]\n",
            " [ 4  5]\n",
            " [ 8  9]\n",
            " [12 13]]\n",
            "[[ 2  3]\n",
            " [ 6  7]\n",
            " [10 11]\n",
            " [14 15]]\n"
          ],
          "name": "stdout"
        }
      ]
    },
    {
      "cell_type": "code",
      "metadata": {
        "id": "dK2dQDvnJxtO",
        "colab_type": "code",
        "colab": {
          "base_uri": "https://localhost:8080/",
          "height": 86
        },
        "outputId": "3ce5017b-3177-45b9-c4d6-fbde4a4156e8"
      },
      "source": [
        " top,bottom = np.vsplit(g,[2])\n",
        "print(top)\n",
        "print(bottom)"
      ],
      "execution_count": 80,
      "outputs": [
        {
          "output_type": "stream",
          "text": [
            "[[0 1 2 3]\n",
            " [4 5 6 7]]\n",
            "[[ 8  9 10 11]\n",
            " [12 13 14 15]]\n"
          ],
          "name": "stdout"
        }
      ]
    },
    {
      "cell_type": "markdown",
      "metadata": {
        "id": "vUojo0BHLuTM",
        "colab_type": "text"
      },
      "source": [
        " aggregates"
      ]
    },
    {
      "cell_type": "code",
      "metadata": {
        "id": "BEMZDhDkJyAI",
        "colab_type": "code",
        "colab": {
          "base_uri": "https://localhost:8080/",
          "height": 51
        },
        "outputId": "7daa61ba-7879-4b7c-d450-743cd99190c9"
      },
      "source": [
        "x = np.arange(1,9)\n",
        "print(x)\n",
        "np.add.reduce(x)"
      ],
      "execution_count": 81,
      "outputs": [
        {
          "output_type": "stream",
          "text": [
            "[1 2 3 4 5 6 7 8]\n"
          ],
          "name": "stdout"
        },
        {
          "output_type": "execute_result",
          "data": {
            "text/plain": [
              "36"
            ]
          },
          "metadata": {
            "tags": []
          },
          "execution_count": 81
        }
      ]
    },
    {
      "cell_type": "code",
      "metadata": {
        "id": "y2JjQQKaJyD1",
        "colab_type": "code",
        "colab": {
          "base_uri": "https://localhost:8080/",
          "height": 34
        },
        "outputId": "eb52f5d5-b2af-4566-9642-96646cf6e4e7"
      },
      "source": [
        "np.multiply.reduce(x)"
      ],
      "execution_count": 82,
      "outputs": [
        {
          "output_type": "execute_result",
          "data": {
            "text/plain": [
              "40320"
            ]
          },
          "metadata": {
            "tags": []
          },
          "execution_count": 82
        }
      ]
    },
    {
      "cell_type": "code",
      "metadata": {
        "id": "y_UAuDIvJxoD",
        "colab_type": "code",
        "colab": {
          "base_uri": "https://localhost:8080/",
          "height": 51
        },
        "outputId": "9a7567d2-f934-49bd-edb9-4e9e9d59438a"
      },
      "source": [
        "print(np.add.accumulate(x))\n",
        "x"
      ],
      "execution_count": 85,
      "outputs": [
        {
          "output_type": "stream",
          "text": [
            "[ 1  3  6 10 15 21 28 36]\n"
          ],
          "name": "stdout"
        },
        {
          "output_type": "execute_result",
          "data": {
            "text/plain": [
              "array([1, 2, 3, 4, 5, 6, 7, 8])"
            ]
          },
          "metadata": {
            "tags": []
          },
          "execution_count": 85
        }
      ]
    },
    {
      "cell_type": "code",
      "metadata": {
        "id": "GSOOHnB5MSVs",
        "colab_type": "code",
        "colab": {
          "base_uri": "https://localhost:8080/",
          "height": 71
        },
        "outputId": "b970efed-8376-4130-cc77-7d2f3541ab57"
      },
      "source": [
        " print(np.multiply.accumulate(x))\n",
        "x"
      ],
      "execution_count": 86,
      "outputs": [
        {
          "output_type": "stream",
          "text": [
            "[    1     2     6    24   120   720  5040 40320]\n"
          ],
          "name": "stdout"
        },
        {
          "output_type": "execute_result",
          "data": {
            "text/plain": [
              "array([1, 2, 3, 4, 5, 6, 7, 8])"
            ]
          },
          "metadata": {
            "tags": []
          },
          "execution_count": 86
        }
      ]
    },
    {
      "cell_type": "code",
      "metadata": {
        "id": "gFlS1vT2MTat",
        "colab_type": "code",
        "colab": {}
      },
      "source": [
        ""
      ],
      "execution_count": null,
      "outputs": []
    }
  ]
}