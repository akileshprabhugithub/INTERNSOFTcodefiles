{
  "nbformat": 4,
  "nbformat_minor": 0,
  "metadata": {
    "colab": {
      "name": "Welcome To Colaboratory",
      "provenance": [],
      "collapsed_sections": [],
      "include_colab_link": true
    },
    "kernelspec": {
      "display_name": "Python 3",
      "name": "python3"
    }
  },
  "cells": [
    {
      "cell_type": "markdown",
      "metadata": {
        "id": "view-in-github",
        "colab_type": "text"
      },
      "source": [
        "<a href=\"https://colab.research.google.com/github/akileshprabhugithub/INTERNSOFTcodefiles/blob/master/SESSION9_pandas2codefile.ipynb\" target=\"_parent\"><img src=\"https://colab.research.google.com/assets/colab-badge.svg\" alt=\"Open In Colab\"/></a>"
      ]
    },
    {
      "cell_type": "code",
      "metadata": {
        "id": "wlMsKvfHnysh",
        "colab_type": "code",
        "colab": {}
      },
      "source": [
        "import numpy as np \n",
        "import pandas as pd"
      ],
      "execution_count": 1,
      "outputs": []
    },
    {
      "cell_type": "code",
      "metadata": {
        "id": "N1OIrXrJn7JL",
        "colab_type": "code",
        "colab": {
          "base_uri": "https://localhost:8080/",
          "height": 110
        },
        "outputId": "314f25c8-dd78-44d6-e778-ef166d5bb68a"
      },
      "source": [
        " pd.DataFrame([{'aa':1,'bb':2},{'bb':3,'cc':6}])"
      ],
      "execution_count": 6,
      "outputs": [
        {
          "output_type": "execute_result",
          "data": {
            "text/html": [
              "<div>\n",
              "<style scoped>\n",
              "    .dataframe tbody tr th:only-of-type {\n",
              "        vertical-align: middle;\n",
              "    }\n",
              "\n",
              "    .dataframe tbody tr th {\n",
              "        vertical-align: top;\n",
              "    }\n",
              "\n",
              "    .dataframe thead th {\n",
              "        text-align: right;\n",
              "    }\n",
              "</style>\n",
              "<table border=\"1\" class=\"dataframe\">\n",
              "  <thead>\n",
              "    <tr style=\"text-align: right;\">\n",
              "      <th></th>\n",
              "      <th>aa</th>\n",
              "      <th>bb</th>\n",
              "      <th>cc</th>\n",
              "    </tr>\n",
              "  </thead>\n",
              "  <tbody>\n",
              "    <tr>\n",
              "      <th>0</th>\n",
              "      <td>1.0</td>\n",
              "      <td>2</td>\n",
              "      <td>NaN</td>\n",
              "    </tr>\n",
              "    <tr>\n",
              "      <th>1</th>\n",
              "      <td>NaN</td>\n",
              "      <td>3</td>\n",
              "      <td>6.0</td>\n",
              "    </tr>\n",
              "  </tbody>\n",
              "</table>\n",
              "</div>"
            ],
            "text/plain": [
              "    aa  bb   cc\n",
              "0  1.0   2  NaN\n",
              "1  NaN   3  6.0"
            ]
          },
          "metadata": {
            "tags": []
          },
          "execution_count": 6
        }
      ]
    },
    {
      "cell_type": "markdown",
      "metadata": {
        "id": "CFR2sFbboYbB",
        "colab_type": "text"
      },
      "source": [
        "from a 2-d numpy array"
      ]
    },
    {
      "cell_type": "code",
      "metadata": {
        "id": "9mj1mpW8n7WX",
        "colab_type": "code",
        "colab": {
          "base_uri": "https://localhost:8080/",
          "height": 141
        },
        "outputId": "17bd7319-582d-4b3f-d8d7-5ca923ca8fdf"
      },
      "source": [
        "pd.DataFrame(np.random.randint(2,12),\n",
        "columns = ['spam','eggs'],\n",
        "index = ['a','b','c'])"
      ],
      "execution_count": 9,
      "outputs": [
        {
          "output_type": "execute_result",
          "data": {
            "text/html": [
              "<div>\n",
              "<style scoped>\n",
              "    .dataframe tbody tr th:only-of-type {\n",
              "        vertical-align: middle;\n",
              "    }\n",
              "\n",
              "    .dataframe tbody tr th {\n",
              "        vertical-align: top;\n",
              "    }\n",
              "\n",
              "    .dataframe thead th {\n",
              "        text-align: right;\n",
              "    }\n",
              "</style>\n",
              "<table border=\"1\" class=\"dataframe\">\n",
              "  <thead>\n",
              "    <tr style=\"text-align: right;\">\n",
              "      <th></th>\n",
              "      <th>spam</th>\n",
              "      <th>eggs</th>\n",
              "    </tr>\n",
              "  </thead>\n",
              "  <tbody>\n",
              "    <tr>\n",
              "      <th>a</th>\n",
              "      <td>4</td>\n",
              "      <td>4</td>\n",
              "    </tr>\n",
              "    <tr>\n",
              "      <th>b</th>\n",
              "      <td>4</td>\n",
              "      <td>4</td>\n",
              "    </tr>\n",
              "    <tr>\n",
              "      <th>c</th>\n",
              "      <td>4</td>\n",
              "      <td>4</td>\n",
              "    </tr>\n",
              "  </tbody>\n",
              "</table>\n",
              "</div>"
            ],
            "text/plain": [
              "   spam  eggs\n",
              "a     4     4\n",
              "b     4     4\n",
              "c     4     4"
            ]
          },
          "metadata": {
            "tags": []
          },
          "execution_count": 9
        }
      ]
    },
    {
      "cell_type": "markdown",
      "metadata": {
        "id": "zIULsHUapm3p",
        "colab_type": "text"
      },
      "source": [
        "pandas index object"
      ]
    },
    {
      "cell_type": "code",
      "metadata": {
        "id": "fEm7b7Xhn7cC",
        "colab_type": "code",
        "colab": {
          "base_uri": "https://localhost:8080/",
          "height": 54
        },
        "outputId": "53c4f23b-75d3-44e4-b602-13e0866f4897"
      },
      "source": [
        "ind = pd.Index([20,30,40,50,60])\n",
        "ind"
      ],
      "execution_count": 10,
      "outputs": [
        {
          "output_type": "execute_result",
          "data": {
            "text/plain": [
              "Int64Index([20, 30, 40, 50, 60], dtype='int64')"
            ]
          },
          "metadata": {
            "tags": []
          },
          "execution_count": 10
        }
      ]
    },
    {
      "cell_type": "markdown",
      "metadata": {
        "id": "vDN4Vg9PqKHM",
        "colab_type": "text"
      },
      "source": [
        "index as immutable array"
      ]
    },
    {
      "cell_type": "code",
      "metadata": {
        "id": "1FrA8p8gn7ed",
        "colab_type": "code",
        "colab": {
          "base_uri": "https://localhost:8080/",
          "height": 34
        },
        "outputId": "f2ba0052-3bb3-4336-b0b6-8b54f1b1e239"
      },
      "source": [
        "ind[1]"
      ],
      "execution_count": 11,
      "outputs": [
        {
          "output_type": "execute_result",
          "data": {
            "text/plain": [
              "30"
            ]
          },
          "metadata": {
            "tags": []
          },
          "execution_count": 11
        }
      ]
    },
    {
      "cell_type": "code",
      "metadata": {
        "id": "HiJgY8ePn7go",
        "colab_type": "code",
        "colab": {
          "base_uri": "https://localhost:8080/",
          "height": 54
        },
        "outputId": "a407b26e-f9a9-4566-82af-10cec22e2af3"
      },
      "source": [
        "ind[::]"
      ],
      "execution_count": 12,
      "outputs": [
        {
          "output_type": "execute_result",
          "data": {
            "text/plain": [
              "Int64Index([20, 30, 40, 50, 60], dtype='int64')"
            ]
          },
          "metadata": {
            "tags": []
          },
          "execution_count": 12
        }
      ]
    },
    {
      "cell_type": "code",
      "metadata": {
        "id": "dUVlwlNLn7jO",
        "colab_type": "code",
        "colab": {
          "base_uri": "https://localhost:8080/",
          "height": 54
        },
        "outputId": "8b85c427-b379-486d-9eb1-27a0b1a4aeb1"
      },
      "source": [
        "ind[::-1]"
      ],
      "execution_count": 13,
      "outputs": [
        {
          "output_type": "execute_result",
          "data": {
            "text/plain": [
              "Int64Index([60, 50, 40, 30, 20], dtype='int64')"
            ]
          },
          "metadata": {
            "tags": []
          },
          "execution_count": 13
        }
      ]
    },
    {
      "cell_type": "code",
      "metadata": {
        "id": "bfcIzUqyn7m1",
        "colab_type": "code",
        "colab": {
          "base_uri": "https://localhost:8080/",
          "height": 34
        },
        "outputId": "8b150b14-d87d-400d-f391-c3523f71376a"
      },
      "source": [
        "print(ind.size,ind.shape,ind.ndim,ind.dtype)"
      ],
      "execution_count": 15,
      "outputs": [
        {
          "output_type": "stream",
          "text": [
            "5 (5,) 1 int64\n"
          ],
          "name": "stdout"
        }
      ]
    },
    {
      "cell_type": "code",
      "metadata": {
        "id": "F1zozK-Jn7t0",
        "colab_type": "code",
        "colab": {
          "base_uri": "https://localhost:8080/",
          "height": 54
        },
        "outputId": "97d3a85c-6bb1-4db2-f63d-86bbe2d9cb0e"
      },
      "source": [
        "print(type(ind))"
      ],
      "execution_count": 16,
      "outputs": [
        {
          "output_type": "stream",
          "text": [
            "<class 'pandas.core.indexes.numeric.Int64Index'>\n"
          ],
          "name": "stdout"
        }
      ]
    },
    {
      "cell_type": "code",
      "metadata": {
        "id": "d6YNQF2Dn7yg",
        "colab_type": "code",
        "colab": {}
      },
      "source": [
        "ind[1] = 0  #index is immutable"
      ],
      "execution_count": null,
      "outputs": []
    },
    {
      "cell_type": "markdown",
      "metadata": {
        "id": "J7XKlwFyrSLA",
        "colab_type": "text"
      },
      "source": [
        "ufuncs:index preservation"
      ]
    },
    {
      "cell_type": "code",
      "metadata": {
        "id": "SSkPoPzXn71g",
        "colab_type": "code",
        "colab": {
          "base_uri": "https://localhost:8080/",
          "height": 103
        },
        "outputId": "ac1e6cdf-b611-451f-ba1b-9d26e3bee6d8"
      },
      "source": [
        "abc = np.random.RandomState(10)\n",
        "ser = pd.Series(abc.randint(0,10,4))\n",
        "ser"
      ],
      "execution_count": 23,
      "outputs": [
        {
          "output_type": "execute_result",
          "data": {
            "text/plain": [
              "0    9\n",
              "1    4\n",
              "2    0\n",
              "3    1\n",
              "dtype: int64"
            ]
          },
          "metadata": {
            "tags": []
          },
          "execution_count": 23
        }
      ]
    },
    {
      "cell_type": "code",
      "metadata": {
        "id": "gCLOJ9jJn75w",
        "colab_type": "code",
        "colab": {
          "base_uri": "https://localhost:8080/",
          "height": 203
        },
        "outputId": "60d17d0d-5714-4005-bf49-471810f4b839"
      },
      "source": [
        "dfr = pd.DataFrame(abc.randint(0,10,(5,4)),\n",
        "columns = ['a','b','c','d'])\n",
        "dfr"
      ],
      "execution_count": 27,
      "outputs": [
        {
          "output_type": "execute_result",
          "data": {
            "text/html": [
              "<div>\n",
              "<style scoped>\n",
              "    .dataframe tbody tr th:only-of-type {\n",
              "        vertical-align: middle;\n",
              "    }\n",
              "\n",
              "    .dataframe tbody tr th {\n",
              "        vertical-align: top;\n",
              "    }\n",
              "\n",
              "    .dataframe thead th {\n",
              "        text-align: right;\n",
              "    }\n",
              "</style>\n",
              "<table border=\"1\" class=\"dataframe\">\n",
              "  <thead>\n",
              "    <tr style=\"text-align: right;\">\n",
              "      <th></th>\n",
              "      <th>a</th>\n",
              "      <th>b</th>\n",
              "      <th>c</th>\n",
              "      <th>d</th>\n",
              "    </tr>\n",
              "  </thead>\n",
              "  <tbody>\n",
              "    <tr>\n",
              "      <th>0</th>\n",
              "      <td>7</td>\n",
              "      <td>1</td>\n",
              "      <td>4</td>\n",
              "      <td>0</td>\n",
              "    </tr>\n",
              "    <tr>\n",
              "      <th>1</th>\n",
              "      <td>8</td>\n",
              "      <td>5</td>\n",
              "      <td>4</td>\n",
              "      <td>7</td>\n",
              "    </tr>\n",
              "    <tr>\n",
              "      <th>2</th>\n",
              "      <td>8</td>\n",
              "      <td>8</td>\n",
              "      <td>2</td>\n",
              "      <td>6</td>\n",
              "    </tr>\n",
              "    <tr>\n",
              "      <th>3</th>\n",
              "      <td>2</td>\n",
              "      <td>8</td>\n",
              "      <td>8</td>\n",
              "      <td>6</td>\n",
              "    </tr>\n",
              "    <tr>\n",
              "      <th>4</th>\n",
              "      <td>6</td>\n",
              "      <td>5</td>\n",
              "      <td>6</td>\n",
              "      <td>0</td>\n",
              "    </tr>\n",
              "  </tbody>\n",
              "</table>\n",
              "</div>"
            ],
            "text/plain": [
              "   a  b  c  d\n",
              "0  7  1  4  0\n",
              "1  8  5  4  7\n",
              "2  8  8  2  6\n",
              "3  2  8  8  6\n",
              "4  6  5  6  0"
            ]
          },
          "metadata": {
            "tags": []
          },
          "execution_count": 27
        }
      ]
    },
    {
      "cell_type": "code",
      "metadata": {
        "id": "dkU7fExbn7-L",
        "colab_type": "code",
        "colab": {
          "base_uri": "https://localhost:8080/",
          "height": 103
        },
        "outputId": "362b4684-2588-41ab-b790-47c78e1324c9"
      },
      "source": [
        "np.exp(ser)"
      ],
      "execution_count": 28,
      "outputs": [
        {
          "output_type": "execute_result",
          "data": {
            "text/plain": [
              "0    8103.083928\n",
              "1      54.598150\n",
              "2       1.000000\n",
              "3       2.718282\n",
              "dtype: float64"
            ]
          },
          "metadata": {
            "tags": []
          },
          "execution_count": 28
        }
      ]
    },
    {
      "cell_type": "code",
      "metadata": {
        "id": "XN_hXvtwn8Cy",
        "colab_type": "code",
        "colab": {
          "base_uri": "https://localhost:8080/",
          "height": 309
        },
        "outputId": "e764ae31-8d63-4c22-8d14-57f1144b9331"
      },
      "source": [
        "np.sin(dfr*np.pi/4)"
      ],
      "execution_count": 29,
      "outputs": [
        {
          "output_type": "execute_result",
          "data": {
            "text/html": [
              "<div>\n",
              "<style scoped>\n",
              "    .dataframe tbody tr th:only-of-type {\n",
              "        vertical-align: middle;\n",
              "    }\n",
              "\n",
              "    .dataframe tbody tr th {\n",
              "        vertical-align: top;\n",
              "    }\n",
              "\n",
              "    .dataframe thead th {\n",
              "        text-align: right;\n",
              "    }\n",
              "</style>\n",
              "<table border=\"1\" class=\"dataframe\">\n",
              "  <thead>\n",
              "    <tr style=\"text-align: right;\">\n",
              "      <th></th>\n",
              "      <th>a</th>\n",
              "      <th>b</th>\n",
              "      <th>c</th>\n",
              "      <th>d</th>\n",
              "    </tr>\n",
              "  </thead>\n",
              "  <tbody>\n",
              "    <tr>\n",
              "      <th>0</th>\n",
              "      <td>-7.071068e-01</td>\n",
              "      <td>7.071068e-01</td>\n",
              "      <td>1.224647e-16</td>\n",
              "      <td>0.000000</td>\n",
              "    </tr>\n",
              "    <tr>\n",
              "      <th>1</th>\n",
              "      <td>-2.449294e-16</td>\n",
              "      <td>-7.071068e-01</td>\n",
              "      <td>1.224647e-16</td>\n",
              "      <td>-0.707107</td>\n",
              "    </tr>\n",
              "    <tr>\n",
              "      <th>2</th>\n",
              "      <td>-2.449294e-16</td>\n",
              "      <td>-2.449294e-16</td>\n",
              "      <td>1.000000e+00</td>\n",
              "      <td>-1.000000</td>\n",
              "    </tr>\n",
              "    <tr>\n",
              "      <th>3</th>\n",
              "      <td>1.000000e+00</td>\n",
              "      <td>-2.449294e-16</td>\n",
              "      <td>-2.449294e-16</td>\n",
              "      <td>-1.000000</td>\n",
              "    </tr>\n",
              "    <tr>\n",
              "      <th>4</th>\n",
              "      <td>-1.000000e+00</td>\n",
              "      <td>-7.071068e-01</td>\n",
              "      <td>-1.000000e+00</td>\n",
              "      <td>0.000000</td>\n",
              "    </tr>\n",
              "  </tbody>\n",
              "</table>\n",
              "</div>"
            ],
            "text/plain": [
              "              a             b             c         d\n",
              "0 -7.071068e-01  7.071068e-01  1.224647e-16  0.000000\n",
              "1 -2.449294e-16 -7.071068e-01  1.224647e-16 -0.707107\n",
              "2 -2.449294e-16 -2.449294e-16  1.000000e+00 -1.000000\n",
              "3  1.000000e+00 -2.449294e-16 -2.449294e-16 -1.000000\n",
              "4 -1.000000e+00 -7.071068e-01 -1.000000e+00  0.000000"
            ]
          },
          "metadata": {
            "tags": []
          },
          "execution_count": 29
        }
      ]
    },
    {
      "cell_type": "markdown",
      "metadata": {
        "id": "SQaUk3LDtp9Q",
        "colab_type": "text"
      },
      "source": [
        "universal functions : index alignment"
      ]
    },
    {
      "cell_type": "code",
      "metadata": {
        "id": "UCCX9bLWn8Bu",
        "colab_type": "code",
        "colab": {
          "base_uri": "https://localhost:8080/",
          "height": 155
        },
        "outputId": "f22ecf77-0437-47a4-d069-4560b0b843b6"
      },
      "source": [
        "area =pd.Series({'alaska':3467743, 'texas':4579643,'california':6864462},name = 'area')\n",
        "population = pd.Series({'california':557433849,'texas':367853858,'new york':844278646},name = 'population')\n",
        "print(area)\n",
        "population"
      ],
      "execution_count": 30,
      "outputs": [
        {
          "output_type": "stream",
          "text": [
            "alaska        3467743\n",
            "texas         4579643\n",
            "california    6864462\n",
            "Name: area, dtype: int64\n"
          ],
          "name": "stdout"
        },
        {
          "output_type": "execute_result",
          "data": {
            "text/plain": [
              "california    557433849\n",
              "texas         367853858\n",
              "new york      844278646\n",
              "Name: population, dtype: int64"
            ]
          },
          "metadata": {
            "tags": []
          },
          "execution_count": 30
        }
      ]
    },
    {
      "cell_type": "code",
      "metadata": {
        "id": "1ZIQsaw5n78S",
        "colab_type": "code",
        "colab": {
          "base_uri": "https://localhost:8080/",
          "height": 103
        },
        "outputId": "0e60c8e7-9b45-4afa-dc07-8d3871dc3049"
      },
      "source": [
        "population / area"
      ],
      "execution_count": 31,
      "outputs": [
        {
          "output_type": "execute_result",
          "data": {
            "text/plain": [
              "alaska              NaN\n",
              "california    81.205759\n",
              "new york            NaN\n",
              "texas         80.323697\n",
              "dtype: float64"
            ]
          },
          "metadata": {
            "tags": []
          },
          "execution_count": 31
        }
      ]
    },
    {
      "cell_type": "code",
      "metadata": {
        "id": "Xmuf4p7qn73_",
        "colab_type": "code",
        "colab": {
          "base_uri": "https://localhost:8080/",
          "height": 54
        },
        "outputId": "623e0358-9d36-4ccd-d216-ac5562d778fd"
      },
      "source": [
        "area.index | population.index"
      ],
      "execution_count": 32,
      "outputs": [
        {
          "output_type": "execute_result",
          "data": {
            "text/plain": [
              "Index(['alaska', 'california', 'new york', 'texas'], dtype='object')"
            ]
          },
          "metadata": {
            "tags": []
          },
          "execution_count": 32
        }
      ]
    },
    {
      "cell_type": "code",
      "metadata": {
        "id": "V_UHOB8Nn7w1",
        "colab_type": "code",
        "colab": {
          "base_uri": "https://localhost:8080/",
          "height": 223
        },
        "outputId": "4e1b7b6d-497b-4804-c105-c866a7286bf1"
      },
      "source": [
        "a = pd.Series([2,4,6],index = [0,1,2])\n",
        "b = pd.Series([1,3,5],index = [1,2,3])\n",
        "print(a,b)\n",
        "b\n",
        "a+b"
      ],
      "execution_count": 33,
      "outputs": [
        {
          "output_type": "stream",
          "text": [
            "0    2\n",
            "1    4\n",
            "2    6\n",
            "dtype: int64 1    1\n",
            "2    3\n",
            "3    5\n",
            "dtype: int64\n"
          ],
          "name": "stdout"
        },
        {
          "output_type": "execute_result",
          "data": {
            "text/plain": [
              "0    NaN\n",
              "1    5.0\n",
              "2    9.0\n",
              "3    NaN\n",
              "dtype: float64"
            ]
          },
          "metadata": {
            "tags": []
          },
          "execution_count": 33
        }
      ]
    },
    {
      "cell_type": "code",
      "metadata": {
        "id": "6yxV8Wmen7r4",
        "colab_type": "code",
        "colab": {
          "base_uri": "https://localhost:8080/",
          "height": 103
        },
        "outputId": "620e2d94-f144-4e81-f95b-c9603b260f3c"
      },
      "source": [
        "a.add(b, fill_value=0)"
      ],
      "execution_count": 35,
      "outputs": [
        {
          "output_type": "execute_result",
          "data": {
            "text/plain": [
              "0    2.0\n",
              "1    5.0\n",
              "2    9.0\n",
              "3    5.0\n",
              "dtype: float64"
            ]
          },
          "metadata": {
            "tags": []
          },
          "execution_count": 35
        }
      ]
    },
    {
      "cell_type": "code",
      "metadata": {
        "id": "c5Th5WeLx4Mb",
        "colab_type": "code",
        "colab": {
          "base_uri": "https://localhost:8080/",
          "height": 261
        },
        "outputId": "bdedeb18-992d-4db5-f438-9ae5523c8197"
      },
      "source": [
        "data = {'book_name':['Wish I Could Tell You','The One You Cannot Have','Will You Still Love Me?','Cosmos'],\n",
        "        'year' :[2019,2018,2016,2017],\n",
        "        'author' :['Durjoy Datta','Preeti Shenoy','Ravinder Singh','Carl Sagan']}\n",
        "print(data)\n",
        "print(type(data))\n",
        "pd.DataFrame(data)"
      ],
      "execution_count": 41,
      "outputs": [
        {
          "output_type": "stream",
          "text": [
            "{'book_name': ['Wish I Could Tell You', 'The One You Cannot Have', 'Will You Still Love Me?', 'Cosmos'], 'year': [2019, 2018, 2016, 2017], 'author': ['Durjoy Datta', 'Preeti Shenoy', 'Ravinder Singh', 'Carl Sagan']}\n",
            "<class 'dict'>\n"
          ],
          "name": "stdout"
        },
        {
          "output_type": "execute_result",
          "data": {
            "text/html": [
              "<div>\n",
              "<style scoped>\n",
              "    .dataframe tbody tr th:only-of-type {\n",
              "        vertical-align: middle;\n",
              "    }\n",
              "\n",
              "    .dataframe tbody tr th {\n",
              "        vertical-align: top;\n",
              "    }\n",
              "\n",
              "    .dataframe thead th {\n",
              "        text-align: right;\n",
              "    }\n",
              "</style>\n",
              "<table border=\"1\" class=\"dataframe\">\n",
              "  <thead>\n",
              "    <tr style=\"text-align: right;\">\n",
              "      <th></th>\n",
              "      <th>book_name</th>\n",
              "      <th>year</th>\n",
              "      <th>author</th>\n",
              "    </tr>\n",
              "  </thead>\n",
              "  <tbody>\n",
              "    <tr>\n",
              "      <th>0</th>\n",
              "      <td>Wish I Could Tell You</td>\n",
              "      <td>2019</td>\n",
              "      <td>Durjoy Datta</td>\n",
              "    </tr>\n",
              "    <tr>\n",
              "      <th>1</th>\n",
              "      <td>The One You Cannot Have</td>\n",
              "      <td>2018</td>\n",
              "      <td>Preeti Shenoy</td>\n",
              "    </tr>\n",
              "    <tr>\n",
              "      <th>2</th>\n",
              "      <td>Will You Still Love Me?</td>\n",
              "      <td>2016</td>\n",
              "      <td>Ravinder Singh</td>\n",
              "    </tr>\n",
              "    <tr>\n",
              "      <th>3</th>\n",
              "      <td>Cosmos</td>\n",
              "      <td>2017</td>\n",
              "      <td>Carl Sagan</td>\n",
              "    </tr>\n",
              "  </tbody>\n",
              "</table>\n",
              "</div>"
            ],
            "text/plain": [
              "                 book_name  year          author\n",
              "0    Wish I Could Tell You  2019    Durjoy Datta\n",
              "1  The One You Cannot Have  2018   Preeti Shenoy\n",
              "2  Will You Still Love Me?  2016  Ravinder Singh\n",
              "3                   Cosmos  2017      Carl Sagan"
            ]
          },
          "metadata": {
            "tags": []
          },
          "execution_count": 41
        }
      ]
    },
    {
      "cell_type": "code",
      "metadata": {
        "id": "LNdUNWNWyQHy",
        "colab_type": "code",
        "colab": {
          "base_uri": "https://localhost:8080/",
          "height": 206
        },
        "outputId": "79b86d7c-812c-4741-e0c6-2e7f5ec923b6"
      },
      "source": [
        " df = pd.DataFrame(data,columns=['book_name','author','year'])\n",
        "df"
      ],
      "execution_count": 43,
      "outputs": [
        {
          "output_type": "execute_result",
          "data": {
            "text/html": [
              "<div>\n",
              "<style scoped>\n",
              "    .dataframe tbody tr th:only-of-type {\n",
              "        vertical-align: middle;\n",
              "    }\n",
              "\n",
              "    .dataframe tbody tr th {\n",
              "        vertical-align: top;\n",
              "    }\n",
              "\n",
              "    .dataframe thead th {\n",
              "        text-align: right;\n",
              "    }\n",
              "</style>\n",
              "<table border=\"1\" class=\"dataframe\">\n",
              "  <thead>\n",
              "    <tr style=\"text-align: right;\">\n",
              "      <th></th>\n",
              "      <th>book_name</th>\n",
              "      <th>author</th>\n",
              "      <th>year</th>\n",
              "    </tr>\n",
              "  </thead>\n",
              "  <tbody>\n",
              "    <tr>\n",
              "      <th>0</th>\n",
              "      <td>Wish I Could Tell You</td>\n",
              "      <td>Durjoy Datta</td>\n",
              "      <td>2019</td>\n",
              "    </tr>\n",
              "    <tr>\n",
              "      <th>1</th>\n",
              "      <td>The One You Cannot Have</td>\n",
              "      <td>Preeti Shenoy</td>\n",
              "      <td>2018</td>\n",
              "    </tr>\n",
              "    <tr>\n",
              "      <th>2</th>\n",
              "      <td>Will You Still Love Me?</td>\n",
              "      <td>Ravinder Singh</td>\n",
              "      <td>2016</td>\n",
              "    </tr>\n",
              "    <tr>\n",
              "      <th>3</th>\n",
              "      <td>Cosmos</td>\n",
              "      <td>Carl Sagan</td>\n",
              "      <td>2017</td>\n",
              "    </tr>\n",
              "  </tbody>\n",
              "</table>\n",
              "</div>"
            ],
            "text/plain": [
              "                 book_name          author  year\n",
              "0    Wish I Could Tell You    Durjoy Datta  2019\n",
              "1  The One You Cannot Have   Preeti Shenoy  2018\n",
              "2  Will You Still Love Me?  Ravinder Singh  2016\n",
              "3                   Cosmos      Carl Sagan  2017"
            ]
          },
          "metadata": {
            "tags": []
          },
          "execution_count": 43
        }
      ]
    },
    {
      "cell_type": "code",
      "metadata": {
        "id": "kQne10-2yF7v",
        "colab_type": "code",
        "colab": {
          "base_uri": "https://localhost:8080/",
          "height": 241
        },
        "outputId": "ad95104c-55d5-42ea-b68f-055504910055"
      },
      "source": [
        " df['genre'] = ['fiction','romance fiction','romance fiction','fiction']\n",
        "df"
      ],
      "execution_count": 44,
      "outputs": [
        {
          "output_type": "execute_result",
          "data": {
            "text/html": [
              "<div>\n",
              "<style scoped>\n",
              "    .dataframe tbody tr th:only-of-type {\n",
              "        vertical-align: middle;\n",
              "    }\n",
              "\n",
              "    .dataframe tbody tr th {\n",
              "        vertical-align: top;\n",
              "    }\n",
              "\n",
              "    .dataframe thead th {\n",
              "        text-align: right;\n",
              "    }\n",
              "</style>\n",
              "<table border=\"1\" class=\"dataframe\">\n",
              "  <thead>\n",
              "    <tr style=\"text-align: right;\">\n",
              "      <th></th>\n",
              "      <th>book_name</th>\n",
              "      <th>author</th>\n",
              "      <th>year</th>\n",
              "      <th>genre</th>\n",
              "    </tr>\n",
              "  </thead>\n",
              "  <tbody>\n",
              "    <tr>\n",
              "      <th>0</th>\n",
              "      <td>Wish I Could Tell You</td>\n",
              "      <td>Durjoy Datta</td>\n",
              "      <td>2019</td>\n",
              "      <td>fiction</td>\n",
              "    </tr>\n",
              "    <tr>\n",
              "      <th>1</th>\n",
              "      <td>The One You Cannot Have</td>\n",
              "      <td>Preeti Shenoy</td>\n",
              "      <td>2018</td>\n",
              "      <td>romance fiction</td>\n",
              "    </tr>\n",
              "    <tr>\n",
              "      <th>2</th>\n",
              "      <td>Will You Still Love Me?</td>\n",
              "      <td>Ravinder Singh</td>\n",
              "      <td>2016</td>\n",
              "      <td>romance fiction</td>\n",
              "    </tr>\n",
              "    <tr>\n",
              "      <th>3</th>\n",
              "      <td>Cosmos</td>\n",
              "      <td>Carl Sagan</td>\n",
              "      <td>2017</td>\n",
              "      <td>fiction</td>\n",
              "    </tr>\n",
              "  </tbody>\n",
              "</table>\n",
              "</div>"
            ],
            "text/plain": [
              "                 book_name          author  year            genre\n",
              "0    Wish I Could Tell You    Durjoy Datta  2019          fiction\n",
              "1  The One You Cannot Have   Preeti Shenoy  2018  romance fiction\n",
              "2  Will You Still Love Me?  Ravinder Singh  2016  romance fiction\n",
              "3                   Cosmos      Carl Sagan  2017          fiction"
            ]
          },
          "metadata": {
            "tags": []
          },
          "execution_count": 44
        }
      ]
    },
    {
      "cell_type": "code",
      "metadata": {
        "id": "KQ3-SjpSn7qP",
        "colab_type": "code",
        "colab": {
          "base_uri": "https://localhost:8080/",
          "height": 312
        },
        "outputId": "09ec6718-ef4f-42a3-acda-5a1c04e54d15"
      },
      "source": [
        "df['serie_aligned'] =pd.Series(range(4),index=[0,1,2,3])\n",
        "df"
      ],
      "execution_count": 45,
      "outputs": [
        {
          "output_type": "execute_result",
          "data": {
            "text/html": [
              "<div>\n",
              "<style scoped>\n",
              "    .dataframe tbody tr th:only-of-type {\n",
              "        vertical-align: middle;\n",
              "    }\n",
              "\n",
              "    .dataframe tbody tr th {\n",
              "        vertical-align: top;\n",
              "    }\n",
              "\n",
              "    .dataframe thead th {\n",
              "        text-align: right;\n",
              "    }\n",
              "</style>\n",
              "<table border=\"1\" class=\"dataframe\">\n",
              "  <thead>\n",
              "    <tr style=\"text-align: right;\">\n",
              "      <th></th>\n",
              "      <th>book_name</th>\n",
              "      <th>author</th>\n",
              "      <th>year</th>\n",
              "      <th>genre</th>\n",
              "      <th>serie_aligned</th>\n",
              "    </tr>\n",
              "  </thead>\n",
              "  <tbody>\n",
              "    <tr>\n",
              "      <th>0</th>\n",
              "      <td>Wish I Could Tell You</td>\n",
              "      <td>Durjoy Datta</td>\n",
              "      <td>2019</td>\n",
              "      <td>fiction</td>\n",
              "      <td>0</td>\n",
              "    </tr>\n",
              "    <tr>\n",
              "      <th>1</th>\n",
              "      <td>The One You Cannot Have</td>\n",
              "      <td>Preeti Shenoy</td>\n",
              "      <td>2018</td>\n",
              "      <td>romance fiction</td>\n",
              "      <td>1</td>\n",
              "    </tr>\n",
              "    <tr>\n",
              "      <th>2</th>\n",
              "      <td>Will You Still Love Me?</td>\n",
              "      <td>Ravinder Singh</td>\n",
              "      <td>2016</td>\n",
              "      <td>romance fiction</td>\n",
              "      <td>2</td>\n",
              "    </tr>\n",
              "    <tr>\n",
              "      <th>3</th>\n",
              "      <td>Cosmos</td>\n",
              "      <td>Carl Sagan</td>\n",
              "      <td>2017</td>\n",
              "      <td>fiction</td>\n",
              "      <td>3</td>\n",
              "    </tr>\n",
              "  </tbody>\n",
              "</table>\n",
              "</div>"
            ],
            "text/plain": [
              "                 book_name          author  ...            genre serie_aligned\n",
              "0    Wish I Could Tell You    Durjoy Datta  ...          fiction             0\n",
              "1  The One You Cannot Have   Preeti Shenoy  ...  romance fiction             1\n",
              "2  Will You Still Love Me?  Ravinder Singh  ...  romance fiction             2\n",
              "3                   Cosmos      Carl Sagan  ...          fiction             3\n",
              "\n",
              "[4 rows x 5 columns]"
            ]
          },
          "metadata": {
            "tags": []
          },
          "execution_count": 45
        }
      ]
    },
    {
      "cell_type": "code",
      "metadata": {
        "id": "MNRz3-BDwSBA",
        "colab_type": "code",
        "colab": {
          "base_uri": "https://localhost:8080/",
          "height": 172
        },
        "outputId": "48ed7593-8347-4a7e-9ebe-c8a8f684d34d"
      },
      "source": [
        "df2 = pd.DataFrame({\"author\" : ['Durjoy Datta','Preeti Shenoy','Ravinder Singh','Carl Sagan'],\"no_of_books\":['18','15','11','8']})\n",
        "df2"
      ],
      "execution_count": 49,
      "outputs": [
        {
          "output_type": "execute_result",
          "data": {
            "text/html": [
              "<div>\n",
              "<style scoped>\n",
              "    .dataframe tbody tr th:only-of-type {\n",
              "        vertical-align: middle;\n",
              "    }\n",
              "\n",
              "    .dataframe tbody tr th {\n",
              "        vertical-align: top;\n",
              "    }\n",
              "\n",
              "    .dataframe thead th {\n",
              "        text-align: right;\n",
              "    }\n",
              "</style>\n",
              "<table border=\"1\" class=\"dataframe\">\n",
              "  <thead>\n",
              "    <tr style=\"text-align: right;\">\n",
              "      <th></th>\n",
              "      <th>author</th>\n",
              "      <th>no_of_books</th>\n",
              "    </tr>\n",
              "  </thead>\n",
              "  <tbody>\n",
              "    <tr>\n",
              "      <th>0</th>\n",
              "      <td>Durjoy Datta</td>\n",
              "      <td>18</td>\n",
              "    </tr>\n",
              "    <tr>\n",
              "      <th>1</th>\n",
              "      <td>Preeti Shenoy</td>\n",
              "      <td>15</td>\n",
              "    </tr>\n",
              "    <tr>\n",
              "      <th>2</th>\n",
              "      <td>Ravinder Singh</td>\n",
              "      <td>11</td>\n",
              "    </tr>\n",
              "    <tr>\n",
              "      <th>3</th>\n",
              "      <td>Carl Sagan</td>\n",
              "      <td>8</td>\n",
              "    </tr>\n",
              "  </tbody>\n",
              "</table>\n",
              "</div>"
            ],
            "text/plain": [
              "           author no_of_books\n",
              "0    Durjoy Datta          18\n",
              "1   Preeti Shenoy          15\n",
              "2  Ravinder Singh          11\n",
              "3      Carl Sagan           8"
            ]
          },
          "metadata": {
            "tags": []
          },
          "execution_count": 49
        }
      ]
    },
    {
      "cell_type": "code",
      "metadata": {
        "id": "0aK2M4LmwSIL",
        "colab_type": "code",
        "colab": {
          "base_uri": "https://localhost:8080/",
          "height": 312
        },
        "outputId": "66f9812e-3754-4a6f-fd5d-fb4446cb55de"
      },
      "source": [
        "df.merge(df2)"
      ],
      "execution_count": 54,
      "outputs": [
        {
          "output_type": "execute_result",
          "data": {
            "text/html": [
              "<div>\n",
              "<style scoped>\n",
              "    .dataframe tbody tr th:only-of-type {\n",
              "        vertical-align: middle;\n",
              "    }\n",
              "\n",
              "    .dataframe tbody tr th {\n",
              "        vertical-align: top;\n",
              "    }\n",
              "\n",
              "    .dataframe thead th {\n",
              "        text-align: right;\n",
              "    }\n",
              "</style>\n",
              "<table border=\"1\" class=\"dataframe\">\n",
              "  <thead>\n",
              "    <tr style=\"text-align: right;\">\n",
              "      <th></th>\n",
              "      <th>book_name</th>\n",
              "      <th>author</th>\n",
              "      <th>year</th>\n",
              "      <th>genre</th>\n",
              "      <th>serie_aligned</th>\n",
              "      <th>no_of_books</th>\n",
              "    </tr>\n",
              "  </thead>\n",
              "  <tbody>\n",
              "    <tr>\n",
              "      <th>0</th>\n",
              "      <td>Wish I Could Tell You</td>\n",
              "      <td>Durjoy Datta</td>\n",
              "      <td>2019</td>\n",
              "      <td>fiction</td>\n",
              "      <td>0</td>\n",
              "      <td>18</td>\n",
              "    </tr>\n",
              "    <tr>\n",
              "      <th>1</th>\n",
              "      <td>The One You Cannot Have</td>\n",
              "      <td>Preeti Shenoy</td>\n",
              "      <td>2018</td>\n",
              "      <td>romance fiction</td>\n",
              "      <td>1</td>\n",
              "      <td>15</td>\n",
              "    </tr>\n",
              "    <tr>\n",
              "      <th>2</th>\n",
              "      <td>Will You Still Love Me?</td>\n",
              "      <td>Ravinder Singh</td>\n",
              "      <td>2016</td>\n",
              "      <td>romance fiction</td>\n",
              "      <td>2</td>\n",
              "      <td>11</td>\n",
              "    </tr>\n",
              "    <tr>\n",
              "      <th>3</th>\n",
              "      <td>Cosmos</td>\n",
              "      <td>Carl Sagan</td>\n",
              "      <td>2017</td>\n",
              "      <td>fiction</td>\n",
              "      <td>3</td>\n",
              "      <td>8</td>\n",
              "    </tr>\n",
              "  </tbody>\n",
              "</table>\n",
              "</div>"
            ],
            "text/plain": [
              "                 book_name          author  ...  serie_aligned no_of_books\n",
              "0    Wish I Could Tell You    Durjoy Datta  ...              0          18\n",
              "1  The One You Cannot Have   Preeti Shenoy  ...              1          15\n",
              "2  Will You Still Love Me?  Ravinder Singh  ...              2          11\n",
              "3                   Cosmos      Carl Sagan  ...              3           8\n",
              "\n",
              "[4 rows x 6 columns]"
            ]
          },
          "metadata": {
            "tags": []
          },
          "execution_count": 54
        }
      ]
    },
    {
      "cell_type": "code",
      "metadata": {
        "id": "l4RO7dniwSLz",
        "colab_type": "code",
        "colab": {
          "base_uri": "https://localhost:8080/",
          "height": 199
        },
        "outputId": "a5bf8f2e-e271-45ba-8352-9cc8a25c3744"
      },
      "source": [
        "df3 = pd.DataFrame({\"author\":['Durjoy Datta','Preeti Shenoy'],\"no_of_books\":['18','15']})\n",
        "df3\n",
        "df.merge(df3, right_on =\"author\", left_on=\"author\")"
      ],
      "execution_count": 56,
      "outputs": [
        {
          "output_type": "execute_result",
          "data": {
            "text/html": [
              "<div>\n",
              "<style scoped>\n",
              "    .dataframe tbody tr th:only-of-type {\n",
              "        vertical-align: middle;\n",
              "    }\n",
              "\n",
              "    .dataframe tbody tr th {\n",
              "        vertical-align: top;\n",
              "    }\n",
              "\n",
              "    .dataframe thead th {\n",
              "        text-align: right;\n",
              "    }\n",
              "</style>\n",
              "<table border=\"1\" class=\"dataframe\">\n",
              "  <thead>\n",
              "    <tr style=\"text-align: right;\">\n",
              "      <th></th>\n",
              "      <th>book_name</th>\n",
              "      <th>author</th>\n",
              "      <th>year</th>\n",
              "      <th>genre</th>\n",
              "      <th>serie_aligned</th>\n",
              "      <th>no_of_books</th>\n",
              "    </tr>\n",
              "  </thead>\n",
              "  <tbody>\n",
              "    <tr>\n",
              "      <th>0</th>\n",
              "      <td>Wish I Could Tell You</td>\n",
              "      <td>Durjoy Datta</td>\n",
              "      <td>2019</td>\n",
              "      <td>fiction</td>\n",
              "      <td>0</td>\n",
              "      <td>18</td>\n",
              "    </tr>\n",
              "    <tr>\n",
              "      <th>1</th>\n",
              "      <td>The One You Cannot Have</td>\n",
              "      <td>Preeti Shenoy</td>\n",
              "      <td>2018</td>\n",
              "      <td>romance fiction</td>\n",
              "      <td>1</td>\n",
              "      <td>15</td>\n",
              "    </tr>\n",
              "  </tbody>\n",
              "</table>\n",
              "</div>"
            ],
            "text/plain": [
              "                 book_name         author  ...  serie_aligned no_of_books\n",
              "0    Wish I Could Tell You   Durjoy Datta  ...              0          18\n",
              "1  The One You Cannot Have  Preeti Shenoy  ...              1          15\n",
              "\n",
              "[2 rows x 6 columns]"
            ]
          },
          "metadata": {
            "tags": []
          },
          "execution_count": 56
        }
      ]
    },
    {
      "cell_type": "code",
      "metadata": {
        "id": "-wzb7mL6wSTh",
        "colab_type": "code",
        "colab": {
          "base_uri": "https://localhost:8080/",
          "height": 360
        },
        "outputId": "196c314c-0bac-4370-e709-3e171ba764c1"
      },
      "source": [
        "df4 = pd.DataFrame({\"author\":['Durjoy Datta','Preeti Shenoy',\"Chetan Bhagat\"],'no_of_books':['18','15','12']})\n",
        "df.merge(df4,how= 'outer')"
      ],
      "execution_count": 57,
      "outputs": [
        {
          "output_type": "execute_result",
          "data": {
            "text/html": [
              "<div>\n",
              "<style scoped>\n",
              "    .dataframe tbody tr th:only-of-type {\n",
              "        vertical-align: middle;\n",
              "    }\n",
              "\n",
              "    .dataframe tbody tr th {\n",
              "        vertical-align: top;\n",
              "    }\n",
              "\n",
              "    .dataframe thead th {\n",
              "        text-align: right;\n",
              "    }\n",
              "</style>\n",
              "<table border=\"1\" class=\"dataframe\">\n",
              "  <thead>\n",
              "    <tr style=\"text-align: right;\">\n",
              "      <th></th>\n",
              "      <th>book_name</th>\n",
              "      <th>author</th>\n",
              "      <th>year</th>\n",
              "      <th>genre</th>\n",
              "      <th>serie_aligned</th>\n",
              "      <th>no_of_books</th>\n",
              "    </tr>\n",
              "  </thead>\n",
              "  <tbody>\n",
              "    <tr>\n",
              "      <th>0</th>\n",
              "      <td>Wish I Could Tell You</td>\n",
              "      <td>Durjoy Datta</td>\n",
              "      <td>2019.0</td>\n",
              "      <td>fiction</td>\n",
              "      <td>0.0</td>\n",
              "      <td>18</td>\n",
              "    </tr>\n",
              "    <tr>\n",
              "      <th>1</th>\n",
              "      <td>The One You Cannot Have</td>\n",
              "      <td>Preeti Shenoy</td>\n",
              "      <td>2018.0</td>\n",
              "      <td>romance fiction</td>\n",
              "      <td>1.0</td>\n",
              "      <td>15</td>\n",
              "    </tr>\n",
              "    <tr>\n",
              "      <th>2</th>\n",
              "      <td>Will You Still Love Me?</td>\n",
              "      <td>Ravinder Singh</td>\n",
              "      <td>2016.0</td>\n",
              "      <td>romance fiction</td>\n",
              "      <td>2.0</td>\n",
              "      <td>NaN</td>\n",
              "    </tr>\n",
              "    <tr>\n",
              "      <th>3</th>\n",
              "      <td>Cosmos</td>\n",
              "      <td>Carl Sagan</td>\n",
              "      <td>2017.0</td>\n",
              "      <td>fiction</td>\n",
              "      <td>3.0</td>\n",
              "      <td>NaN</td>\n",
              "    </tr>\n",
              "    <tr>\n",
              "      <th>4</th>\n",
              "      <td>NaN</td>\n",
              "      <td>Chetan Bhagat</td>\n",
              "      <td>NaN</td>\n",
              "      <td>NaN</td>\n",
              "      <td>NaN</td>\n",
              "      <td>12</td>\n",
              "    </tr>\n",
              "  </tbody>\n",
              "</table>\n",
              "</div>"
            ],
            "text/plain": [
              "                 book_name          author  ...  serie_aligned no_of_books\n",
              "0    Wish I Could Tell You    Durjoy Datta  ...            0.0          18\n",
              "1  The One You Cannot Have   Preeti Shenoy  ...            1.0          15\n",
              "2  Will You Still Love Me?  Ravinder Singh  ...            2.0         NaN\n",
              "3                   Cosmos      Carl Sagan  ...            3.0         NaN\n",
              "4                      NaN   Chetan Bhagat  ...            NaN          12\n",
              "\n",
              "[5 rows x 6 columns]"
            ]
          },
          "metadata": {
            "tags": []
          },
          "execution_count": 57
        }
      ]
    },
    {
      "cell_type": "code",
      "metadata": {
        "id": "Cj-puPRZwSR1",
        "colab_type": "code",
        "colab": {
          "base_uri": "https://localhost:8080/",
          "height": 498
        },
        "outputId": "ff60461f-bcad-4d96-b149-b7440036a3d4"
      },
      "source": [
        "df5 = pd.DataFrame({\"author\":['Durjoy Datta','Preeti Shenoy',\"Durjoy Datta\"],'no_of_books':['18','15','20']})\n",
        "print(df)\n",
        "df.merge(df5,how='outer')"
      ],
      "execution_count": 61,
      "outputs": [
        {
          "output_type": "stream",
          "text": [
            "                 book_name          author  ...            genre serie_aligned\n",
            "0    Wish I Could Tell You    Durjoy Datta  ...          fiction             0\n",
            "1  The One You Cannot Have   Preeti Shenoy  ...  romance fiction             1\n",
            "2  Will You Still Love Me?  Ravinder Singh  ...  romance fiction             2\n",
            "3                   Cosmos      Carl Sagan  ...          fiction             3\n",
            "\n",
            "[4 rows x 5 columns]\n"
          ],
          "name": "stdout"
        },
        {
          "output_type": "execute_result",
          "data": {
            "text/html": [
              "<div>\n",
              "<style scoped>\n",
              "    .dataframe tbody tr th:only-of-type {\n",
              "        vertical-align: middle;\n",
              "    }\n",
              "\n",
              "    .dataframe tbody tr th {\n",
              "        vertical-align: top;\n",
              "    }\n",
              "\n",
              "    .dataframe thead th {\n",
              "        text-align: right;\n",
              "    }\n",
              "</style>\n",
              "<table border=\"1\" class=\"dataframe\">\n",
              "  <thead>\n",
              "    <tr style=\"text-align: right;\">\n",
              "      <th></th>\n",
              "      <th>book_name</th>\n",
              "      <th>author</th>\n",
              "      <th>year</th>\n",
              "      <th>genre</th>\n",
              "      <th>serie_aligned</th>\n",
              "      <th>no_of_books</th>\n",
              "    </tr>\n",
              "  </thead>\n",
              "  <tbody>\n",
              "    <tr>\n",
              "      <th>0</th>\n",
              "      <td>Wish I Could Tell You</td>\n",
              "      <td>Durjoy Datta</td>\n",
              "      <td>2019</td>\n",
              "      <td>fiction</td>\n",
              "      <td>0</td>\n",
              "      <td>18</td>\n",
              "    </tr>\n",
              "    <tr>\n",
              "      <th>1</th>\n",
              "      <td>Wish I Could Tell You</td>\n",
              "      <td>Durjoy Datta</td>\n",
              "      <td>2019</td>\n",
              "      <td>fiction</td>\n",
              "      <td>0</td>\n",
              "      <td>20</td>\n",
              "    </tr>\n",
              "    <tr>\n",
              "      <th>2</th>\n",
              "      <td>The One You Cannot Have</td>\n",
              "      <td>Preeti Shenoy</td>\n",
              "      <td>2018</td>\n",
              "      <td>romance fiction</td>\n",
              "      <td>1</td>\n",
              "      <td>15</td>\n",
              "    </tr>\n",
              "    <tr>\n",
              "      <th>3</th>\n",
              "      <td>Will You Still Love Me?</td>\n",
              "      <td>Ravinder Singh</td>\n",
              "      <td>2016</td>\n",
              "      <td>romance fiction</td>\n",
              "      <td>2</td>\n",
              "      <td>NaN</td>\n",
              "    </tr>\n",
              "    <tr>\n",
              "      <th>4</th>\n",
              "      <td>Cosmos</td>\n",
              "      <td>Carl Sagan</td>\n",
              "      <td>2017</td>\n",
              "      <td>fiction</td>\n",
              "      <td>3</td>\n",
              "      <td>NaN</td>\n",
              "    </tr>\n",
              "  </tbody>\n",
              "</table>\n",
              "</div>"
            ],
            "text/plain": [
              "                 book_name          author  ...  serie_aligned no_of_books\n",
              "0    Wish I Could Tell You    Durjoy Datta  ...              0          18\n",
              "1    Wish I Could Tell You    Durjoy Datta  ...              0          20\n",
              "2  The One You Cannot Have   Preeti Shenoy  ...              1          15\n",
              "3  Will You Still Love Me?  Ravinder Singh  ...              2         NaN\n",
              "4                   Cosmos      Carl Sagan  ...              3         NaN\n",
              "\n",
              "[5 rows x 6 columns]"
            ]
          },
          "metadata": {
            "tags": []
          },
          "execution_count": 61
        }
      ]
    },
    {
      "cell_type": "markdown",
      "metadata": {
        "id": "OieWDWDG5PiC",
        "colab_type": "text"
      },
      "source": [
        " combining data with ovelap"
      ]
    },
    {
      "cell_type": "code",
      "metadata": {
        "id": "Z-Wm01DiwSRK",
        "colab_type": "code",
        "colab": {
          "base_uri": "https://localhost:8080/",
          "height": 137
        },
        "outputId": "7d51dc3f-495d-41d5-8d97-aecfaf411156"
      },
      "source": [
        "ser_a = pd.Series([np.nan,2.5,np.nan,3.5,4.5,np.nan],index=['f','e','d','c','b','a'])\n",
        "ser_b = pd.Series(np.arange(len(ser_a),dtype=np.float64),index= ['f','e','d','c','b','a'])\n",
        "ser_a"
      ],
      "execution_count": 75,
      "outputs": [
        {
          "output_type": "execute_result",
          "data": {
            "text/plain": [
              "f    NaN\n",
              "e    2.5\n",
              "d    NaN\n",
              "c    3.5\n",
              "b    4.5\n",
              "a    NaN\n",
              "dtype: float64"
            ]
          },
          "metadata": {
            "tags": []
          },
          "execution_count": 75
        }
      ]
    },
    {
      "cell_type": "code",
      "metadata": {
        "id": "hhiqe-y5wSGT",
        "colab_type": "code",
        "colab": {
          "base_uri": "https://localhost:8080/",
          "height": 137
        },
        "outputId": "daf4692d-6be8-46da-f22d-ba7233db8650"
      },
      "source": [
        "ser_b"
      ],
      "execution_count": 76,
      "outputs": [
        {
          "output_type": "execute_result",
          "data": {
            "text/plain": [
              "f    0.0\n",
              "e    1.0\n",
              "d    2.0\n",
              "c    3.0\n",
              "b    4.0\n",
              "a    5.0\n",
              "dtype: float64"
            ]
          },
          "metadata": {
            "tags": []
          },
          "execution_count": 76
        }
      ]
    },
    {
      "cell_type": "code",
      "metadata": {
        "id": "Q9zvQfdzwSEf",
        "colab_type": "code",
        "colab": {
          "base_uri": "https://localhost:8080/",
          "height": 137
        },
        "outputId": "c9fbb35e-dd18-488f-d2cf-97b4a8dc238d"
      },
      "source": [
        "pd.Series(np.where(pd.isnull(ser_a),ser_b,ser_a),index=ser_a.index)"
      ],
      "execution_count": 78,
      "outputs": [
        {
          "output_type": "execute_result",
          "data": {
            "text/plain": [
              "f    0.0\n",
              "e    2.5\n",
              "d    2.0\n",
              "c    3.5\n",
              "b    4.5\n",
              "a    5.0\n",
              "dtype: float64"
            ]
          },
          "metadata": {
            "tags": []
          },
          "execution_count": 78
        }
      ]
    },
    {
      "cell_type": "code",
      "metadata": {
        "id": "zA3bCeMd8z04",
        "colab_type": "code",
        "colab": {
          "base_uri": "https://localhost:8080/",
          "height": 137
        },
        "outputId": "e78df23e-b03b-42d3-94a2-85c85c837813"
      },
      "source": [
        "ser_a.combine_first(ser_b)"
      ],
      "execution_count": 79,
      "outputs": [
        {
          "output_type": "execute_result",
          "data": {
            "text/plain": [
              "f    0.0\n",
              "e    2.5\n",
              "d    2.0\n",
              "c    3.5\n",
              "b    4.5\n",
              "a    5.0\n",
              "dtype: float64"
            ]
          },
          "metadata": {
            "tags": []
          },
          "execution_count": 79
        }
      ]
    },
    {
      "cell_type": "code",
      "metadata": {
        "id": "MlhjExly8z5H",
        "colab_type": "code",
        "colab": {}
      },
      "source": [
        ""
      ],
      "execution_count": null,
      "outputs": []
    },
    {
      "cell_type": "code",
      "metadata": {
        "id": "8t0CXNfI8z4G",
        "colab_type": "code",
        "colab": {}
      },
      "source": [
        ""
      ],
      "execution_count": null,
      "outputs": []
    },
    {
      "cell_type": "code",
      "metadata": {
        "id": "TpwfHy8pn7l_",
        "colab_type": "code",
        "colab": {}
      },
      "source": [
        ""
      ],
      "execution_count": null,
      "outputs": []
    }
  ]
}