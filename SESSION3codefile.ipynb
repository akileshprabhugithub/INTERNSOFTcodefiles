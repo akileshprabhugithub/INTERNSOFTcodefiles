{
  "nbformat": 4,
  "nbformat_minor": 0,
  "metadata": {
    "colab": {
      "name": "Welcome To Colaboratory",
      "provenance": [],
      "collapsed_sections": [],
      "include_colab_link": true
    },
    "kernelspec": {
      "display_name": "Python 3",
      "name": "python3"
    }
  },
  "cells": [
    {
      "cell_type": "markdown",
      "metadata": {
        "id": "view-in-github",
        "colab_type": "text"
      },
      "source": [
        "<a href=\"https://colab.research.google.com/github/akileshprabhugithub/INTERNSOFTcodefiles/blob/master/SESSION3codefile.ipynb\" target=\"_parent\"><img src=\"https://colab.research.google.com/assets/colab-badge.svg\" alt=\"Open In Colab\"/></a>"
      ]
    },
    {
      "cell_type": "markdown",
      "metadata": {
        "id": "kBNjXNZs_AhB",
        "colab_type": "text"
      },
      "source": [
        "tuples"
      ]
    },
    {
      "cell_type": "code",
      "metadata": {
        "id": "_nQbjkDy_Bw6",
        "colab_type": "code",
        "colab": {
          "base_uri": "https://localhost:8080/",
          "height": 34
        },
        "outputId": "df57d8c5-5573-4379-8336-070b3cc59d37"
      },
      "source": [
        "#can create tuple with mixed types \n",
        "#immutable\n",
        "t = (1,2,3)\n",
        "len(t)"
      ],
      "execution_count": 1,
      "outputs": [
        {
          "output_type": "execute_result",
          "data": {
            "text/plain": [
              "3"
            ]
          },
          "metadata": {
            "tags": []
          },
          "execution_count": 1
        }
      ]
    },
    {
      "cell_type": "code",
      "metadata": {
        "id": "cwRSX0kU_qw5",
        "colab_type": "code",
        "colab": {
          "base_uri": "https://localhost:8080/",
          "height": 34
        },
        "outputId": "78e8e457-f1ea-4fdc-ab15-b58a2fd9bde8"
      },
      "source": [
        "# using mixed object types \n",
        "t = ('one',2)\n",
        "t"
      ],
      "execution_count": 2,
      "outputs": [
        {
          "output_type": "execute_result",
          "data": {
            "text/plain": [
              "('one', 2)"
            ]
          },
          "metadata": {
            "tags": []
          },
          "execution_count": 2
        }
      ]
    },
    {
      "cell_type": "code",
      "metadata": {
        "id": "vTJggPaZ_qzm",
        "colab_type": "code",
        "colab": {
          "base_uri": "https://localhost:8080/",
          "height": 35
        },
        "outputId": "db19dac3-be7f-4a19-a90d-80a7e871e200"
      },
      "source": [
        "t[0]"
      ],
      "execution_count": 3,
      "outputs": [
        {
          "output_type": "execute_result",
          "data": {
            "application/vnd.google.colaboratory.intrinsic+json": {
              "type": "string"
            },
            "text/plain": [
              "'one'"
            ]
          },
          "metadata": {
            "tags": []
          },
          "execution_count": 3
        }
      ]
    },
    {
      "cell_type": "code",
      "metadata": {
        "id": "Q0E3K2dD_q2C",
        "colab_type": "code",
        "colab": {
          "base_uri": "https://localhost:8080/",
          "height": 34
        },
        "outputId": "26d41520-6cad-41ee-c605-a2d5b43b998e"
      },
      "source": [
        "t[-1]"
      ],
      "execution_count": 4,
      "outputs": [
        {
          "output_type": "execute_result",
          "data": {
            "text/plain": [
              "2"
            ]
          },
          "metadata": {
            "tags": []
          },
          "execution_count": 4
        }
      ]
    },
    {
      "cell_type": "markdown",
      "metadata": {
        "id": "GArQHtW5BkKz",
        "colab_type": "text"
      },
      "source": [
        " basic tuple methods"
      ]
    },
    {
      "cell_type": "code",
      "metadata": {
        "id": "ZYpvU9pt_q48",
        "colab_type": "code",
        "colab": {
          "base_uri": "https://localhost:8080/",
          "height": 34
        },
        "outputId": "870d2e07-38dd-404a-c5b7-438688c51244"
      },
      "source": [
        "#use .index to enter value and return index \n",
        "t.index('one')"
      ],
      "execution_count": 5,
      "outputs": [
        {
          "output_type": "execute_result",
          "data": {
            "text/plain": [
              "0"
            ]
          },
          "metadata": {
            "tags": []
          },
          "execution_count": 5
        }
      ]
    },
    {
      "cell_type": "code",
      "metadata": {
        "id": "2Fk8NUcA_q8R",
        "colab_type": "code",
        "colab": {
          "base_uri": "https://localhost:8080/",
          "height": 34
        },
        "outputId": "a162d3f3-eb8b-4ee8-92fa-ba155ad0110a"
      },
      "source": [
        "#use .count to count the number of times a value appears \n",
        "t.count ('one')"
      ],
      "execution_count": 6,
      "outputs": [
        {
          "output_type": "execute_result",
          "data": {
            "text/plain": [
              "1"
            ]
          },
          "metadata": {
            "tags": []
          },
          "execution_count": 6
        }
      ]
    },
    {
      "cell_type": "markdown",
      "metadata": {
        "id": "APAtLu_ACKLN",
        "colab_type": "text"
      },
      "source": [
        "immutability"
      ]
    },
    {
      "cell_type": "code",
      "metadata": {
        "id": "Jr3bsZDF_q-3",
        "colab_type": "code",
        "colab": {}
      },
      "source": [
        "t[0] = 'change ' #tuples cannot support item assignment"
      ],
      "execution_count": null,
      "outputs": []
    },
    {
      "cell_type": "code",
      "metadata": {
        "id": "mS6v3XKH_rB8",
        "colab_type": "code",
        "colab": {}
      },
      "source": [
        "t.append ('nope') # cannot append to a tuple"
      ],
      "execution_count": null,
      "outputs": []
    },
    {
      "cell_type": "markdown",
      "metadata": {
        "id": "9JzXNUI_Cyg6",
        "colab_type": "text"
      },
      "source": [
        " sets"
      ]
    },
    {
      "cell_type": "code",
      "metadata": {
        "id": "aEMOQePC_rEZ",
        "colab_type": "code",
        "colab": {}
      },
      "source": [
        "x = set()"
      ],
      "execution_count": 12,
      "outputs": []
    },
    {
      "cell_type": "code",
      "metadata": {
        "id": "ocGxZo9J_rGb",
        "colab_type": "code",
        "colab": {
          "base_uri": "https://localhost:8080/",
          "height": 34
        },
        "outputId": "b84e6098-6601-42ec-c174-25d20197fcd1"
      },
      "source": [
        "x.add(1)\n",
        "x"
      ],
      "execution_count": 13,
      "outputs": [
        {
          "output_type": "execute_result",
          "data": {
            "text/plain": [
              "{1}"
            ]
          },
          "metadata": {
            "tags": []
          },
          "execution_count": 13
        }
      ]
    },
    {
      "cell_type": "code",
      "metadata": {
        "id": "HJwTxaJw_rIj",
        "colab_type": "code",
        "colab": {
          "base_uri": "https://localhost:8080/",
          "height": 34
        },
        "outputId": "6c7c3dbd-9e6d-4cad-a5ff-564aac350fff"
      },
      "source": [
        "x.add(2)\n",
        "x"
      ],
      "execution_count": 14,
      "outputs": [
        {
          "output_type": "execute_result",
          "data": {
            "text/plain": [
              "{1, 2}"
            ]
          },
          "metadata": {
            "tags": []
          },
          "execution_count": 14
        }
      ]
    },
    {
      "cell_type": "code",
      "metadata": {
        "id": "K1dXJI9s_rKx",
        "colab_type": "code",
        "colab": {
          "base_uri": "https://localhost:8080/",
          "height": 34
        },
        "outputId": "61391b05-4dd8-4620-a2d6-55f9c7ef58cb"
      },
      "source": [
        "x.add(1) #sets show only one instance of an item \n",
        "x"
      ],
      "execution_count": 15,
      "outputs": [
        {
          "output_type": "execute_result",
          "data": {
            "text/plain": [
              "{1, 2}"
            ]
          },
          "metadata": {
            "tags": []
          },
          "execution_count": 15
        }
      ]
    },
    {
      "cell_type": "code",
      "metadata": {
        "id": "Z2y0lwX3_rNb",
        "colab_type": "code",
        "colab": {}
      },
      "source": [
        "l = [1,1,2,2,3,4,5,6,1,1] #grab unique elements from this list"
      ],
      "execution_count": 16,
      "outputs": []
    },
    {
      "cell_type": "code",
      "metadata": {
        "id": "bA3VjBid_rRA",
        "colab_type": "code",
        "colab": {
          "base_uri": "https://localhost:8080/",
          "height": 34
        },
        "outputId": "74b43d0b-860b-4e03-e28a-3b69330d26d2"
      },
      "source": [
        "set (l)"
      ],
      "execution_count": 17,
      "outputs": [
        {
          "output_type": "execute_result",
          "data": {
            "text/plain": [
              "{1, 2, 3, 4, 5, 6}"
            ]
          },
          "metadata": {
            "tags": []
          },
          "execution_count": 17
        }
      ]
    },
    {
      "cell_type": "markdown",
      "metadata": {
        "id": "39MwEX3wDjZs",
        "colab_type": "text"
      },
      "source": [
        "dictionaries"
      ]
    },
    {
      "cell_type": "code",
      "metadata": {
        "id": "IZvNVuYe_rTZ",
        "colab_type": "code",
        "colab": {}
      },
      "source": [
        "my_dict = {'key1':'value1','key2':'value2'}"
      ],
      "execution_count": 18,
      "outputs": []
    },
    {
      "cell_type": "code",
      "metadata": {
        "id": "Zh0TDAo-_rXp",
        "colab_type": "code",
        "colab": {
          "base_uri": "https://localhost:8080/",
          "height": 35
        },
        "outputId": "cea1c9a1-1fbd-4c74-9652-366db7046d7d"
      },
      "source": [
        "my_dict ['key2']"
      ],
      "execution_count": 19,
      "outputs": [
        {
          "output_type": "execute_result",
          "data": {
            "application/vnd.google.colaboratory.intrinsic+json": {
              "type": "string"
            },
            "text/plain": [
              "'value2'"
            ]
          },
          "metadata": {
            "tags": []
          },
          "execution_count": 19
        }
      ]
    },
    {
      "cell_type": "code",
      "metadata": {
        "id": "9pcHSmrN_rcl",
        "colab_type": "code",
        "colab": {
          "base_uri": "https://localhost:8080/",
          "height": 54
        },
        "outputId": "a8747710-8349-4ac1-a6ee-a52597f76da7"
      },
      "source": [
        "#can hold multiple data types \n",
        "my_dict = {'key1':123,'key2':[12,23,44],'key3':['item1','item2']}\n",
        "my_dict"
      ],
      "execution_count": 20,
      "outputs": [
        {
          "output_type": "execute_result",
          "data": {
            "text/plain": [
              "{'key1': 123, 'key2': [12, 23, 44], 'key3': ['item1', 'item2']}"
            ]
          },
          "metadata": {
            "tags": []
          },
          "execution_count": 20
        }
      ]
    },
    {
      "cell_type": "code",
      "metadata": {
        "id": "qpqwaYiM_rhJ",
        "colab_type": "code",
        "colab": {
          "base_uri": "https://localhost:8080/",
          "height": 34
        },
        "outputId": "882c8dbc-1256-4a61-d184-7368bec08521"
      },
      "source": [
        "my_dict ['key3']"
      ],
      "execution_count": 21,
      "outputs": [
        {
          "output_type": "execute_result",
          "data": {
            "text/plain": [
              "['item1', 'item2']"
            ]
          },
          "metadata": {
            "tags": []
          },
          "execution_count": 21
        }
      ]
    },
    {
      "cell_type": "code",
      "metadata": {
        "id": "j8AsXUHB_rkB",
        "colab_type": "code",
        "colab": {
          "base_uri": "https://localhost:8080/",
          "height": 35
        },
        "outputId": "002b4b19-4183-4c02-e083-75977a095f05"
      },
      "source": [
        "my_dict ['key3'][0]"
      ],
      "execution_count": 22,
      "outputs": [
        {
          "output_type": "execute_result",
          "data": {
            "application/vnd.google.colaboratory.intrinsic+json": {
              "type": "string"
            },
            "text/plain": [
              "'item1'"
            ]
          },
          "metadata": {
            "tags": []
          },
          "execution_count": 22
        }
      ]
    },
    {
      "cell_type": "code",
      "metadata": {
        "id": "1Ii5oCO3_rmU",
        "colab_type": "code",
        "colab": {
          "base_uri": "https://localhost:8080/",
          "height": 35
        },
        "outputId": "67c887c8-ccd9-41c5-8535-1688143b6a07"
      },
      "source": [
        "my_dict ['key3'][0].upper()"
      ],
      "execution_count": 23,
      "outputs": [
        {
          "output_type": "execute_result",
          "data": {
            "application/vnd.google.colaboratory.intrinsic+json": {
              "type": "string"
            },
            "text/plain": [
              "'ITEM1'"
            ]
          },
          "metadata": {
            "tags": []
          },
          "execution_count": 23
        }
      ]
    },
    {
      "cell_type": "code",
      "metadata": {
        "id": "mnBCrx_k_ro6",
        "colab_type": "code",
        "colab": {
          "base_uri": "https://localhost:8080/",
          "height": 34
        },
        "outputId": "3595910d-a920-4d79-9d81-5fcba5f63015"
      },
      "source": [
        "my_dict ['key1']"
      ],
      "execution_count": 24,
      "outputs": [
        {
          "output_type": "execute_result",
          "data": {
            "text/plain": [
              "123"
            ]
          },
          "metadata": {
            "tags": []
          },
          "execution_count": 24
        }
      ]
    },
    {
      "cell_type": "code",
      "metadata": {
        "id": "iNasysEw_rrb",
        "colab_type": "code",
        "colab": {}
      },
      "source": [
        "my_dict ['key1'] = my_dict ['key1'] - 123"
      ],
      "execution_count": 25,
      "outputs": []
    },
    {
      "cell_type": "code",
      "metadata": {
        "id": "QR1np0El_rvf",
        "colab_type": "code",
        "colab": {
          "base_uri": "https://localhost:8080/",
          "height": 34
        },
        "outputId": "9d5cfa49-5e7c-4ac0-e92f-5886f4721588"
      },
      "source": [
        "my_dict ['key1']"
      ],
      "execution_count": 26,
      "outputs": [
        {
          "output_type": "execute_result",
          "data": {
            "text/plain": [
              "0"
            ]
          },
          "metadata": {
            "tags": []
          },
          "execution_count": 26
        }
      ]
    },
    {
      "cell_type": "code",
      "metadata": {
        "id": "IkppNiDr_rzR",
        "colab_type": "code",
        "colab": {
          "base_uri": "https://localhost:8080/",
          "height": 34
        },
        "outputId": "acb4bf21-003a-4f79-af30-27479c2278be"
      },
      "source": [
        "my_dict ['key1'] -= 123\n",
        "my_dict ['key1']"
      ],
      "execution_count": 27,
      "outputs": [
        {
          "output_type": "execute_result",
          "data": {
            "text/plain": [
              "-123"
            ]
          },
          "metadata": {
            "tags": []
          },
          "execution_count": 27
        }
      ]
    },
    {
      "cell_type": "code",
      "metadata": {
        "id": "Apl8VNgm_r3O",
        "colab_type": "code",
        "colab": {}
      },
      "source": [
        "d ={}"
      ],
      "execution_count": 28,
      "outputs": []
    },
    {
      "cell_type": "code",
      "metadata": {
        "id": "UV09xykc_r8H",
        "colab_type": "code",
        "colab": {}
      },
      "source": [
        "d['animal ']='dog'"
      ],
      "execution_count": 29,
      "outputs": []
    },
    {
      "cell_type": "code",
      "metadata": {
        "id": "KVDpGDMX_r_Z",
        "colab_type": "code",
        "colab": {
          "base_uri": "https://localhost:8080/",
          "height": 34
        },
        "outputId": "3154774f-93f5-4549-dad2-a8461901d2d7"
      },
      "source": [
        "d['answer']=42\n",
        "d"
      ],
      "execution_count": 30,
      "outputs": [
        {
          "output_type": "execute_result",
          "data": {
            "text/plain": [
              "{'animal ': 'dog', 'answer': 42}"
            ]
          },
          "metadata": {
            "tags": []
          },
          "execution_count": 30
        }
      ]
    },
    {
      "cell_type": "markdown",
      "metadata": {
        "id": "KzeF_4diGDkj",
        "colab_type": "text"
      },
      "source": [
        "nesting with dictionaries"
      ]
    },
    {
      "cell_type": "code",
      "metadata": {
        "id": "6rF5d6S3_r7X",
        "colab_type": "code",
        "colab": {}
      },
      "source": [
        "d = {'key1':{'nestkey':{'subnestkey':'value'}}}"
      ],
      "execution_count": 31,
      "outputs": []
    },
    {
      "cell_type": "code",
      "metadata": {
        "id": "5IPqR1PF_r18",
        "colab_type": "code",
        "colab": {
          "base_uri": "https://localhost:8080/",
          "height": 35
        },
        "outputId": "e342cf5a-9f7d-47f5-f286-5f14f9bdee64"
      },
      "source": [
        "d ['key1']['nestkey']['subnestkey']"
      ],
      "execution_count": 32,
      "outputs": [
        {
          "output_type": "execute_result",
          "data": {
            "application/vnd.google.colaboratory.intrinsic+json": {
              "type": "string"
            },
            "text/plain": [
              "'value'"
            ]
          },
          "metadata": {
            "tags": []
          },
          "execution_count": 32
        }
      ]
    },
    {
      "cell_type": "markdown",
      "metadata": {
        "id": "Yru5Nha1GrqJ",
        "colab_type": "text"
      },
      "source": [
        " dictionary methods"
      ]
    },
    {
      "cell_type": "code",
      "metadata": {
        "id": "YOgTyRwm_rxz",
        "colab_type": "code",
        "colab": {}
      },
      "source": [
        "d = {'key1':1,'key2':2,'key3':3}"
      ],
      "execution_count": 33,
      "outputs": []
    },
    {
      "cell_type": "code",
      "metadata": {
        "id": "mA1bV1pG_rt4",
        "colab_type": "code",
        "colab": {
          "base_uri": "https://localhost:8080/",
          "height": 34
        },
        "outputId": "ae6613ea-be20-4cbc-92ae-09b457dc18f2"
      },
      "source": [
        "d.keys()"
      ],
      "execution_count": 34,
      "outputs": [
        {
          "output_type": "execute_result",
          "data": {
            "text/plain": [
              "dict_keys(['key1', 'key2', 'key3'])"
            ]
          },
          "metadata": {
            "tags": []
          },
          "execution_count": 34
        }
      ]
    },
    {
      "cell_type": "code",
      "metadata": {
        "id": "J5FnXHY1_rfO",
        "colab_type": "code",
        "colab": {
          "base_uri": "https://localhost:8080/",
          "height": 34
        },
        "outputId": "7151f0f9-57aa-4edf-e671-219a4563fbc8"
      },
      "source": [
        "d.values()"
      ],
      "execution_count": 35,
      "outputs": [
        {
          "output_type": "execute_result",
          "data": {
            "text/plain": [
              "dict_values([1, 2, 3])"
            ]
          },
          "metadata": {
            "tags": []
          },
          "execution_count": 35
        }
      ]
    },
    {
      "cell_type": "code",
      "metadata": {
        "id": "K7J15ncF_ra5",
        "colab_type": "code",
        "colab": {
          "base_uri": "https://localhost:8080/",
          "height": 54
        },
        "outputId": "d82b3b77-82cc-4694-e42d-94c42383e7a2"
      },
      "source": [
        "d.items()"
      ],
      "execution_count": 36,
      "outputs": [
        {
          "output_type": "execute_result",
          "data": {
            "text/plain": [
              "dict_items([('key1', 1), ('key2', 2), ('key3', 3)])"
            ]
          },
          "metadata": {
            "tags": []
          },
          "execution_count": 36
        }
      ]
    },
    {
      "cell_type": "markdown",
      "metadata": {
        "id": "a5woBueJHEK7",
        "colab_type": "text"
      },
      "source": [
        "dictionary comprehensions"
      ]
    },
    {
      "cell_type": "code",
      "metadata": {
        "id": "fK1_0JB5Hee7",
        "colab_type": "code",
        "colab": {
          "base_uri": "https://localhost:8080/",
          "height": 34
        },
        "outputId": "917acbc9-4c69-42d8-c318-097ae9e03373"
      },
      "source": [
        "print(list(range(10)))"
      ],
      "execution_count": 37,
      "outputs": [
        {
          "output_type": "stream",
          "text": [
            "[0, 1, 2, 3, 4, 5, 6, 7, 8, 9]\n"
          ],
          "name": "stdout"
        }
      ]
    },
    {
      "cell_type": "code",
      "metadata": {
        "id": "qGeCNVPD_rPi",
        "colab_type": "code",
        "colab": {
          "base_uri": "https://localhost:8080/",
          "height": 54
        },
        "outputId": "fb53ed3a-bac0-4664-9d2b-2c49c0f522ac"
      },
      "source": [
        "{x:x**2 for x in range(10)}"
      ],
      "execution_count": 38,
      "outputs": [
        {
          "output_type": "execute_result",
          "data": {
            "text/plain": [
              "{0: 0, 1: 1, 2: 4, 3: 9, 4: 16, 5: 25, 6: 36, 7: 49, 8: 64, 9: 81}"
            ]
          },
          "metadata": {
            "tags": []
          },
          "execution_count": 38
        }
      ]
    },
    {
      "cell_type": "markdown",
      "metadata": {
        "id": "ZPPreXPcHnYZ",
        "colab_type": "text"
      },
      "source": [
        "functions"
      ]
    },
    {
      "cell_type": "code",
      "metadata": {
        "id": "P_0-3NVx_B-4",
        "colab_type": "code",
        "colab": {}
      },
      "source": [
        "#def statements\n",
        "def name_of_function(arg1,arg2):\n",
        "'''\n",
        "(doc-string)\n",
        "'''\n",
        "#do stuff here\n",
        "#returns desired output"
      ],
      "execution_count": null,
      "outputs": []
    },
    {
      "cell_type": "code",
      "metadata": {
        "id": "genwVZH-_CBQ",
        "colab_type": "code",
        "colab": {}
      },
      "source": [
        "def say_hello():\n",
        "    print('hello')"
      ],
      "execution_count": 40,
      "outputs": []
    },
    {
      "cell_type": "code",
      "metadata": {
        "id": "EaggyXYl_CDp",
        "colab_type": "code",
        "colab": {
          "base_uri": "https://localhost:8080/",
          "height": 34
        },
        "outputId": "e1b57e71-2045-44d1-9154-77752f3c4e81"
      },
      "source": [
        "say_hello()"
      ],
      "execution_count": 41,
      "outputs": [
        {
          "output_type": "stream",
          "text": [
            "hello\n"
          ],
          "name": "stdout"
        }
      ]
    },
    {
      "cell_type": "code",
      "metadata": {
        "id": "1-4NROz5_trP",
        "colab_type": "code",
        "colab": {}
      },
      "source": [
        "def greet(name):\n",
        "    print('hello %s' %name)"
      ],
      "execution_count": 42,
      "outputs": []
    },
    {
      "cell_type": "code",
      "metadata": {
        "id": "LbmA4DXb_tyT",
        "colab_type": "code",
        "colab": {
          "base_uri": "https://localhost:8080/",
          "height": 34
        },
        "outputId": "547b76e1-34a1-472c-9fb2-59bfaebe5bae"
      },
      "source": [
        "greet('jose')"
      ],
      "execution_count": 43,
      "outputs": [
        {
          "output_type": "stream",
          "text": [
            "hello jose\n"
          ],
          "name": "stdout"
        }
      ]
    },
    {
      "cell_type": "markdown",
      "metadata": {
        "id": "MgzYU5EPJvMS",
        "colab_type": "text"
      },
      "source": [
        "using return"
      ]
    },
    {
      "cell_type": "code",
      "metadata": {
        "id": "TANja7Qg_t2_",
        "colab_type": "code",
        "colab": {}
      },
      "source": [
        "def add_num(num1, num2):\n",
        "    return num1+num2"
      ],
      "execution_count": 44,
      "outputs": []
    },
    {
      "cell_type": "code",
      "metadata": {
        "id": "_BmvIUjn_t59",
        "colab_type": "code",
        "colab": {
          "base_uri": "https://localhost:8080/",
          "height": 34
        },
        "outputId": "d25051e4-11a1-4b90-d5ad-e460ccc52ba7"
      },
      "source": [
        "add_num(6,4)"
      ],
      "execution_count": 45,
      "outputs": [
        {
          "output_type": "execute_result",
          "data": {
            "text/plain": [
              "10"
            ]
          },
          "metadata": {
            "tags": []
          },
          "execution_count": 45
        }
      ]
    },
    {
      "cell_type": "code",
      "metadata": {
        "id": "slscYzor_t-V",
        "colab_type": "code",
        "colab": {
          "base_uri": "https://localhost:8080/",
          "height": 34
        },
        "outputId": "141243bd-d420-4c72-bcb9-f053511e063a"
      },
      "source": [
        "result = add_num (4,6)\n",
        "result"
      ],
      "execution_count": 46,
      "outputs": [
        {
          "output_type": "execute_result",
          "data": {
            "text/plain": [
              "10"
            ]
          },
          "metadata": {
            "tags": []
          },
          "execution_count": 46
        }
      ]
    },
    {
      "cell_type": "code",
      "metadata": {
        "id": "vNB0U-U-_uC9",
        "colab_type": "code",
        "colab": {
          "base_uri": "https://localhost:8080/",
          "height": 34
        },
        "outputId": "3b28f5dd-0ea2-49c0-9f9b-2e6aee7c216f"
      },
      "source": [
        "print (add_num ('one\\t','two'))"
      ],
      "execution_count": 47,
      "outputs": [
        {
          "output_type": "stream",
          "text": [
            "one\ttwo\n"
          ],
          "name": "stdout"
        }
      ]
    },
    {
      "cell_type": "code",
      "metadata": {
        "id": "YQ4Jbt0y_uHd",
        "colab_type": "code",
        "colab": {}
      },
      "source": [
        "def is_prime(num):\n",
        "    '''\n",
        "    naive method of checking for primes.\n",
        "    '''\n",
        "    for n in range (2,num):\n",
        "        if num % n ==0:\n",
        "            print ('not prime ')\n",
        "            break \n",
        "    else:\n",
        "        print ('prime ')"
      ],
      "execution_count": 48,
      "outputs": []
    },
    {
      "cell_type": "code",
      "metadata": {
        "id": "Y4fv7phC_uN3",
        "colab_type": "code",
        "colab": {
          "base_uri": "https://localhost:8080/",
          "height": 34
        },
        "outputId": "d0aa0cf2-a811-44cb-87cb-a9728cdab7db"
      },
      "source": [
        "is_prime(11)"
      ],
      "execution_count": 49,
      "outputs": [
        {
          "output_type": "stream",
          "text": [
            "prime \n"
          ],
          "name": "stdout"
        }
      ]
    },
    {
      "cell_type": "code",
      "metadata": {
        "id": "yCXMpb61_uUX",
        "colab_type": "code",
        "colab": {}
      },
      "source": [
        "import math\n",
        "def is_prime(num):\n",
        "    '''\n",
        "    better method of checking primes\n",
        "    '''\n",
        "    if num%2 == 0 and num>2:\n",
        "        return False\n",
        "    for i in range (3,int(math.sqrt(num))+1,2):\n",
        "        if num%i == 0:\n",
        "            return False\n",
        "    return True"
      ],
      "execution_count": 50,
      "outputs": []
    },
    {
      "cell_type": "code",
      "metadata": {
        "id": "Mv6WUoe5_uY3",
        "colab_type": "code",
        "colab": {
          "base_uri": "https://localhost:8080/",
          "height": 34
        },
        "outputId": "35b1cde8-eaca-497a-c23a-b23abf35f18a"
      },
      "source": [
        "is_prime(23)"
      ],
      "execution_count": 51,
      "outputs": [
        {
          "output_type": "execute_result",
          "data": {
            "text/plain": [
              "True"
            ]
          },
          "metadata": {
            "tags": []
          },
          "execution_count": 51
        }
      ]
    },
    {
      "cell_type": "markdown",
      "metadata": {
        "id": "xEGrUAuiOO6w",
        "colab_type": "text"
      },
      "source": [
        "iterators and generators"
      ]
    },
    {
      "cell_type": "code",
      "metadata": {
        "id": "CU3S89UU_uju",
        "colab_type": "code",
        "colab": {}
      },
      "source": [
        "#generator function for cube of numbers\n",
        "def gencubes(n):\n",
        "    for num in range(n):\n",
        "        yield num**3"
      ],
      "execution_count": 52,
      "outputs": []
    },
    {
      "cell_type": "code",
      "metadata": {
        "id": "F0JFOS80_upC",
        "colab_type": "code",
        "colab": {
          "base_uri": "https://localhost:8080/",
          "height": 189
        },
        "outputId": "6f637d99-8bc5-4437-ad1a-1c05aabfde64"
      },
      "source": [
        "for x in gencubes(10):\n",
        "    print(x)"
      ],
      "execution_count": 53,
      "outputs": [
        {
          "output_type": "stream",
          "text": [
            "0\n",
            "1\n",
            "8\n",
            "27\n",
            "64\n",
            "125\n",
            "216\n",
            "343\n",
            "512\n",
            "729\n"
          ],
          "name": "stdout"
        }
      ]
    },
    {
      "cell_type": "code",
      "metadata": {
        "id": "DUuIArM2_uvx",
        "colab_type": "code",
        "colab": {}
      },
      "source": [
        "def genfibon(n):\n",
        "    '''\n",
        "    generate a fibonacci sequence up to n\n",
        "    '''\n",
        "    a = 1\n",
        "    b = 1\n",
        "    for i in range(n):\n",
        "        yield a\n",
        "        a,b = b, a+b"
      ],
      "execution_count": 54,
      "outputs": []
    },
    {
      "cell_type": "code",
      "metadata": {
        "id": "ZFM77Fyp_ut9",
        "colab_type": "code",
        "colab": {
          "base_uri": "https://localhost:8080/",
          "height": 189
        },
        "outputId": "045c1ab8-a923-4180-b01b-650cefe395f3"
      },
      "source": [
        "for num in genfibon(10):\n",
        "    print(num)"
      ],
      "execution_count": 55,
      "outputs": [
        {
          "output_type": "stream",
          "text": [
            "1\n",
            "1\n",
            "2\n",
            "3\n",
            "5\n",
            "8\n",
            "13\n",
            "21\n",
            "34\n",
            "55\n"
          ],
          "name": "stdout"
        }
      ]
    },
    {
      "cell_type": "code",
      "metadata": {
        "id": "TisA4H3X_utI",
        "colab_type": "code",
        "colab": {}
      },
      "source": [
        "def fibon(n):\n",
        "    a = 1\n",
        "    b = 1\n",
        "    result  =[]\n",
        "    for i in range(n):\n",
        "        result.append (a)\n",
        "        a,b = b, a+b\n",
        "    return result"
      ],
      "execution_count": 56,
      "outputs": []
    },
    {
      "cell_type": "code",
      "metadata": {
        "id": "aXuP8Xii_unZ",
        "colab_type": "code",
        "colab": {
          "base_uri": "https://localhost:8080/",
          "height": 34
        },
        "outputId": "28e2090c-97ce-4ddf-b7cd-f37ef0dc4a29"
      },
      "source": [
        "fibon(10)"
      ],
      "execution_count": 57,
      "outputs": [
        {
          "output_type": "execute_result",
          "data": {
            "text/plain": [
              "[1, 1, 2, 3, 5, 8, 13, 21, 34, 55]"
            ]
          },
          "metadata": {
            "tags": []
          },
          "execution_count": 57
        }
      ]
    },
    {
      "cell_type": "markdown",
      "metadata": {
        "id": "tuG90edbTCTt",
        "colab_type": "text"
      },
      "source": [
        "next() and iter() built-in functions"
      ]
    },
    {
      "cell_type": "code",
      "metadata": {
        "id": "KXTdBbpn_uiJ",
        "colab_type": "code",
        "colab": {
          "base_uri": "https://localhost:8080/",
          "height": 34
        },
        "outputId": "a603532c-92d1-434b-c100-30c8de29513b"
      },
      "source": [
        "print(list(range(3)))"
      ],
      "execution_count": 58,
      "outputs": [
        {
          "output_type": "stream",
          "text": [
            "[0, 1, 2]\n"
          ],
          "name": "stdout"
        }
      ]
    },
    {
      "cell_type": "code",
      "metadata": {
        "id": "xkrAPLNd_uYD",
        "colab_type": "code",
        "colab": {}
      },
      "source": [
        "def ez_gen():\n",
        "    for x in range(3):\n",
        "        yield x"
      ],
      "execution_count": 59,
      "outputs": []
    },
    {
      "cell_type": "code",
      "metadata": {
        "id": "ocARGYZc_uS1",
        "colab_type": "code",
        "colab": {}
      },
      "source": [
        "g = ez_gen()"
      ],
      "execution_count": 60,
      "outputs": []
    },
    {
      "cell_type": "code",
      "metadata": {
        "id": "dsG11h2C_uRA",
        "colab_type": "code",
        "colab": {
          "base_uri": "https://localhost:8080/",
          "height": 34
        },
        "outputId": "09e3518b-8c5e-45ab-cc1e-424767be261d"
      },
      "source": [
        "print(next(g))"
      ],
      "execution_count": 61,
      "outputs": [
        {
          "output_type": "stream",
          "text": [
            "0\n"
          ],
          "name": "stdout"
        }
      ]
    },
    {
      "cell_type": "code",
      "metadata": {
        "id": "LE2lndzg_uMF",
        "colab_type": "code",
        "colab": {
          "base_uri": "https://localhost:8080/",
          "height": 34
        },
        "outputId": "f697e8f2-2d1f-45c3-b855-4f93def1551c"
      },
      "source": [
        "print(next(g))"
      ],
      "execution_count": 62,
      "outputs": [
        {
          "output_type": "stream",
          "text": [
            "1\n"
          ],
          "name": "stdout"
        }
      ]
    },
    {
      "cell_type": "code",
      "metadata": {
        "id": "TLKE6YhS_uKT",
        "colab_type": "code",
        "colab": {
          "base_uri": "https://localhost:8080/",
          "height": 34
        },
        "outputId": "47cd6019-7191-4dea-dd17-0827df9e5c6a"
      },
      "source": [
        "print(next(g))"
      ],
      "execution_count": 63,
      "outputs": [
        {
          "output_type": "stream",
          "text": [
            "2\n"
          ],
          "name": "stdout"
        }
      ]
    },
    {
      "cell_type": "code",
      "metadata": {
        "id": "M4p7rKS7_uFv",
        "colab_type": "code",
        "colab": {
          "base_uri": "https://localhost:8080/",
          "height": 103
        },
        "outputId": "dbae0826-c2cd-4309-c9fc-ec57506604fc"
      },
      "source": [
        "s = 'hello'\n",
        "for i in s:\n",
        "    print(i)"
      ],
      "execution_count": 64,
      "outputs": [
        {
          "output_type": "stream",
          "text": [
            "h\n",
            "e\n",
            "l\n",
            "l\n",
            "o\n"
          ],
          "name": "stdout"
        }
      ]
    },
    {
      "cell_type": "code",
      "metadata": {
        "id": "ProOTlCk_uBJ",
        "colab_type": "code",
        "colab": {}
      },
      "source": [
        "next(s)"
      ],
      "execution_count": null,
      "outputs": []
    },
    {
      "cell_type": "code",
      "metadata": {
        "id": "-tuD9NXu_t8e",
        "colab_type": "code",
        "colab": {}
      },
      "source": [
        "#how to iterate over a string\n",
        "s_iter = iter(s)"
      ],
      "execution_count": 67,
      "outputs": []
    },
    {
      "cell_type": "code",
      "metadata": {
        "id": "9MuvOkRj_t1d",
        "colab_type": "code",
        "colab": {
          "base_uri": "https://localhost:8080/",
          "height": 35
        },
        "outputId": "0d8031cd-6545-4d28-c606-9ebc2a33d2fb"
      },
      "source": [
        "next(s_iter )"
      ],
      "execution_count": 68,
      "outputs": [
        {
          "output_type": "execute_result",
          "data": {
            "application/vnd.google.colaboratory.intrinsic+json": {
              "type": "string"
            },
            "text/plain": [
              "'h'"
            ]
          },
          "metadata": {
            "tags": []
          },
          "execution_count": 68
        }
      ]
    },
    {
      "cell_type": "code",
      "metadata": {
        "id": "FAFArLEoWF63",
        "colab_type": "code",
        "colab": {
          "base_uri": "https://localhost:8080/",
          "height": 35
        },
        "outputId": "622980ba-e1de-4641-b5ba-19d5f69a26c4"
      },
      "source": [
        "next(s_iter )"
      ],
      "execution_count": 69,
      "outputs": [
        {
          "output_type": "execute_result",
          "data": {
            "application/vnd.google.colaboratory.intrinsic+json": {
              "type": "string"
            },
            "text/plain": [
              "'e'"
            ]
          },
          "metadata": {
            "tags": []
          },
          "execution_count": 69
        }
      ]
    },
    {
      "cell_type": "markdown",
      "metadata": {
        "id": "dNzbzYKQWVd1",
        "colab_type": "text"
      },
      "source": [
        "map"
      ]
    },
    {
      "cell_type": "code",
      "metadata": {
        "id": "zKDowsS8WGPt",
        "colab_type": "code",
        "colab": {}
      },
      "source": [
        " \n",
        " def fahrenheit(T):\n",
        "    return ((float(9)/5)*T +32)\n",
        "def celsius(T):\n",
        "    return (float(5)/9)*(T -32)\n",
        "temp = [0,22.5,40,100]"
      ],
      "execution_count": 70,
      "outputs": []
    },
    {
      "cell_type": "code",
      "metadata": {
        "id": "869UB3WgWGXo",
        "colab_type": "code",
        "colab": {
          "base_uri": "https://localhost:8080/",
          "height": 34
        },
        "outputId": "d996cc90-9df7-44da-fa53-522fc661a7e3"
      },
      "source": [
        "F_temps = list(map(fahrenheit,temp))\n",
        "F_temps"
      ],
      "execution_count": 71,
      "outputs": [
        {
          "output_type": "execute_result",
          "data": {
            "text/plain": [
              "[32.0, 72.5, 104.0, 212.0]"
            ]
          },
          "metadata": {
            "tags": []
          },
          "execution_count": 71
        }
      ]
    },
    {
      "cell_type": "code",
      "metadata": {
        "id": "QzANMO43WGVv",
        "colab_type": "code",
        "colab": {
          "base_uri": "https://localhost:8080/",
          "height": 34
        },
        "outputId": "61b6c4ce-fd62-4803-f60c-c161fb47d198"
      },
      "source": [
        "list (map(celsius , F_temps))"
      ],
      "execution_count": 72,
      "outputs": [
        {
          "output_type": "execute_result",
          "data": {
            "text/plain": [
              "[0.0, 22.5, 40.0, 100.0]"
            ]
          },
          "metadata": {
            "tags": []
          },
          "execution_count": 72
        }
      ]
    },
    {
      "cell_type": "code",
      "metadata": {
        "id": "VC_dzuQQWGMj",
        "colab_type": "code",
        "colab": {
          "base_uri": "https://localhost:8080/",
          "height": 34
        },
        "outputId": "1167978a-fd39-4a8a-a206-393856b1b63f"
      },
      "source": [
        "list (map(lambda x: (5.0/9)*(x-32),F_temps))"
      ],
      "execution_count": 73,
      "outputs": [
        {
          "output_type": "execute_result",
          "data": {
            "text/plain": [
              "[0.0, 22.5, 40.0, 100.0]"
            ]
          },
          "metadata": {
            "tags": []
          },
          "execution_count": 73
        }
      ]
    },
    {
      "cell_type": "code",
      "metadata": {
        "id": "6N9hlr9sWGJ0",
        "colab_type": "code",
        "colab": {
          "base_uri": "https://localhost:8080/",
          "height": 34
        },
        "outputId": "dbba3b62-9dbb-48c6-c1ed-bd6774850a22"
      },
      "source": [
        "a = [1,2,3,4]\n",
        "b = [5,6,7,8]\n",
        "c = [9,10,11,12]\n",
        "list (map(lambda x,y: x+y, a,b))"
      ],
      "execution_count": 74,
      "outputs": [
        {
          "output_type": "execute_result",
          "data": {
            "text/plain": [
              "[6, 8, 10, 12]"
            ]
          },
          "metadata": {
            "tags": []
          },
          "execution_count": 74
        }
      ]
    },
    {
      "cell_type": "code",
      "metadata": {
        "id": "WScpYL5vbkCl",
        "colab_type": "code",
        "colab": {
          "base_uri": "https://localhost:8080/",
          "height": 34
        },
        "outputId": "38573a18-5d05-41ce-ad9f-03a7d2b93694"
      },
      "source": [
        "list(map(lambda x,y,z : x+y+z, a,b,c))"
      ],
      "execution_count": 75,
      "outputs": [
        {
          "output_type": "execute_result",
          "data": {
            "text/plain": [
              "[15, 18, 21, 24]"
            ]
          },
          "metadata": {
            "tags": []
          },
          "execution_count": 75
        }
      ]
    },
    {
      "cell_type": "markdown",
      "metadata": {
        "id": "05a_OKBacZYh",
        "colab_type": "text"
      },
      "source": [
        "reduce"
      ]
    },
    {
      "cell_type": "code",
      "metadata": {
        "id": "KuwcgB5zbkI1",
        "colab_type": "code",
        "colab": {
          "base_uri": "https://localhost:8080/",
          "height": 34
        },
        "outputId": "2aca0678-c9f0-4047-d669-2b2a2a97d6f1"
      },
      "source": [
        "from functools import reduce \n",
        "list1= [22,33,44,55]\n",
        "reduce (lambda x,y:x+y, list1)"
      ],
      "execution_count": 78,
      "outputs": [
        {
          "output_type": "execute_result",
          "data": {
            "text/plain": [
              "154"
            ]
          },
          "metadata": {
            "tags": []
          },
          "execution_count": 78
        }
      ]
    },
    {
      "cell_type": "code",
      "metadata": {
        "id": "qCh6Znhrcd0Z",
        "colab_type": "code",
        "colab": {}
      },
      "source": [
        "max_find= lambda a,b: a if (a>b)else b"
      ],
      "execution_count": 79,
      "outputs": []
    },
    {
      "cell_type": "code",
      "metadata": {
        "id": "Douh3gBXcdxa",
        "colab_type": "code",
        "colab": {
          "base_uri": "https://localhost:8080/",
          "height": 34
        },
        "outputId": "8cf821a4-6f71-4189-80f8-26b0d13b003c"
      },
      "source": [
        "reduce ( max_find, list1)"
      ],
      "execution_count": 80,
      "outputs": [
        {
          "output_type": "execute_result",
          "data": {
            "text/plain": [
              "55"
            ]
          },
          "metadata": {
            "tags": []
          },
          "execution_count": 80
        }
      ]
    },
    {
      "cell_type": "markdown",
      "metadata": {
        "id": "IfOJkS9reJvX",
        "colab_type": "text"
      },
      "source": [
        "filter"
      ]
    },
    {
      "cell_type": "code",
      "metadata": {
        "id": "bIUMa3TQca51",
        "colab_type": "code",
        "colab": {}
      },
      "source": [
        "def even_check(num):\n",
        "    if num%2 ==0:\n",
        "        return True"
      ],
      "execution_count": 81,
      "outputs": []
    },
    {
      "cell_type": "code",
      "metadata": {
        "id": "qfSGD7kkhs5Q",
        "colab_type": "code",
        "colab": {
          "base_uri": "https://localhost:8080/",
          "height": 71
        },
        "outputId": "993147bf-b6b1-4bc7-ea2b-e62068f9ffab"
      },
      "source": [
        "l=range(20)\n",
        "print(list(l))\n",
        "list(filter(even_check,l))"
      ],
      "execution_count": 84,
      "outputs": [
        {
          "output_type": "stream",
          "text": [
            "[0, 1, 2, 3, 4, 5, 6, 7, 8, 9, 10, 11, 12, 13, 14, 15, 16, 17, 18, 19]\n"
          ],
          "name": "stdout"
        },
        {
          "output_type": "execute_result",
          "data": {
            "text/plain": [
              "[0, 2, 4, 6, 8, 10, 12, 14, 16, 18]"
            ]
          },
          "metadata": {
            "tags": []
          },
          "execution_count": 84
        }
      ]
    },
    {
      "cell_type": "code",
      "metadata": {
        "id": "mHdDYbPghtN5",
        "colab_type": "code",
        "colab": {
          "base_uri": "https://localhost:8080/",
          "height": 34
        },
        "outputId": "8e3a71c4-8389-4deb-df1e-8fa0005a30d2"
      },
      "source": [
        "list(filter(lambda x : x%2==0,l))"
      ],
      "execution_count": 85,
      "outputs": [
        {
          "output_type": "execute_result",
          "data": {
            "text/plain": [
              "[0, 2, 4, 6, 8, 10, 12, 14, 16, 18]"
            ]
          },
          "metadata": {
            "tags": []
          },
          "execution_count": 85
        }
      ]
    },
    {
      "cell_type": "code",
      "metadata": {
        "id": "vu_luQfCbj7G",
        "colab_type": "code",
        "colab": {}
      },
      "source": [
        ""
      ],
      "execution_count": null,
      "outputs": []
    }
  ]
}