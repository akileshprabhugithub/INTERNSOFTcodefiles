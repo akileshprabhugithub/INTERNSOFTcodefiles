{
  "nbformat": 4,
  "nbformat_minor": 0,
  "metadata": {
    "colab": {
      "name": "Welcome To Colaboratory",
      "provenance": [],
      "collapsed_sections": [],
      "include_colab_link": true
    },
    "kernelspec": {
      "display_name": "Python 3",
      "name": "python3"
    }
  },
  "cells": [
    {
      "cell_type": "markdown",
      "metadata": {
        "id": "view-in-github",
        "colab_type": "text"
      },
      "source": [
        "<a href=\"https://colab.research.google.com/github/akileshprabhugithub/INTERNSOFTcodefiles/blob/master/SESSION8_pandas1codefile.ipynb\" target=\"_parent\"><img src=\"https://colab.research.google.com/assets/colab-badge.svg\" alt=\"Open In Colab\"/></a>"
      ]
    },
    {
      "cell_type": "markdown",
      "metadata": {
        "id": "uhh5coApGhkl",
        "colab_type": "text"
      },
      "source": [
        "Installing and using Pandas (series, dataframe,index)"
      ]
    },
    {
      "cell_type": "code",
      "metadata": {
        "id": "Ygx3JRG9GhwW",
        "colab_type": "code",
        "colab": {
          "base_uri": "https://localhost:8080/",
          "height": 35
        },
        "outputId": "004965be-c7b6-4fd9-aaef-b9cfc72b02f1"
      },
      "source": [
        "import pandas \n",
        "pandas.__version__"
      ],
      "execution_count": 1,
      "outputs": [
        {
          "output_type": "execute_result",
          "data": {
            "application/vnd.google.colaboratory.intrinsic+json": {
              "type": "string"
            },
            "text/plain": [
              "'1.0.5'"
            ]
          },
          "metadata": {
            "tags": []
          },
          "execution_count": 1
        }
      ]
    },
    {
      "cell_type": "code",
      "metadata": {
        "id": "AvNwTzUKGq4l",
        "colab_type": "code",
        "colab": {}
      },
      "source": [
        "import numpy as np\n",
        "import pandas as pd"
      ],
      "execution_count": 2,
      "outputs": []
    },
    {
      "cell_type": "markdown",
      "metadata": {
        "id": "cDchF-yiIjDg",
        "colab_type": "text"
      },
      "source": [
        "series"
      ]
    },
    {
      "cell_type": "code",
      "metadata": {
        "id": "nOimo3ZiGq63",
        "colab_type": "code",
        "colab": {
          "base_uri": "https://localhost:8080/",
          "height": 103
        },
        "outputId": "4ecf4405-fc0a-43de-d66b-74d477d276f1"
      },
      "source": [
        "counts = pd.Series([234,355,456,999])\n",
        "counts"
      ],
      "execution_count": 12,
      "outputs": [
        {
          "output_type": "execute_result",
          "data": {
            "text/plain": [
              "0    234\n",
              "1    355\n",
              "2    456\n",
              "3    999\n",
              "dtype: int64"
            ]
          },
          "metadata": {
            "tags": []
          },
          "execution_count": 12
        }
      ]
    },
    {
      "cell_type": "code",
      "metadata": {
        "id": "kLyhu_3SGq-z",
        "colab_type": "code",
        "colab": {
          "base_uri": "https://localhost:8080/",
          "height": 34
        },
        "outputId": "ef26dd70-00ef-4a50-980f-e2a6142542df"
      },
      "source": [
        "counts.values"
      ],
      "execution_count": 13,
      "outputs": [
        {
          "output_type": "execute_result",
          "data": {
            "text/plain": [
              "array([234, 355, 456, 999])"
            ]
          },
          "metadata": {
            "tags": []
          },
          "execution_count": 13
        }
      ]
    },
    {
      "cell_type": "code",
      "metadata": {
        "id": "QWrZTQVjGrCe",
        "colab_type": "code",
        "colab": {
          "base_uri": "https://localhost:8080/",
          "height": 34
        },
        "outputId": "df234906-f373-4141-f44d-fba454c8ed00"
      },
      "source": [
        "counts.index"
      ],
      "execution_count": 14,
      "outputs": [
        {
          "output_type": "execute_result",
          "data": {
            "text/plain": [
              "RangeIndex(start=0, stop=4, step=1)"
            ]
          },
          "metadata": {
            "tags": []
          },
          "execution_count": 14
        }
      ]
    },
    {
      "cell_type": "code",
      "metadata": {
        "id": "ePem_A9JGrFI",
        "colab_type": "code",
        "colab": {
          "base_uri": "https://localhost:8080/",
          "height": 103
        },
        "outputId": "2084656d-b7ad-47eb-d62c-26bbf6376344"
      },
      "source": [
        "bacteria = pd.Series([356,456,567,890],\n",
        "    index = ['firmicutes', 'proteobacteria','actinobacteria','bacteroidetes'])\n",
        "bacteria"
      ],
      "execution_count": 17,
      "outputs": [
        {
          "output_type": "execute_result",
          "data": {
            "text/plain": [
              "firmicutes        356\n",
              "proteobacteria    456\n",
              "actinobacteria    567\n",
              "bacteroidetes     890\n",
              "dtype: int64"
            ]
          },
          "metadata": {
            "tags": []
          },
          "execution_count": 17
        }
      ]
    },
    {
      "cell_type": "code",
      "metadata": {
        "id": "Xd77HNeENwLH",
        "colab_type": "code",
        "colab": {
          "base_uri": "https://localhost:8080/",
          "height": 103
        },
        "outputId": "874d2af8-74e2-433d-f233-7523a4eadd39"
      },
      "source": [
        " bikes = pd.Series(['r15','cbr250','rs200','d400'],\n",
        "index = ['yamaha','honda','pulsar','bajaj'])\n",
        "bikes"
      ],
      "execution_count": 18,
      "outputs": [
        {
          "output_type": "execute_result",
          "data": {
            "text/plain": [
              "yamaha       r15\n",
              "honda     cbr250\n",
              "pulsar     rs200\n",
              "bajaj       d400\n",
              "dtype: object"
            ]
          },
          "metadata": {
            "tags": []
          },
          "execution_count": 18
        }
      ]
    },
    {
      "cell_type": "code",
      "metadata": {
        "id": "efSIX98TGrMO",
        "colab_type": "code",
        "colab": {
          "base_uri": "https://localhost:8080/",
          "height": 35
        },
        "outputId": "e1221344-a344-4204-ea74-24eae498e56f"
      },
      "source": [
        "bikes['yamaha']"
      ],
      "execution_count": 19,
      "outputs": [
        {
          "output_type": "execute_result",
          "data": {
            "application/vnd.google.colaboratory.intrinsic+json": {
              "type": "string"
            },
            "text/plain": [
              "'r15'"
            ]
          },
          "metadata": {
            "tags": []
          },
          "execution_count": 19
        }
      ]
    },
    {
      "cell_type": "code",
      "metadata": {
        "id": "nkNqvAa7GrQZ",
        "colab_type": "code",
        "colab": {
          "base_uri": "https://localhost:8080/",
          "height": 35
        },
        "outputId": "02cb1295-8095-4dc7-b33c-a8704f0e8375"
      },
      "source": [
        "bikes[0]"
      ],
      "execution_count": 20,
      "outputs": [
        {
          "output_type": "execute_result",
          "data": {
            "application/vnd.google.colaboratory.intrinsic+json": {
              "type": "string"
            },
            "text/plain": [
              "'r15'"
            ]
          },
          "metadata": {
            "tags": []
          },
          "execution_count": 20
        }
      ]
    },
    {
      "cell_type": "code",
      "metadata": {
        "id": "8R6TX6ZrGrTA",
        "colab_type": "code",
        "colab": {
          "base_uri": "https://localhost:8080/",
          "height": 120
        },
        "outputId": "30fc7456-bcf2-4ee0-d388-b7e6c4e3933c"
      },
      "source": [
        "bikes.name = '2wheeler'\n",
        "bikes.index.name ='motorcycles'\n",
        "bikes"
      ],
      "execution_count": 28,
      "outputs": [
        {
          "output_type": "execute_result",
          "data": {
            "text/plain": [
              "motorcycles\n",
              "yamaha       r15\n",
              "honda     cbr250\n",
              "pulsar     rs200\n",
              "bajaj       d400\n",
              "Name: 2wheeler, dtype: object"
            ]
          },
          "metadata": {
            "tags": []
          },
          "execution_count": 28
        }
      ]
    },
    {
      "cell_type": "code",
      "metadata": {
        "id": "0lKuZXY5GrbB",
        "colab_type": "code",
        "colab": {
          "base_uri": "https://localhost:8080/",
          "height": 103
        },
        "outputId": "6d79bf77-f1d1-401d-9e6b-1a2a8c514ce9"
      },
      "source": [
        "np.log(bacteria)"
      ],
      "execution_count": 29,
      "outputs": [
        {
          "output_type": "execute_result",
          "data": {
            "text/plain": [
              "firmicutes        5.874931\n",
              "proteobacteria    6.122493\n",
              "actinobacteria    6.340359\n",
              "bacteroidetes     6.791221\n",
              "dtype: float64"
            ]
          },
          "metadata": {
            "tags": []
          },
          "execution_count": 29
        }
      ]
    },
    {
      "cell_type": "code",
      "metadata": {
        "id": "FptFPRKxGrfq",
        "colab_type": "code",
        "colab": {
          "base_uri": "https://localhost:8080/",
          "height": 69
        },
        "outputId": "7aacb7c3-2a0c-454e-d7fb-4c44a723a42b"
      },
      "source": [
        "bacteria[bacteria>500]"
      ],
      "execution_count": 30,
      "outputs": [
        {
          "output_type": "execute_result",
          "data": {
            "text/plain": [
              "actinobacteria    567\n",
              "bacteroidetes     890\n",
              "dtype: int64"
            ]
          },
          "metadata": {
            "tags": []
          },
          "execution_count": 30
        }
      ]
    },
    {
      "cell_type": "code",
      "metadata": {
        "id": "M4gejw3EGriU",
        "colab_type": "code",
        "colab": {
          "base_uri": "https://localhost:8080/",
          "height": 140
        },
        "outputId": "fde33828-fa33-4bae-c2fa-2d4db11c5932"
      },
      "source": [
        "bikes_dict = {'yamaha':'r15','honda':'cbr250','pulsar':'rs200','ktm':'duke390'}\n",
        "print(bikes_dict)\n",
        "pd.Series(bikes_dict)"
      ],
      "execution_count": 33,
      "outputs": [
        {
          "output_type": "stream",
          "text": [
            "{'yamaha': 'r15', 'honda': 'cbr250', 'pulsar': 'rs200', 'ktm': 'duke390'}\n"
          ],
          "name": "stdout"
        },
        {
          "output_type": "execute_result",
          "data": {
            "text/plain": [
              "yamaha        r15\n",
              "honda      cbr250\n",
              "pulsar      rs200\n",
              "ktm       duke390\n",
              "dtype: object"
            ]
          },
          "metadata": {
            "tags": []
          },
          "execution_count": 33
        }
      ]
    },
    {
      "cell_type": "markdown",
      "metadata": {
        "id": "IriKrfsqRFAz",
        "colab_type": "text"
      },
      "source": [
        "Dataframe"
      ]
    },
    {
      "cell_type": "code",
      "metadata": {
        "id": "OMSwnFEgGrnt",
        "colab_type": "code",
        "colab": {
          "base_uri": "https://localhost:8080/",
          "height": 261
        },
        "outputId": "97f24897-8df3-4e3a-813c-9759a34b22b9"
      },
      "source": [
        "data = {'book_name':['Wish I Could Tell You','The One You Cannot Have','Will You Still Love Me?','Cosmos'],\n",
        "        'year' :[2019,2018,2016,2017],\n",
        "        'author' :['Durjoy Datta','Preeti Shenoy','Ravinder Singh','Carl Sagan']}\n",
        "print(data)\n",
        "print(type(data))\n",
        "pd.DataFrame(data)"
      ],
      "execution_count": 37,
      "outputs": [
        {
          "output_type": "stream",
          "text": [
            "{'book_name': ['Wish I Could Tell You', 'The One You Cannot Have', 'Will You Still Love Me?', 'Cosmos'], 'year': [2019, 2018, 2016, 2017], 'author': ['Durjoy Datta', 'Preeti Shenoy', 'Ravinder Singh', 'Carl Sagan']}\n",
            "<class 'dict'>\n"
          ],
          "name": "stdout"
        },
        {
          "output_type": "execute_result",
          "data": {
            "text/html": [
              "<div>\n",
              "<style scoped>\n",
              "    .dataframe tbody tr th:only-of-type {\n",
              "        vertical-align: middle;\n",
              "    }\n",
              "\n",
              "    .dataframe tbody tr th {\n",
              "        vertical-align: top;\n",
              "    }\n",
              "\n",
              "    .dataframe thead th {\n",
              "        text-align: right;\n",
              "    }\n",
              "</style>\n",
              "<table border=\"1\" class=\"dataframe\">\n",
              "  <thead>\n",
              "    <tr style=\"text-align: right;\">\n",
              "      <th></th>\n",
              "      <th>book_name</th>\n",
              "      <th>year</th>\n",
              "      <th>author</th>\n",
              "    </tr>\n",
              "  </thead>\n",
              "  <tbody>\n",
              "    <tr>\n",
              "      <th>0</th>\n",
              "      <td>Wish I Could Tell You</td>\n",
              "      <td>2019</td>\n",
              "      <td>Durjoy Datta</td>\n",
              "    </tr>\n",
              "    <tr>\n",
              "      <th>1</th>\n",
              "      <td>The One You Cannot Have</td>\n",
              "      <td>2018</td>\n",
              "      <td>Preeti Shenoy</td>\n",
              "    </tr>\n",
              "    <tr>\n",
              "      <th>2</th>\n",
              "      <td>Will You Still Love Me?</td>\n",
              "      <td>2016</td>\n",
              "      <td>Ravinder Singh</td>\n",
              "    </tr>\n",
              "    <tr>\n",
              "      <th>3</th>\n",
              "      <td>Cosmos</td>\n",
              "      <td>2017</td>\n",
              "      <td>Carl Sagan</td>\n",
              "    </tr>\n",
              "  </tbody>\n",
              "</table>\n",
              "</div>"
            ],
            "text/plain": [
              "                 book_name  year          author\n",
              "0    Wish I Could Tell You  2019    Durjoy Datta\n",
              "1  The One You Cannot Have  2018   Preeti Shenoy\n",
              "2  Will You Still Love Me?  2016  Ravinder Singh\n",
              "3                   Cosmos  2017      Carl Sagan"
            ]
          },
          "metadata": {
            "tags": []
          },
          "execution_count": 37
        }
      ]
    },
    {
      "cell_type": "code",
      "metadata": {
        "id": "IyEFDDDcGrq5",
        "colab_type": "code",
        "colab": {
          "base_uri": "https://localhost:8080/",
          "height": 206
        },
        "outputId": "c5e00370-2940-43eb-dab2-020dd3f15942"
      },
      "source": [
        "df = pd.DataFrame(data,columns=['book_name','author','year'])\n",
        "df"
      ],
      "execution_count": 41,
      "outputs": [
        {
          "output_type": "execute_result",
          "data": {
            "text/html": [
              "<div>\n",
              "<style scoped>\n",
              "    .dataframe tbody tr th:only-of-type {\n",
              "        vertical-align: middle;\n",
              "    }\n",
              "\n",
              "    .dataframe tbody tr th {\n",
              "        vertical-align: top;\n",
              "    }\n",
              "\n",
              "    .dataframe thead th {\n",
              "        text-align: right;\n",
              "    }\n",
              "</style>\n",
              "<table border=\"1\" class=\"dataframe\">\n",
              "  <thead>\n",
              "    <tr style=\"text-align: right;\">\n",
              "      <th></th>\n",
              "      <th>book_name</th>\n",
              "      <th>author</th>\n",
              "      <th>year</th>\n",
              "    </tr>\n",
              "  </thead>\n",
              "  <tbody>\n",
              "    <tr>\n",
              "      <th>0</th>\n",
              "      <td>Wish I Could Tell You</td>\n",
              "      <td>Durjoy Datta</td>\n",
              "      <td>2019</td>\n",
              "    </tr>\n",
              "    <tr>\n",
              "      <th>1</th>\n",
              "      <td>The One You Cannot Have</td>\n",
              "      <td>Preeti Shenoy</td>\n",
              "      <td>2018</td>\n",
              "    </tr>\n",
              "    <tr>\n",
              "      <th>2</th>\n",
              "      <td>Will You Still Love Me?</td>\n",
              "      <td>Ravinder Singh</td>\n",
              "      <td>2016</td>\n",
              "    </tr>\n",
              "    <tr>\n",
              "      <th>3</th>\n",
              "      <td>Cosmos</td>\n",
              "      <td>Carl Sagan</td>\n",
              "      <td>2017</td>\n",
              "    </tr>\n",
              "  </tbody>\n",
              "</table>\n",
              "</div>"
            ],
            "text/plain": [
              "                 book_name          author  year\n",
              "0    Wish I Could Tell You    Durjoy Datta  2019\n",
              "1  The One You Cannot Have   Preeti Shenoy  2018\n",
              "2  Will You Still Love Me?  Ravinder Singh  2016\n",
              "3                   Cosmos      Carl Sagan  2017"
            ]
          },
          "metadata": {
            "tags": []
          },
          "execution_count": 41
        }
      ]
    },
    {
      "cell_type": "code",
      "metadata": {
        "id": "IuOYHHGEGruC",
        "colab_type": "code",
        "colab": {
          "base_uri": "https://localhost:8080/",
          "height": 241
        },
        "outputId": "72436617-29f5-4ad3-acf0-8cb125a3ac44"
      },
      "source": [
        "df['genre'] = ['fiction','romance fiction','romance fiction','fiction']\n",
        "df"
      ],
      "execution_count": 49,
      "outputs": [
        {
          "output_type": "execute_result",
          "data": {
            "text/html": [
              "<div>\n",
              "<style scoped>\n",
              "    .dataframe tbody tr th:only-of-type {\n",
              "        vertical-align: middle;\n",
              "    }\n",
              "\n",
              "    .dataframe tbody tr th {\n",
              "        vertical-align: top;\n",
              "    }\n",
              "\n",
              "    .dataframe thead th {\n",
              "        text-align: right;\n",
              "    }\n",
              "</style>\n",
              "<table border=\"1\" class=\"dataframe\">\n",
              "  <thead>\n",
              "    <tr style=\"text-align: right;\">\n",
              "      <th></th>\n",
              "      <th>book_name</th>\n",
              "      <th>author</th>\n",
              "      <th>year</th>\n",
              "      <th>genre</th>\n",
              "    </tr>\n",
              "  </thead>\n",
              "  <tbody>\n",
              "    <tr>\n",
              "      <th>0</th>\n",
              "      <td>Wish I Could Tell You</td>\n",
              "      <td>Durjoy Datta</td>\n",
              "      <td>2019</td>\n",
              "      <td>fiction</td>\n",
              "    </tr>\n",
              "    <tr>\n",
              "      <th>1</th>\n",
              "      <td>The One You Cannot Have</td>\n",
              "      <td>Preeti Shenoy</td>\n",
              "      <td>2018</td>\n",
              "      <td>romance fiction</td>\n",
              "    </tr>\n",
              "    <tr>\n",
              "      <th>2</th>\n",
              "      <td>Will You Still Love Me?</td>\n",
              "      <td>Ravinder Singh</td>\n",
              "      <td>2016</td>\n",
              "      <td>romance fiction</td>\n",
              "    </tr>\n",
              "    <tr>\n",
              "      <th>3</th>\n",
              "      <td>Cosmos</td>\n",
              "      <td>Carl Sagan</td>\n",
              "      <td>2017</td>\n",
              "      <td>fiction</td>\n",
              "    </tr>\n",
              "  </tbody>\n",
              "</table>\n",
              "</div>"
            ],
            "text/plain": [
              "                 book_name          author  year            genre\n",
              "0    Wish I Could Tell You    Durjoy Datta  2019          fiction\n",
              "1  The One You Cannot Have   Preeti Shenoy  2018  romance fiction\n",
              "2  Will You Still Love Me?  Ravinder Singh  2016  romance fiction\n",
              "3                   Cosmos      Carl Sagan  2017          fiction"
            ]
          },
          "metadata": {
            "tags": []
          },
          "execution_count": 49
        }
      ]
    },
    {
      "cell_type": "code",
      "metadata": {
        "id": "eNUTAJFZGr0V",
        "colab_type": "code",
        "colab": {
          "base_uri": "https://localhost:8080/",
          "height": 312
        },
        "outputId": "d7881ee2-2ac5-489c-b228-8fb4da14d742"
      },
      "source": [
        "df['serie_aligned'] =pd.Series(range(4),index=[0,1,2,3])\n",
        "df"
      ],
      "execution_count": 53,
      "outputs": [
        {
          "output_type": "execute_result",
          "data": {
            "text/html": [
              "<div>\n",
              "<style scoped>\n",
              "    .dataframe tbody tr th:only-of-type {\n",
              "        vertical-align: middle;\n",
              "    }\n",
              "\n",
              "    .dataframe tbody tr th {\n",
              "        vertical-align: top;\n",
              "    }\n",
              "\n",
              "    .dataframe thead th {\n",
              "        text-align: right;\n",
              "    }\n",
              "</style>\n",
              "<table border=\"1\" class=\"dataframe\">\n",
              "  <thead>\n",
              "    <tr style=\"text-align: right;\">\n",
              "      <th></th>\n",
              "      <th>book_name</th>\n",
              "      <th>author</th>\n",
              "      <th>year</th>\n",
              "      <th>genre</th>\n",
              "      <th>serie_aligned</th>\n",
              "    </tr>\n",
              "  </thead>\n",
              "  <tbody>\n",
              "    <tr>\n",
              "      <th>0</th>\n",
              "      <td>Wish I Could Tell You</td>\n",
              "      <td>Durjoy Datta</td>\n",
              "      <td>2019</td>\n",
              "      <td>fiction</td>\n",
              "      <td>0</td>\n",
              "    </tr>\n",
              "    <tr>\n",
              "      <th>1</th>\n",
              "      <td>The One You Cannot Have</td>\n",
              "      <td>Preeti Shenoy</td>\n",
              "      <td>2018</td>\n",
              "      <td>romance fiction</td>\n",
              "      <td>1</td>\n",
              "    </tr>\n",
              "    <tr>\n",
              "      <th>2</th>\n",
              "      <td>Will You Still Love Me?</td>\n",
              "      <td>Ravinder Singh</td>\n",
              "      <td>2016</td>\n",
              "      <td>romance fiction</td>\n",
              "      <td>2</td>\n",
              "    </tr>\n",
              "    <tr>\n",
              "      <th>3</th>\n",
              "      <td>Cosmos</td>\n",
              "      <td>Carl Sagan</td>\n",
              "      <td>2017</td>\n",
              "      <td>fiction</td>\n",
              "      <td>3</td>\n",
              "    </tr>\n",
              "  </tbody>\n",
              "</table>\n",
              "</div>"
            ],
            "text/plain": [
              "                 book_name          author  ...            genre serie_aligned\n",
              "0    Wish I Could Tell You    Durjoy Datta  ...          fiction             0\n",
              "1  The One You Cannot Have   Preeti Shenoy  ...  romance fiction             1\n",
              "2  Will You Still Love Me?  Ravinder Singh  ...  romance fiction             2\n",
              "3                   Cosmos      Carl Sagan  ...          fiction             3\n",
              "\n",
              "[4 rows x 5 columns]"
            ]
          },
          "metadata": {
            "tags": []
          },
          "execution_count": 53
        }
      ]
    },
    {
      "cell_type": "code",
      "metadata": {
        "id": "SFXCrO1-Gr3S",
        "colab_type": "code",
        "colab": {
          "base_uri": "https://localhost:8080/",
          "height": 278
        },
        "outputId": "07355eef-5ff1-4feb-9abb-4d6d7bf89965"
      },
      "source": [
        "df.to_dict()"
      ],
      "execution_count": 54,
      "outputs": [
        {
          "output_type": "execute_result",
          "data": {
            "text/plain": [
              "{'author': {0: 'Durjoy Datta',\n",
              "  1: 'Preeti Shenoy',\n",
              "  2: 'Ravinder Singh',\n",
              "  3: 'Carl Sagan'},\n",
              " 'book_name': {0: 'Wish I Could Tell You',\n",
              "  1: 'The One You Cannot Have',\n",
              "  2: 'Will You Still Love Me?',\n",
              "  3: 'Cosmos'},\n",
              " 'genre': {0: 'fiction',\n",
              "  1: 'romance fiction',\n",
              "  2: 'romance fiction',\n",
              "  3: 'fiction'},\n",
              " 'serie_aligned': {0: 0, 1: 1, 2: 2, 3: 3},\n",
              " 'year': {0: 2019, 1: 2018, 2: 2016, 3: 2017}}"
            ]
          },
          "metadata": {
            "tags": []
          },
          "execution_count": 54
        }
      ]
    },
    {
      "cell_type": "code",
      "metadata": {
        "id": "ZljdLnI6Gr6v",
        "colab_type": "code",
        "colab": {
          "base_uri": "https://localhost:8080/",
          "height": 312
        },
        "outputId": "f29da596-aaa7-443f-b4ef-032e679bd1e4"
      },
      "source": [
        "pd.DataFrame(df.to_dict())"
      ],
      "execution_count": 55,
      "outputs": [
        {
          "output_type": "execute_result",
          "data": {
            "text/html": [
              "<div>\n",
              "<style scoped>\n",
              "    .dataframe tbody tr th:only-of-type {\n",
              "        vertical-align: middle;\n",
              "    }\n",
              "\n",
              "    .dataframe tbody tr th {\n",
              "        vertical-align: top;\n",
              "    }\n",
              "\n",
              "    .dataframe thead th {\n",
              "        text-align: right;\n",
              "    }\n",
              "</style>\n",
              "<table border=\"1\" class=\"dataframe\">\n",
              "  <thead>\n",
              "    <tr style=\"text-align: right;\">\n",
              "      <th></th>\n",
              "      <th>book_name</th>\n",
              "      <th>author</th>\n",
              "      <th>year</th>\n",
              "      <th>genre</th>\n",
              "      <th>serie_aligned</th>\n",
              "    </tr>\n",
              "  </thead>\n",
              "  <tbody>\n",
              "    <tr>\n",
              "      <th>0</th>\n",
              "      <td>Wish I Could Tell You</td>\n",
              "      <td>Durjoy Datta</td>\n",
              "      <td>2019</td>\n",
              "      <td>fiction</td>\n",
              "      <td>0</td>\n",
              "    </tr>\n",
              "    <tr>\n",
              "      <th>1</th>\n",
              "      <td>The One You Cannot Have</td>\n",
              "      <td>Preeti Shenoy</td>\n",
              "      <td>2018</td>\n",
              "      <td>romance fiction</td>\n",
              "      <td>1</td>\n",
              "    </tr>\n",
              "    <tr>\n",
              "      <th>2</th>\n",
              "      <td>Will You Still Love Me?</td>\n",
              "      <td>Ravinder Singh</td>\n",
              "      <td>2016</td>\n",
              "      <td>romance fiction</td>\n",
              "      <td>2</td>\n",
              "    </tr>\n",
              "    <tr>\n",
              "      <th>3</th>\n",
              "      <td>Cosmos</td>\n",
              "      <td>Carl Sagan</td>\n",
              "      <td>2017</td>\n",
              "      <td>fiction</td>\n",
              "      <td>3</td>\n",
              "    </tr>\n",
              "  </tbody>\n",
              "</table>\n",
              "</div>"
            ],
            "text/plain": [
              "                 book_name          author  ...            genre serie_aligned\n",
              "0    Wish I Could Tell You    Durjoy Datta  ...          fiction             0\n",
              "1  The One You Cannot Have   Preeti Shenoy  ...  romance fiction             1\n",
              "2  Will You Still Love Me?  Ravinder Singh  ...  romance fiction             2\n",
              "3                   Cosmos      Carl Sagan  ...          fiction             3\n",
              "\n",
              "[4 rows x 5 columns]"
            ]
          },
          "metadata": {
            "tags": []
          },
          "execution_count": 55
        }
      ]
    },
    {
      "cell_type": "code",
      "metadata": {
        "id": "MFt7dvnYGsBa",
        "colab_type": "code",
        "colab": {
          "base_uri": "https://localhost:8080/",
          "height": 271
        },
        "outputId": "185fda23-2ea8-440d-b292-3c5d839e3c12"
      },
      "source": [
        "data = [{'a':i,'b':10*i} for i in range(6)]\n",
        "print(data)\n",
        "pd.DataFrame(data)"
      ],
      "execution_count": 56,
      "outputs": [
        {
          "output_type": "stream",
          "text": [
            "[{'a': 0, 'b': 0}, {'a': 1, 'b': 10}, {'a': 2, 'b': 20}, {'a': 3, 'b': 30}, {'a': 4, 'b': 40}, {'a': 5, 'b': 50}]\n"
          ],
          "name": "stdout"
        },
        {
          "output_type": "execute_result",
          "data": {
            "text/html": [
              "<div>\n",
              "<style scoped>\n",
              "    .dataframe tbody tr th:only-of-type {\n",
              "        vertical-align: middle;\n",
              "    }\n",
              "\n",
              "    .dataframe tbody tr th {\n",
              "        vertical-align: top;\n",
              "    }\n",
              "\n",
              "    .dataframe thead th {\n",
              "        text-align: right;\n",
              "    }\n",
              "</style>\n",
              "<table border=\"1\" class=\"dataframe\">\n",
              "  <thead>\n",
              "    <tr style=\"text-align: right;\">\n",
              "      <th></th>\n",
              "      <th>a</th>\n",
              "      <th>b</th>\n",
              "    </tr>\n",
              "  </thead>\n",
              "  <tbody>\n",
              "    <tr>\n",
              "      <th>0</th>\n",
              "      <td>0</td>\n",
              "      <td>0</td>\n",
              "    </tr>\n",
              "    <tr>\n",
              "      <th>1</th>\n",
              "      <td>1</td>\n",
              "      <td>10</td>\n",
              "    </tr>\n",
              "    <tr>\n",
              "      <th>2</th>\n",
              "      <td>2</td>\n",
              "      <td>20</td>\n",
              "    </tr>\n",
              "    <tr>\n",
              "      <th>3</th>\n",
              "      <td>3</td>\n",
              "      <td>30</td>\n",
              "    </tr>\n",
              "    <tr>\n",
              "      <th>4</th>\n",
              "      <td>4</td>\n",
              "      <td>40</td>\n",
              "    </tr>\n",
              "    <tr>\n",
              "      <th>5</th>\n",
              "      <td>5</td>\n",
              "      <td>50</td>\n",
              "    </tr>\n",
              "  </tbody>\n",
              "</table>\n",
              "</div>"
            ],
            "text/plain": [
              "   a   b\n",
              "0  0   0\n",
              "1  1  10\n",
              "2  2  20\n",
              "3  3  30\n",
              "4  4  40\n",
              "5  5  50"
            ]
          },
          "metadata": {
            "tags": []
          },
          "execution_count": 56
        }
      ]
    },
    {
      "cell_type": "code",
      "metadata": {
        "id": "2UMesP5TGr-4",
        "colab_type": "code",
        "colab": {
          "base_uri": "https://localhost:8080/",
          "height": 110
        },
        "outputId": "d0935c52-fd72-4dd8-b04e-bc3c688bac8b"
      },
      "source": [
        "pd.DataFrame([{'aa':1,'bb':2},{'bb':3,'cc':6}])"
      ],
      "execution_count": 57,
      "outputs": [
        {
          "output_type": "execute_result",
          "data": {
            "text/html": [
              "<div>\n",
              "<style scoped>\n",
              "    .dataframe tbody tr th:only-of-type {\n",
              "        vertical-align: middle;\n",
              "    }\n",
              "\n",
              "    .dataframe tbody tr th {\n",
              "        vertical-align: top;\n",
              "    }\n",
              "\n",
              "    .dataframe thead th {\n",
              "        text-align: right;\n",
              "    }\n",
              "</style>\n",
              "<table border=\"1\" class=\"dataframe\">\n",
              "  <thead>\n",
              "    <tr style=\"text-align: right;\">\n",
              "      <th></th>\n",
              "      <th>aa</th>\n",
              "      <th>bb</th>\n",
              "      <th>cc</th>\n",
              "    </tr>\n",
              "  </thead>\n",
              "  <tbody>\n",
              "    <tr>\n",
              "      <th>0</th>\n",
              "      <td>1.0</td>\n",
              "      <td>2</td>\n",
              "      <td>NaN</td>\n",
              "    </tr>\n",
              "    <tr>\n",
              "      <th>1</th>\n",
              "      <td>NaN</td>\n",
              "      <td>3</td>\n",
              "      <td>6.0</td>\n",
              "    </tr>\n",
              "  </tbody>\n",
              "</table>\n",
              "</div>"
            ],
            "text/plain": [
              "    aa  bb   cc\n",
              "0  1.0   2  NaN\n",
              "1  NaN   3  6.0"
            ]
          },
          "metadata": {
            "tags": []
          },
          "execution_count": 57
        }
      ]
    },
    {
      "cell_type": "code",
      "metadata": {
        "id": "DD2OW7AXGrXF",
        "colab_type": "code",
        "colab": {}
      },
      "source": [
        ""
      ],
      "execution_count": null,
      "outputs": []
    }
  ]
}