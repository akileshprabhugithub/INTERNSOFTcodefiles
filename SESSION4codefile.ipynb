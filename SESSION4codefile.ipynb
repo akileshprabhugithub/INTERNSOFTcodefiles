{
  "nbformat": 4,
  "nbformat_minor": 0,
  "metadata": {
    "colab": {
      "name": "Welcome To Colaboratory",
      "provenance": [],
      "collapsed_sections": [],
      "include_colab_link": true
    },
    "kernelspec": {
      "display_name": "Python 3",
      "name": "python3"
    }
  },
  "cells": [
    {
      "cell_type": "markdown",
      "metadata": {
        "id": "view-in-github",
        "colab_type": "text"
      },
      "source": [
        "<a href=\"https://colab.research.google.com/github/akileshprabhugithub/INTERNSOFTcodefiles/blob/master/SESSION4codefile.ipynb\" target=\"_parent\"><img src=\"https://colab.research.google.com/assets/colab-badge.svg\" alt=\"Open In Colab\"/></a>"
      ]
    },
    {
      "cell_type": "markdown",
      "metadata": {
        "id": "eT2x-r3mjeAn",
        "colab_type": "text"
      },
      "source": [
        ""
      ]
    },
    {
      "cell_type": "code",
      "metadata": {
        "id": "S1t2jFQbjeV_",
        "colab_type": "code",
        "colab": {
          "base_uri": "https://localhost:8080/",
          "height": 71
        },
        "outputId": "66124924-ffac-4d73-9f94-cc93fbf5b345"
      },
      "source": [
        " \n",
        "#creating a class\n",
        "class Person:\n",
        "    pass\n",
        " \n",
        "john_doe = Person()\n",
        "john_doe.name = \"Alec\"\n",
        "john_doe.surname = \"Baldwin\"\n",
        "john_doe.year_of_birth = 1958\n",
        " \n",
        "print (john_doe)\n",
        "print(\"%s %s was born in %d\"%\n",
        "(john_doe.name,john_doe.surname,john_doe.year_of_birth))"
      ],
      "execution_count": 6,
      "outputs": [
        {
          "output_type": "stream",
          "text": [
            "<__main__.Person object at 0x7faff381ec18>\n",
            "Alec Baldwin was born in 1958\n"
          ],
          "name": "stdout"
        }
      ]
    },
    {
      "cell_type": "code",
      "metadata": {
        "id": "L9_HPP8OjebD",
        "colab_type": "code",
        "colab": {}
      },
      "source": [
        "class Person:\n",
        "    def __init__(self,name,surname,year_of_birth):\n",
        "        self.name =name\n",
        "        self.surname = surname\n",
        "        self.year_of_birth = year_of_birth\n",
        "    def __str__(self):\n",
        "        return f\" {self.name} {self.surname} was born in {self.year_of_birth}\""
      ],
      "execution_count": 14,
      "outputs": []
    },
    {
      "cell_type": "code",
      "metadata": {
        "id": "TQ_ao9sZjegk",
        "colab_type": "code",
        "colab": {
          "base_uri": "https://localhost:8080/",
          "height": 34
        },
        "outputId": "f99e4f9c-be67-412e-ec09-a655b78f1aae"
      },
      "source": [
        "alec = Person(\"alec\",\"baldwin\",1958)\n",
        "print(alec)"
      ],
      "execution_count": 15,
      "outputs": [
        {
          "output_type": "stream",
          "text": [
            " alec baldwin was born in 1958\n"
          ],
          "name": "stdout"
        }
      ]
    },
    {
      "cell_type": "markdown",
      "metadata": {
        "id": "Guv3jb1DrTqm",
        "colab_type": "text"
      },
      "source": [
        "methods"
      ]
    },
    {
      "cell_type": "code",
      "metadata": {
        "id": "qrF0p-ZUjel6",
        "colab_type": "code",
        "colab": {
          "base_uri": "https://localhost:8080/",
          "height": 51
        },
        "outputId": "5e5a525c-0f70-418b-d362-3f04932627df"
      },
      "source": [
        "class Person:\n",
        "    def __init__ (self,name,surname,year_of_birth):\n",
        "        self.name = name\n",
        "        self.surname = surname\n",
        "        self.year_of_birth = year_of_birth \n",
        "    def age(self,current_year):\n",
        "        return current_year - self.year_of_birth\n",
        "    def __str__(self):\n",
        "        return f'{self.name} {self.surname} was born in {self.year_of_birth}'\n",
        " \n",
        "alec = Person('akilesh', 'prabhu', 1999)\n",
        "print(alec)\n",
        "print(alec.age(2020))"
      ],
      "execution_count": 23,
      "outputs": [
        {
          "output_type": "stream",
          "text": [
            "akilesh prabhu was born in 1999\n",
            "21\n"
          ],
          "name": "stdout"
        }
      ]
    },
    {
      "cell_type": "markdown",
      "metadata": {
        "id": "aRcoeum9trWz",
        "colab_type": "text"
      },
      "source": [
        "inheritance"
      ]
    },
    {
      "cell_type": "code",
      "metadata": {
        "id": "eTcHmOBejeqL",
        "colab_type": "code",
        "colab": {
          "base_uri": "https://localhost:8080/",
          "height": 86
        },
        "outputId": "e956a6cf-219b-4063-bb2d-067356a13628"
      },
      "source": [
        "class Student(Person):\n",
        "    def __init__(self,student_id,*args,**kwargs):\n",
        "        super(Student,self).__init__(*args,**kwargs)\n",
        "        self.student_id = student_id\n",
        "charlie = Student(1,'charlie','brown',1999)\n",
        "print (charlie)\n",
        "print(type(charlie))\n",
        "print(isinstance(charlie,Person))\n",
        "print(isinstance(charlie,object))"
      ],
      "execution_count": 34,
      "outputs": [
        {
          "output_type": "stream",
          "text": [
            "charlie brown was born in 1999\n",
            "<class '__main__.Student'>\n",
            "True\n",
            "True\n"
          ],
          "name": "stdout"
        }
      ]
    },
    {
      "cell_type": "markdown",
      "metadata": {
        "id": "UR5gz-uFyhBD",
        "colab_type": "text"
      },
      "source": [
        "overriding methods"
      ]
    },
    {
      "cell_type": "code",
      "metadata": {
        "id": "vctEErDojfMv",
        "colab_type": "code",
        "colab": {
          "base_uri": "https://localhost:8080/",
          "height": 54
        },
        "outputId": "83d39a56-5fa8-4259-80ad-e23642827446"
      },
      "source": [
        "class Student(Person):\n",
        "    def __init__ (self, student_id,*args,**kwargs):\n",
        "        super(Student,self).__init__(*args,**kwargs)\n",
        "        self.student_id = student_id\n",
        "    def __str__(self):\n",
        "        return super(Student,self).__str__() + f' and his id is :{self.student_id}'\n",
        "charlie = Student(1,'charlie','brown',1999)\n",
        "print(charlie)"
      ],
      "execution_count": 40,
      "outputs": [
        {
          "output_type": "stream",
          "text": [
            "charlie brown was born in 1999 and his id is :1\n"
          ],
          "name": "stdout"
        }
      ]
    },
    {
      "cell_type": "markdown",
      "metadata": {
        "id": "lQgxFBQU1ChL",
        "colab_type": "text"
      },
      "source": [
        "polymorphism"
      ]
    },
    {
      "cell_type": "code",
      "metadata": {
        "id": "QmrY-Y47jfO_",
        "colab_type": "code",
        "colab": {
          "base_uri": "https://localhost:8080/",
          "height": 69
        },
        "outputId": "9bc7d78b-5271-48f1-b5fc-33b276e50e54"
      },
      "source": [
        "def summer(a,b):\n",
        "    return a+b\n",
        " \n",
        "print(summer(1,1))\n",
        "print(summer(['a','b','c'],['d','e']))\n",
        "print(summer(\"abra\",\"cadabra\"))"
      ],
      "execution_count": 41,
      "outputs": [
        {
          "output_type": "stream",
          "text": [
            "2\n",
            "['a', 'b', 'c', 'd', 'e']\n",
            "abracadabra\n"
          ],
          "name": "stdout"
        }
      ]
    },
    {
      "cell_type": "markdown",
      "metadata": {
        "id": "t1RpEtfa3Zz0",
        "colab_type": "text"
      },
      "source": [
        "ipython writing file"
      ]
    },
    {
      "cell_type": "code",
      "metadata": {
        "id": "B73bF6C9jfS0",
        "colab_type": "code",
        "colab": {
          "base_uri": "https://localhost:8080/",
          "height": 34
        },
        "outputId": "bc06ecba-3448-47e3-e860-26ffa9ec3fc4"
      },
      "source": [
        "%%writefile superman.txt\n",
        "hello, this is a quick superman test file"
      ],
      "execution_count": 42,
      "outputs": [
        {
          "output_type": "stream",
          "text": [
            "Writing superman.txt\n"
          ],
          "name": "stdout"
        }
      ]
    },
    {
      "cell_type": "markdown",
      "metadata": {
        "id": "zg6KzSw6328e",
        "colab_type": "text"
      },
      "source": [
        " python opening a file"
      ]
    },
    {
      "cell_type": "code",
      "metadata": {
        "id": "jXGUSiUCjfYp",
        "colab_type": "code",
        "colab": {
          "base_uri": "https://localhost:8080/",
          "height": 52
        },
        "outputId": "6996be75-3399-499e-9ccf-d31b99160719"
      },
      "source": [
        "my_file = open('superman.txt')\n",
        "my_file.read()"
      ],
      "execution_count": 43,
      "outputs": [
        {
          "output_type": "execute_result",
          "data": {
            "application/vnd.google.colaboratory.intrinsic+json": {
              "type": "string"
            },
            "text/plain": [
              "'hello, this is a quick superman test file'"
            ]
          },
          "metadata": {
            "tags": []
          },
          "execution_count": 43
        }
      ]
    },
    {
      "cell_type": "code",
      "metadata": {
        "id": "wdBBuwZqjffC",
        "colab_type": "code",
        "colab": {
          "base_uri": "https://localhost:8080/",
          "height": 35
        },
        "outputId": "b8dd4511-66dd-40d2-89b2-e21759a28937"
      },
      "source": [
        "my_file.read() #will show nothing as cursor is at the end"
      ],
      "execution_count": 44,
      "outputs": [
        {
          "output_type": "execute_result",
          "data": {
            "application/vnd.google.colaboratory.intrinsic+json": {
              "type": "string"
            },
            "text/plain": [
              "''"
            ]
          },
          "metadata": {
            "tags": []
          },
          "execution_count": 44
        }
      ]
    },
    {
      "cell_type": "code",
      "metadata": {
        "id": "LVDskZ87jflN",
        "colab_type": "code",
        "colab": {
          "base_uri": "https://localhost:8080/",
          "height": 34
        },
        "outputId": "e43bc5eb-d355-4c08-c543-f897b5c21e6e"
      },
      "source": [
        "my_file.seek(0)"
      ],
      "execution_count": 45,
      "outputs": [
        {
          "output_type": "execute_result",
          "data": {
            "text/plain": [
              "0"
            ]
          },
          "metadata": {
            "tags": []
          },
          "execution_count": 45
        }
      ]
    },
    {
      "cell_type": "code",
      "metadata": {
        "id": "QgbiU715jfpG",
        "colab_type": "code",
        "colab": {
          "base_uri": "https://localhost:8080/",
          "height": 52
        },
        "outputId": "00456564-1ab4-437a-d971-23dd33f628d0"
      },
      "source": [
        "my_file.read()"
      ],
      "execution_count": 46,
      "outputs": [
        {
          "output_type": "execute_result",
          "data": {
            "application/vnd.google.colaboratory.intrinsic+json": {
              "type": "string"
            },
            "text/plain": [
              "'hello, this is a quick superman test file'"
            ]
          },
          "metadata": {
            "tags": []
          },
          "execution_count": 46
        }
      ]
    },
    {
      "cell_type": "code",
      "metadata": {
        "id": "o38neZG6jfvc",
        "colab_type": "code",
        "colab": {
          "base_uri": "https://localhost:8080/",
          "height": 34
        },
        "outputId": "aeaf7e43-1030-4a9a-bb21-4a2b5168303e"
      },
      "source": [
        "my_file.readlines()"
      ],
      "execution_count": 48,
      "outputs": [
        {
          "output_type": "execute_result",
          "data": {
            "text/plain": [
              "[]"
            ]
          },
          "metadata": {
            "tags": []
          },
          "execution_count": 48
        }
      ]
    },
    {
      "cell_type": "markdown",
      "metadata": {
        "id": "WETQ-XoH5C2Q",
        "colab_type": "text"
      },
      "source": [
        "writing to a file"
      ]
    },
    {
      "cell_type": "code",
      "metadata": {
        "id": "cw_VpzUPjf1N",
        "colab_type": "code",
        "colab": {}
      },
      "source": [
        "my_file = open('superman.txt', 'w+')"
      ],
      "execution_count": 50,
      "outputs": []
    },
    {
      "cell_type": "code",
      "metadata": {
        "id": "m9GgcuA6jf0e",
        "colab_type": "code",
        "colab": {
          "base_uri": "https://localhost:8080/",
          "height": 34
        },
        "outputId": "fe82b22d-7322-4386-d10b-3de9172fcbce"
      },
      "source": [
        "my_file.write('batman is way better')"
      ],
      "execution_count": 51,
      "outputs": [
        {
          "output_type": "execute_result",
          "data": {
            "text/plain": [
              "20"
            ]
          },
          "metadata": {
            "tags": []
          },
          "execution_count": 51
        }
      ]
    },
    {
      "cell_type": "code",
      "metadata": {
        "id": "KDeuYejfjfyI",
        "colab_type": "code",
        "colab": {
          "base_uri": "https://localhost:8080/",
          "height": 34
        },
        "outputId": "93d2f7a7-a71a-42cd-8d3e-1e56578b953a"
      },
      "source": [
        "my_file.seek(0)"
      ],
      "execution_count": 56,
      "outputs": [
        {
          "output_type": "execute_result",
          "data": {
            "text/plain": [
              "0"
            ]
          },
          "metadata": {
            "tags": []
          },
          "execution_count": 56
        }
      ]
    },
    {
      "cell_type": "code",
      "metadata": {
        "id": "9eYIzktqjfuD",
        "colab_type": "code",
        "colab": {
          "base_uri": "https://localhost:8080/",
          "height": 34
        },
        "outputId": "ef0483f0-921b-4b19-fadc-758b297de2ec"
      },
      "source": [
        "my_file.readlines()"
      ],
      "execution_count": 58,
      "outputs": [
        {
          "output_type": "execute_result",
          "data": {
            "text/plain": [
              "['batman is way better']"
            ]
          },
          "metadata": {
            "tags": []
          },
          "execution_count": 58
        }
      ]
    },
    {
      "cell_type": "markdown",
      "metadata": {
        "id": "2qVCRg_B6D-z",
        "colab_type": "text"
      },
      "source": [
        "iterating through a file"
      ]
    },
    {
      "cell_type": "code",
      "metadata": {
        "id": "pFElNmDHjfsB",
        "colab_type": "code",
        "colab": {
          "base_uri": "https://localhost:8080/",
          "height": 34
        },
        "outputId": "7f0d60fc-bb84-4bf0-c4cb-abbcfe026b3f"
      },
      "source": [
        "%%writefile test.txt\n",
        "first line\n",
        "second line"
      ],
      "execution_count": 59,
      "outputs": [
        {
          "output_type": "stream",
          "text": [
            "Writing test.txt\n"
          ],
          "name": "stdout"
        }
      ]
    },
    {
      "cell_type": "code",
      "metadata": {
        "id": "Xop1muMLjfnc",
        "colab_type": "code",
        "colab": {
          "base_uri": "https://localhost:8080/",
          "height": 69
        },
        "outputId": "5ebff83b-4c9b-46e9-a22b-53a19400f837"
      },
      "source": [
        "for line in open('test.txt'):\n",
        "    print(line)"
      ],
      "execution_count": 61,
      "outputs": [
        {
          "output_type": "stream",
          "text": [
            "first line\n",
            "\n",
            "second line\n"
          ],
          "name": "stdout"
        }
      ]
    },
    {
      "cell_type": "code",
      "metadata": {
        "id": "b-OpVyaHjfji",
        "colab_type": "code",
        "colab": {
          "base_uri": "https://localhost:8080/",
          "height": 69
        },
        "outputId": "7943b6d7-276e-400c-e42a-28888720df24"
      },
      "source": [
        "for fjjds in open ('test.txt'):\n",
        "    print(fjjds)"
      ],
      "execution_count": 62,
      "outputs": [
        {
          "output_type": "stream",
          "text": [
            "first line\n",
            "\n",
            "second line\n"
          ],
          "name": "stdout"
        }
      ]
    },
    {
      "cell_type": "markdown",
      "metadata": {
        "id": "gv4hTniQ6--l",
        "colab_type": "text"
      },
      "source": [
        " string IO"
      ]
    },
    {
      "cell_type": "code",
      "metadata": {
        "id": "zPsH36erjfif",
        "colab_type": "code",
        "colab": {}
      },
      "source": [
        "from io import StringIO"
      ],
      "execution_count": 76,
      "outputs": []
    },
    {
      "cell_type": "code",
      "metadata": {
        "id": "u0NLkh9Ijfd6",
        "colab_type": "code",
        "colab": {}
      },
      "source": [
        "code = 'this is a message '"
      ],
      "execution_count": 77,
      "outputs": []
    },
    {
      "cell_type": "code",
      "metadata": {
        "id": "Sci9yhoXjfb2",
        "colab_type": "code",
        "colab": {}
      },
      "source": [
        "h = StringIO(code)"
      ],
      "execution_count": 78,
      "outputs": []
    },
    {
      "cell_type": "code",
      "metadata": {
        "id": "w36IfCeTjfWz",
        "colab_type": "code",
        "colab": {
          "base_uri": "https://localhost:8080/",
          "height": 35
        },
        "outputId": "900ba1fa-9969-45db-e4dd-7efed8bf000d"
      },
      "source": [
        "h.read()"
      ],
      "execution_count": 79,
      "outputs": [
        {
          "output_type": "execute_result",
          "data": {
            "application/vnd.google.colaboratory.intrinsic+json": {
              "type": "string"
            },
            "text/plain": [
              "'this is a message '"
            ]
          },
          "metadata": {
            "tags": []
          },
          "execution_count": 79
        }
      ]
    },
    {
      "cell_type": "code",
      "metadata": {
        "id": "Z7qaL68LjfVX",
        "colab_type": "code",
        "colab": {
          "base_uri": "https://localhost:8080/",
          "height": 34
        },
        "outputId": "11f74ce9-2a72-438f-a1c2-4f53b6d3e3d6"
      },
      "source": [
        "h.write(' second line written to file like object')"
      ],
      "execution_count": 80,
      "outputs": [
        {
          "output_type": "execute_result",
          "data": {
            "text/plain": [
              "40"
            ]
          },
          "metadata": {
            "tags": []
          },
          "execution_count": 80
        }
      ]
    },
    {
      "cell_type": "code",
      "metadata": {
        "id": "0jFY0q-AjfRi",
        "colab_type": "code",
        "colab": {
          "base_uri": "https://localhost:8080/",
          "height": 34
        },
        "outputId": "d76619c6-4797-440b-e52b-3e0422f17d19"
      },
      "source": [
        "h.seek(0)"
      ],
      "execution_count": 81,
      "outputs": [
        {
          "output_type": "execute_result",
          "data": {
            "text/plain": [
              "0"
            ]
          },
          "metadata": {
            "tags": []
          },
          "execution_count": 81
        }
      ]
    },
    {
      "cell_type": "code",
      "metadata": {
        "id": "6T04rgB-jeoj",
        "colab_type": "code",
        "colab": {
          "base_uri": "https://localhost:8080/",
          "height": 54
        },
        "outputId": "eaab141b-6c96-4a33-f69e-e71d686be82e"
      },
      "source": [
        "h.readlines()"
      ],
      "execution_count": 82,
      "outputs": [
        {
          "output_type": "execute_result",
          "data": {
            "text/plain": [
              "['this is a message  second line written to file like object']"
            ]
          },
          "metadata": {
            "tags": []
          },
          "execution_count": 82
        }
      ]
    },
    {
      "cell_type": "code",
      "metadata": {
        "id": "412m0zdMjekf",
        "colab_type": "code",
        "colab": {
          "base_uri": "https://localhost:8080/",
          "height": 34
        },
        "outputId": "23c353b5-7a90-47bc-d245-a6921b7d308d"
      },
      "source": [
        "h.seek(0)"
      ],
      "execution_count": 83,
      "outputs": [
        {
          "output_type": "execute_result",
          "data": {
            "text/plain": [
              "0"
            ]
          },
          "metadata": {
            "tags": []
          },
          "execution_count": 83
        }
      ]
    },
    {
      "cell_type": "code",
      "metadata": {
        "id": "izkkxJNmjejK",
        "colab_type": "code",
        "colab": {
          "base_uri": "https://localhost:8080/",
          "height": 52
        },
        "outputId": "061d8782-b71d-447d-c5f0-88e727db9dec"
      },
      "source": [
        "h.read()"
      ],
      "execution_count": 84,
      "outputs": [
        {
          "output_type": "execute_result",
          "data": {
            "application/vnd.google.colaboratory.intrinsic+json": {
              "type": "string"
            },
            "text/plain": [
              "'this is a message  second line written to file like object'"
            ]
          },
          "metadata": {
            "tags": []
          },
          "execution_count": 84
        }
      ]
    },
    {
      "cell_type": "code",
      "metadata": {
        "id": "Ag36GQohjede",
        "colab_type": "code",
        "colab": {}
      },
      "source": [
        ""
      ],
      "execution_count": null,
      "outputs": []
    }
  ]
}